{
 "cells": [
  {
   "cell_type": "markdown",
   "metadata": {},
   "source": [
    "# Papermill\n",
    "\n",
    "Link and material:\n",
    "- https://papermill.readthedocs.io/en/latest/\n",
    "- https://towardsdatascience.com/introduction-to-papermill-2c61f66bea30\n",
    "- https://medium.com/capital-fund-management/automated-reports-with-jupyter-notebooks-using-jupytext-and-papermill-619e60c37330\n",
    "- https://medium.com/ai³-theory-practice-business/how-to-build-machine-learning-pipelines-with-airflow-papermill-6baef3832bc6\n",
    "\n"
   ]
  },
  {
   "cell_type": "markdown",
   "metadata": {},
   "source": [
    "Jupyter notebooks are the gold standard for doing exploratory analysis (EDA), protoyping and a great tool for documenting Data Science Project.\n",
    "\n",
    "On problem that emerges when using Jupyter Notebooks to perform repetitive tasks and ETLs is that is lack automation and logging features.  \n",
    "Lack of automation means you would have to open the respective notebook and run it manually whenever needed, and lack of logging that you wouldn't be able to control for possible errors and expections during the execution.\n",
    "\n",
    "Another problem with Jupyter Notebooks is the low engineering level of the notebook and analysis with a instable process."
   ]
  },
  {
   "cell_type": "markdown",
   "metadata": {},
   "source": [
    "## What is Papermill\n"
   ]
  },
  {
   "cell_type": "markdown",
   "metadata": {},
   "source": [
    "**Papermill** is a tool for parameterizing and edecuting Jupyter Notebooks and lets you:\n",
    "- **parameterize** notebooks\n",
    "- **execute** notebooks\n",
    "\n",
    "This opens up new opportunities for how notebooks can be used. For example:\n",
    "- Running a financial report with different values on the first day, on the last day or the beginning of the month. Using parameters maked this task earlier\n",
    "- Do you want to run a notebook and depending on its results, choose a particular notebook to run next? You can programmatically **execute a workflow** without having to copy and paste fro notebook to notebook manually.\n",
    "\n",
    "Pratically it tries to fill the gap of automation and logging by offering a way for us to execute notebooks as files, and also by generating a report for each execution."
   ]
  },
  {
   "cell_type": "markdown",
   "metadata": {},
   "source": [
    "## The Process:\n",
    "\n",
    "1. Data Engineering on the data\n",
    "2. Data Visualization and calculation\n",
    "3. PDF Output\n",
    "\n",
    "Important: To use Papermill please use `Jupyter Notebooks` or `Jupyter Labs`"
   ]
  },
  {
   "cell_type": "markdown",
   "metadata": {},
   "source": [
    "The first thing todo after the library installation is the definition of an ipython kernel where our analysis and reports need to be run\n",
    "\n",
    "```bash\n",
    "pip install ipykernel\n",
    "\n",
    "#or if you are using poetry\n",
    "poetry add ipykernel\n",
    "\n",
    "#Generate a new environment\n",
    "ipython kernel install --user --name=papermill-example\n",
    "```\n",
    "\n",
    "Then you can create a workflow of your analysis\n",
    "\n"
   ]
  },
  {
   "cell_type": "markdown",
   "metadata": {},
   "source": [
    "### Configure notebook for Papermill\n",
    "\n",
    "With papermill it's very important also to configure your `Jupyter Notebook` or `Jupyter Lab` instance to accept incoming parameters.\n",
    "\n",
    "In the input parameter cell, where you want to use papermill, on `cell metadata` inside the advance tools of the jupyter notebook file write the following description:\n",
    "```json\n",
    "{\n",
    "    \"tags\": [\n",
    "        \"parameters\"\n",
    "    ]\n",
    "}\n",
    "```\n",
    "\n",
    "Or in Jupyter Lab click on the button `add tag` adding the tag: `parameters`\n",
    "\n",
    "![Example of Jupyter Lab Advance tools](jupyter-lab-advance-tools.png)"
   ]
  },
  {
   "cell_type": "markdown",
   "metadata": {},
   "source": [
    "### Ipython Kernel Help\n",
    "\n",
    "when you installed a new library be carefull because probably you are using a kernel without the library installed\n",
    "\n",
    "**Create an ipython kernel**  \n",
    "`ipython kernel install --user --name=papermill-example`\n",
    "\n",
    "**Visualize ipython kernel installed**  \n",
    "`jupyter kernelspec list`\n",
    "\n",
    "**Delete an ipython kernel**  \n",
    "`jupyter kernelspec uninstall papermill-example`\n"
   ]
  },
  {
   "cell_type": "markdown",
   "metadata": {},
   "source": [
    "### Launch a Notebook with papermill\n",
    "\n",
    "To launch the notebook with papermill use this command on terminal:\n",
    "\n",
    "`papermill ./notebooks/generate_report.ipynb ./notebooks/generate_report_output.ipynb -p analysis \"listings\"`\n",
    "\n",
    "`papermill <input_notebook> <output_notebook> -p <parameter_name> <parameter_value> -p <second_p_n> <second_p_value>`"
   ]
  },
  {
   "cell_type": "markdown",
   "metadata": {},
   "source": [
    "**Warning**: i don't know why, but the interface with python file (.py) don't work cause a circul import in the library"
   ]
  }
 ],
 "metadata": {
  "kernelspec": {
   "display_name": "Python 3.8.7 64-bit ('.venv': venv)",
   "name": "python387jvsc74a57bd05b372b00c03daff2ab7ee6c081802c5f79177814893174794dde7e1fa9778477"
  },
  "language_info": {
   "name": "python",
   "version": ""
  },
  "orig_nbformat": 2
 },
 "nbformat": 4,
 "nbformat_minor": 2
}