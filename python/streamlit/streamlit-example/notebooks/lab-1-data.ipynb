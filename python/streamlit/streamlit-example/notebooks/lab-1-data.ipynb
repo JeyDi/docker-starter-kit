{
 "cells": [
  {
   "cell_type": "markdown",
   "metadata": {},
   "source": [
    "# Common Functions \n",
    "\n",
    "Importiamo e puliamo i dati in un unico notebook.\n",
    "\n",
    "Comodo per non dover tutte le volte rifare la stessa cosa\n",
    "\n",
    "- Import dei dati\n",
    "  - listings\n",
    "  - reviews\n",
    "  - calendar\n",
    "- Pulizia dei dati\n",
    "- Salvataggio finale"
   ]
  },
  {
   "cell_type": "code",
   "execution_count": 27,
   "metadata": {},
   "outputs": [],
   "source": [
    "import pandas as pd\n",
    "import numpy as np\n",
    "import os"
   ]
  },
  {
   "cell_type": "code",
   "execution_count": 28,
   "metadata": {},
   "outputs": [],
   "source": [
    "#Check Dataframe Utility function\n",
    "def check_df(dataframe, sample=False):\n",
    "    \n",
    "    print(f\"Dataframe Shape: {dataframe.shape} with rows: {dataframe.shape[0]} and columns: {dataframe.shape[1]}\")\n",
    "    print(f\"\\nDF Columns: \\n{list(dataframe.columns)}\")\n",
    "    if sample == True:\n",
    "        print(f\"\\nData:\\n{dataframe.head(5)}\")\n",
    "    \n",
    "    return None\n",
    "    "
   ]
  },
  {
   "cell_type": "markdown",
   "metadata": {},
   "source": [
    "# Import dei dati"
   ]
  },
  {
   "cell_type": "code",
   "execution_count": 29,
   "metadata": {},
   "outputs": [],
   "source": [
    "folder_path = os.path.abspath(\"..\")\n",
    "data_dir = 'dataset/rome-airbnb'\n",
    "\n",
    "#listings\n",
    "filename_listings = 'listings.csv'\n",
    "filepath_listings = os.path.join(folder_path, data_dir, filename_listings)\n",
    "\n",
    "#reviews\n",
    "filename_reviews = 'reviews.csv'\n",
    "filepath_reviews = os.path.join(folder_path, data_dir, filename_reviews)\n",
    "\n",
    "#calendar\n",
    "filename_calendar = 'calendar.csv'\n",
    "filepath_calendar = os.path.join(folder_path, data_dir, filename_calendar)\n"
   ]
  },
  {
   "cell_type": "markdown",
   "metadata": {},
   "source": [
    "### Import Listings"
   ]
  },
  {
   "cell_type": "code",
   "execution_count": 30,
   "metadata": {},
   "outputs": [
    {
     "name": "stdout",
     "output_type": "stream",
     "text": [
      "Dataframe Shape: (3818, 92) with rows: 3818 and columns: 92\n",
      "\n",
      "DF Columns: \n",
      "['id', 'listing_url', 'scrape_id', 'last_scraped', 'name', 'summary', 'space', 'description', 'experiences_offered', 'neighborhood_overview', 'notes', 'transit', 'thumbnail_url', 'medium_url', 'picture_url', 'xl_picture_url', 'host_id', 'host_url', 'host_name', 'host_since', 'host_location', 'host_about', 'host_response_time', 'host_response_rate', 'host_acceptance_rate', 'host_is_superhost', 'host_thumbnail_url', 'host_picture_url', 'host_neighbourhood', 'host_listings_count', 'host_total_listings_count', 'host_verifications', 'host_has_profile_pic', 'host_identity_verified', 'street', 'neighbourhood', 'neighbourhood_cleansed', 'neighbourhood_group_cleansed', 'city', 'state', 'zipcode', 'market', 'smart_location', 'country_code', 'country', 'latitude', 'longitude', 'is_location_exact', 'property_type', 'room_type', 'accommodates', 'bathrooms', 'bedrooms', 'beds', 'bed_type', 'amenities', 'square_feet', 'price', 'weekly_price', 'monthly_price', 'security_deposit', 'cleaning_fee', 'guests_included', 'extra_people', 'minimum_nights', 'maximum_nights', 'calendar_updated', 'has_availability', 'availability_30', 'availability_60', 'availability_90', 'availability_365', 'calendar_last_scraped', 'number_of_reviews', 'first_review', 'last_review', 'review_scores_rating', 'review_scores_accuracy', 'review_scores_cleanliness', 'review_scores_checkin', 'review_scores_communication', 'review_scores_location', 'review_scores_value', 'requires_license', 'license', 'jurisdiction_names', 'instant_bookable', 'cancellation_policy', 'require_guest_profile_picture', 'require_guest_phone_verification', 'calculated_host_listings_count', 'reviews_per_month']\n",
      "CPU times: user 185 ms, sys: 26.7 ms, total: 212 ms\n",
      "Wall time: 213 ms\n"
     ]
    }
   ],
   "source": [
    "%%time\n",
    "#Import listings\n",
    "listings_raw = pd.read_csv(filepath_listings)\n",
    "check_df(listings_raw)"
   ]
  },
  {
   "cell_type": "markdown",
   "metadata": {},
   "source": [
    "### Import Reviews"
   ]
  },
  {
   "cell_type": "code",
   "execution_count": 31,
   "metadata": {},
   "outputs": [
    {
     "name": "stdout",
     "output_type": "stream",
     "text": [
      "CPU times: user 2 µs, sys: 0 ns, total: 2 µs\n",
      "Wall time: 4.29 µs\n",
      "Dataframe Shape: (84849, 6) with rows: 84849 and columns: 6\n",
      "\n",
      "DF Columns: \n",
      "['listing_id', 'id', 'date', 'reviewer_id', 'reviewer_name', 'comments']\n"
     ]
    }
   ],
   "source": [
    "%time\n",
    "#Import reviews\n",
    "sample_dim = 100000\n",
    "\n",
    "reviews_raw = pd.read_csv(filepath_reviews).head(sample_dim)\n",
    "check_df(reviews_raw)"
   ]
  },
  {
   "cell_type": "markdown",
   "metadata": {},
   "source": [
    "### Import Calendar"
   ]
  },
  {
   "cell_type": "code",
   "execution_count": 32,
   "metadata": {},
   "outputs": [
    {
     "name": "stdout",
     "output_type": "stream",
     "text": [
      "CPU times: user 3 µs, sys: 0 ns, total: 3 µs\n",
      "Wall time: 4.77 µs\n",
      "Dataframe Shape: (100000, 4) with rows: 100000 and columns: 4\n",
      "\n",
      "DF Columns: \n",
      "['listing_id', 'date', 'available', 'price']\n"
     ]
    }
   ],
   "source": [
    "%time\n",
    "calendar_raw = pd.read_csv(filepath_calendar).head(sample_dim)\n",
    "check_df(calendar_raw)"
   ]
  },
  {
   "cell_type": "markdown",
   "metadata": {},
   "source": [
    "# Pulizia Dati"
   ]
  },
  {
   "cell_type": "markdown",
   "metadata": {},
   "source": [
    "## Pulizia Listings"
   ]
  },
  {
   "cell_type": "code",
   "execution_count": 33,
   "metadata": {},
   "outputs": [
    {
     "data": {
      "text/html": "<div>\n<style scoped>\n    .dataframe tbody tr th:only-of-type {\n        vertical-align: middle;\n    }\n\n    .dataframe tbody tr th {\n        vertical-align: top;\n    }\n\n    .dataframe thead th {\n        text-align: right;\n    }\n</style>\n<table border=\"1\" class=\"dataframe\">\n  <thead>\n    <tr style=\"text-align: right;\">\n      <th></th>\n      <th>id</th>\n      <th>name</th>\n      <th>longitude</th>\n      <th>latitude</th>\n      <th>listing_url</th>\n      <th>instant_bookable</th>\n      <th>host_response_time</th>\n      <th>review_scores_rating</th>\n      <th>property_type</th>\n      <th>room_type</th>\n      <th>accommodates</th>\n      <th>bathrooms</th>\n      <th>bedrooms</th>\n      <th>beds</th>\n      <th>reviews_per_month</th>\n      <th>amenities</th>\n      <th>number_of_reviews</th>\n      <th>price</th>\n    </tr>\n  </thead>\n  <tbody>\n    <tr>\n      <th>0</th>\n      <td>241032</td>\n      <td>Stylish Queen Anne Apartment</td>\n      <td>-122.371025</td>\n      <td>47.636289</td>\n      <td>https://www.airbnb.com/rooms/241032</td>\n      <td>f</td>\n      <td>within a few hours</td>\n      <td>95.0</td>\n      <td>Apartment</td>\n      <td>Entire home/apt</td>\n      <td>4</td>\n      <td>1.0</td>\n      <td>1.0</td>\n      <td>1.0</td>\n      <td>4.07</td>\n      <td>{TV,\"Cable TV\",Internet,\"Wireless Internet\",\"A...</td>\n      <td>207</td>\n      <td>$85.00</td>\n    </tr>\n    <tr>\n      <th>1</th>\n      <td>953595</td>\n      <td>Bright &amp; Airy Queen Anne Apartment</td>\n      <td>-122.365666</td>\n      <td>47.639123</td>\n      <td>https://www.airbnb.com/rooms/953595</td>\n      <td>f</td>\n      <td>within an hour</td>\n      <td>96.0</td>\n      <td>Apartment</td>\n      <td>Entire home/apt</td>\n      <td>4</td>\n      <td>1.0</td>\n      <td>1.0</td>\n      <td>1.0</td>\n      <td>1.48</td>\n      <td>{TV,Internet,\"Wireless Internet\",Kitchen,\"Free...</td>\n      <td>43</td>\n      <td>$150.00</td>\n    </tr>\n    <tr>\n      <th>2</th>\n      <td>3308979</td>\n      <td>New Modern House-Amazing water view</td>\n      <td>-122.369483</td>\n      <td>47.629724</td>\n      <td>https://www.airbnb.com/rooms/3308979</td>\n      <td>f</td>\n      <td>within a few hours</td>\n      <td>97.0</td>\n      <td>House</td>\n      <td>Entire home/apt</td>\n      <td>11</td>\n      <td>4.5</td>\n      <td>5.0</td>\n      <td>7.0</td>\n      <td>1.15</td>\n      <td>{TV,\"Cable TV\",Internet,\"Wireless Internet\",\"A...</td>\n      <td>20</td>\n      <td>$975.00</td>\n    </tr>\n    <tr>\n      <th>3</th>\n      <td>7421966</td>\n      <td>Queen Anne Chateau</td>\n      <td>-122.369279</td>\n      <td>47.638473</td>\n      <td>https://www.airbnb.com/rooms/7421966</td>\n      <td>f</td>\n      <td>NaN</td>\n      <td>NaN</td>\n      <td>Apartment</td>\n      <td>Entire home/apt</td>\n      <td>3</td>\n      <td>1.0</td>\n      <td>0.0</td>\n      <td>2.0</td>\n      <td>NaN</td>\n      <td>{Internet,\"Wireless Internet\",Kitchen,\"Indoor ...</td>\n      <td>0</td>\n      <td>$100.00</td>\n    </tr>\n    <tr>\n      <th>4</th>\n      <td>278830</td>\n      <td>Charming craftsman 3 bdm house</td>\n      <td>-122.372471</td>\n      <td>47.632918</td>\n      <td>https://www.airbnb.com/rooms/278830</td>\n      <td>f</td>\n      <td>within an hour</td>\n      <td>92.0</td>\n      <td>House</td>\n      <td>Entire home/apt</td>\n      <td>6</td>\n      <td>2.0</td>\n      <td>3.0</td>\n      <td>3.0</td>\n      <td>0.89</td>\n      <td>{TV,\"Cable TV\",Internet,\"Wireless Internet\",Ki...</td>\n      <td>38</td>\n      <td>$450.00</td>\n    </tr>\n  </tbody>\n</table>\n</div>",
      "text/plain": "        id                                 name   longitude   latitude  \\\n0   241032         Stylish Queen Anne Apartment -122.371025  47.636289   \n1   953595   Bright & Airy Queen Anne Apartment -122.365666  47.639123   \n2  3308979  New Modern House-Amazing water view -122.369483  47.629724   \n3  7421966                   Queen Anne Chateau -122.369279  47.638473   \n4   278830       Charming craftsman 3 bdm house -122.372471  47.632918   \n\n                            listing_url instant_bookable  host_response_time  \\\n0   https://www.airbnb.com/rooms/241032                f  within a few hours   \n1   https://www.airbnb.com/rooms/953595                f      within an hour   \n2  https://www.airbnb.com/rooms/3308979                f  within a few hours   \n3  https://www.airbnb.com/rooms/7421966                f                 NaN   \n4   https://www.airbnb.com/rooms/278830                f      within an hour   \n\n   review_scores_rating property_type        room_type  accommodates  \\\n0                  95.0     Apartment  Entire home/apt             4   \n1                  96.0     Apartment  Entire home/apt             4   \n2                  97.0         House  Entire home/apt            11   \n3                   NaN     Apartment  Entire home/apt             3   \n4                  92.0         House  Entire home/apt             6   \n\n   bathrooms  bedrooms  beds  reviews_per_month  \\\n0        1.0       1.0   1.0               4.07   \n1        1.0       1.0   1.0               1.48   \n2        4.5       5.0   7.0               1.15   \n3        1.0       0.0   2.0                NaN   \n4        2.0       3.0   3.0               0.89   \n\n                                           amenities  number_of_reviews  \\\n0  {TV,\"Cable TV\",Internet,\"Wireless Internet\",\"A...                207   \n1  {TV,Internet,\"Wireless Internet\",Kitchen,\"Free...                 43   \n2  {TV,\"Cable TV\",Internet,\"Wireless Internet\",\"A...                 20   \n3  {Internet,\"Wireless Internet\",Kitchen,\"Indoor ...                  0   \n4  {TV,\"Cable TV\",Internet,\"Wireless Internet\",Ki...                 38   \n\n     price  \n0   $85.00  \n1  $150.00  \n2  $975.00  \n3  $100.00  \n4  $450.00  "
     },
     "execution_count": 33,
     "metadata": {},
     "output_type": "execute_result"
    }
   ],
   "source": [
    "# Selezioniamo solo alcune delle colonne\n",
    "listings = listings_raw[[\n",
    "    'id','name','longitude','latitude',\n",
    "    'listing_url',\n",
    "    'instant_bookable',\n",
    "    'host_response_time',\n",
    "    'review_scores_rating',\n",
    "    'property_type',\n",
    "    'room_type','accommodates',\n",
    "    'bathrooms','bedrooms','beds','reviews_per_month','amenities',\n",
    "    'number_of_reviews',\n",
    "    'price'\n",
    "  ]]\n",
    "listings.head()"
   ]
  },
  {
   "cell_type": "markdown",
   "metadata": {},
   "source": [
    "Price da stringa a numero reale"
   ]
  },
  {
   "cell_type": "code",
   "execution_count": 34,
   "metadata": {},
   "outputs": [
    {
     "data": {
      "text/html": "<div>\n<style scoped>\n    .dataframe tbody tr th:only-of-type {\n        vertical-align: middle;\n    }\n\n    .dataframe tbody tr th {\n        vertical-align: top;\n    }\n\n    .dataframe thead th {\n        text-align: right;\n    }\n</style>\n<table border=\"1\" class=\"dataframe\">\n  <thead>\n    <tr style=\"text-align: right;\">\n      <th></th>\n      <th>price</th>\n    </tr>\n  </thead>\n  <tbody>\n    <tr>\n      <th>0</th>\n      <td>85.0</td>\n    </tr>\n    <tr>\n      <th>1</th>\n      <td>150.0</td>\n    </tr>\n    <tr>\n      <th>2</th>\n      <td>975.0</td>\n    </tr>\n    <tr>\n      <th>3</th>\n      <td>100.0</td>\n    </tr>\n    <tr>\n      <th>4</th>\n      <td>450.0</td>\n    </tr>\n    <tr>\n      <th>...</th>\n      <td>...</td>\n    </tr>\n    <tr>\n      <th>3813</th>\n      <td>359.0</td>\n    </tr>\n    <tr>\n      <th>3814</th>\n      <td>79.0</td>\n    </tr>\n    <tr>\n      <th>3815</th>\n      <td>93.0</td>\n    </tr>\n    <tr>\n      <th>3816</th>\n      <td>99.0</td>\n    </tr>\n    <tr>\n      <th>3817</th>\n      <td>87.0</td>\n    </tr>\n  </tbody>\n</table>\n<p>3818 rows × 1 columns</p>\n</div>",
      "text/plain": "      price\n0      85.0\n1     150.0\n2     975.0\n3     100.0\n4     450.0\n...     ...\n3813  359.0\n3814   79.0\n3815   93.0\n3816   99.0\n3817   87.0\n\n[3818 rows x 1 columns]"
     },
     "execution_count": 34,
     "metadata": {},
     "output_type": "execute_result"
    }
   ],
   "source": [
    "@np.vectorize\n",
    "def remove_dollar(label: str):\n",
    "    return float(label.replace('$','').replace(',',''))\n",
    "\n",
    "#listings['price'] = remove_dollar(listings['price'])\n",
    "listings = listings.assign(price = remove_dollar(listings.price))\n",
    "listings[['price']]"
   ]
  },
  {
   "cell_type": "markdown",
   "metadata": {},
   "source": [
    "## Pulizia Reviews"
   ]
  },
  {
   "cell_type": "code",
   "execution_count": 35,
   "metadata": {},
   "outputs": [],
   "source": [
    "#Date to datetime\n",
    "reviews = reviews_raw.assign(date = pd.to_datetime(reviews_raw['date']))"
   ]
  },
  {
   "cell_type": "markdown",
   "metadata": {},
   "source": [
    "Creazione delle variabili mese e anno"
   ]
  },
  {
   "cell_type": "code",
   "execution_count": 36,
   "metadata": {},
   "outputs": [
    {
     "data": {
      "text/plain": "(84849, 8)"
     },
     "execution_count": 36,
     "metadata": {},
     "output_type": "execute_result"
    }
   ],
   "source": [
    "%timeit\n",
    "reviews['year'] = reviews['date'].dt.year\n",
    "reviews['month'] = reviews['date'].dt.month\n",
    "reviews = reviews.sort_values(['year', 'month'], ascending=False)\n",
    "reviews.shape"
   ]
  },
  {
   "cell_type": "markdown",
   "metadata": {},
   "source": [
    "## Pulizia Calendar"
   ]
  },
  {
   "cell_type": "code",
   "execution_count": 38,
   "metadata": {},
   "outputs": [],
   "source": [
    "calendar = calendar_raw.assign(date = pd.to_datetime(calendar_raw['date']))"
   ]
  },
  {
   "cell_type": "markdown",
   "metadata": {},
   "source": [
    "Preparazione del prezzo"
   ]
  },
  {
   "cell_type": "code",
   "execution_count": 39,
   "metadata": {},
   "outputs": [
    {
     "name": "stderr",
     "output_type": "stream",
     "text": [
      "<ipython-input-39-02d0a99647a5>:2: FutureWarning: The default value of regex will change from True to False in a future version. In addition, single character regular expressions will*not* be treated as literal strings when regex=True.\n",
      "  price          = pd.to_numeric(calendar.price.str.replace('$','').str.replace(',','')),\n"
     ]
    }
   ],
   "source": [
    "calendar = calendar.assign(\n",
    "        price          = pd.to_numeric(calendar.price.str.replace('$','').str.replace(',','')),\n",
    "        # adjusted_price = pd.to_numeric(calendar.adjusted_price.str.replace('$','').str.replace(',','')),\n",
    "    )"
   ]
  },
  {
   "cell_type": "code",
   "execution_count": null,
   "metadata": {},
   "outputs": [],
   "source": [
    "%timeit\n",
    "calendar['year'] = pd.DatetimeIndex(calendar['date']).year\n",
    "calendar['month'] = pd.DatetimeIndex(calendar['date']).month\n",
    "calendar = calendar.sort_values(['year', 'month'], ascending=False)\n",
    "calendar.shape"
   ]
  },
  {
   "cell_type": "markdown",
   "metadata": {},
   "source": [
    "Mappatura dei valori logici"
   ]
  },
  {
   "cell_type": "code",
   "execution_count": 40,
   "metadata": {},
   "outputs": [],
   "source": [
    "calendar['available'] = calendar.available.map({\n",
    "    't': True,\n",
    "    'f': False\n",
    "})"
   ]
  },
  {
   "cell_type": "markdown",
   "metadata": {},
   "source": [
    "# Final Export"
   ]
  },
  {
   "cell_type": "markdown",
   "metadata": {},
   "source": [
    "Export finale dei dati e salvataggio"
   ]
  },
  {
   "cell_type": "code",
   "execution_count": 44,
   "metadata": {},
   "outputs": [
    {
     "name": "stdout",
     "output_type": "stream",
     "text": [
      "\n",
      "---Cleaning and Parsing of the data Completed---\n",
      "\n",
      "Listing parsed and saved with name: df_listing\n",
      "Review parsed and saved with name: df_review\n",
      "Calendar parsed and saved with name: df_calendar\n"
     ]
    }
   ],
   "source": [
    "df_listing = listings.copy()\n",
    "df_review = reviews.copy()\n",
    "df_calendar = calendar.copy()\n",
    "\n",
    "print(\"\\n---Cleaning and Parsing of the data Completed---\\n\")\n",
    "print(f\"Listing parsed and saved with name: df_listing\")\n",
    "print(f\"Review parsed and saved with name: df_review\")\n",
    "print(f\"Calendar parsed and saved with name: df_calendar\")"
   ]
  }
 ],
 "metadata": {
  "kernelspec": {
   "display_name": "Python 3.8.7 64-bit ('.venv': venv)",
   "language": "python",
   "name": "python387jvsc74a57bd05b372b00c03daff2ab7ee6c081802c5f79177814893174794dde7e1fa9778477"
  },
  "language_info": {
   "name": "python",
   "version": ""
  },
  "orig_nbformat": 2
 },
 "nbformat": 4,
 "nbformat_minor": 2
}