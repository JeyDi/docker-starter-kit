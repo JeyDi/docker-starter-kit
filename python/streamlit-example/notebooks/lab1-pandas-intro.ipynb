{
 "cells": [
  {
   "cell_type": "markdown",
   "metadata": {
    "id": "FPFd8KqvU5U7"
   },
   "source": [
    "# Python Introduction\n",
    "\n",
    "Introduction notebook with a quick recap of Pandas functionalities for data manipulation\n",
    "\n",
    "Link and useful material\n",
    "- Pandas documentation: https://pandas.pydata.org/docs/user_guide/index.html#user-guide\n",
    "- Numpy documentation: https://numpy.org/devdocs/user/index.html\n",
    "- Pandas cheatsheet: https://pandas.pydata.org/Pandas_Cheat_Sheet.pdf\n",
    "- Numpy cheatsheet: https://s3.amazonaws.com/assets.datacamp.com/blog_assets/Numpy_Python_Cheat_Sheet.pdf\n",
    "- Useful Python Tips and notes: https://chrisalbon.com/\n",
    "- Useful Book (Python Data Science Handbook): https://jakevdp.github.io/PythonDataScienceHandbook/"
   ]
  },
  {
   "cell_type": "markdown",
   "metadata": {
    "id": "arB6gxMgVES7"
   },
   "source": [
    "# Google Colab\n",
    "\n",
    "For this lesson we will use Google Colab as main tool.\n",
    "\n",
    "Colaboratory, or \"Colab\" for short, allows you to write and execute Python in your browser, with\n",
    "\n",
    "- Zero configuration required\n",
    "- Free access to GPUs\n",
    "- Easy sharing\n",
    "Whether you're a student, a data scientist or an AI researcher, Colab can make your work easier. Watch Introduction to Colab to learn more, or just get started below!\n",
    "\n",
    "\n",
    "Official Google Notebook with documentation: https://colab.research.google.com/notebooks/intro.ipynb#"
   ]
  },
  {
   "cell_type": "markdown",
   "metadata": {},
   "source": [
    "## Working with Data on Colab\n",
    "\n",
    "There are 2 ways to upload and use your data on Google Colab.\n",
    "- Mounting a folder (hard way)\n",
    "- Upload directly your data (simple way)\n"
   ]
  },
  {
   "cell_type": "markdown",
   "metadata": {},
   "source": [
    "### Mounting a folder \n",
    "To mount a folder you must go through Google Drive, that is, mount a virtual folder in your cloud.\n",
    "To do this you must click on the folder symbol that is in the vertical bar on the left (wait a few moments) then click on the icon: \"Mount Drive\".\n",
    "\n",
    "After that you will be asked to launch the cell below, press the Play button on the left.\n",
    "\n",
    "Give permissions to access your Drive, copy the code you see on the page and paste it into the cell just launched and press the Enter key.\n",
    "\n",
    "By doing so, your Google Drive will be mounted virtually inside this notebook.\n",
    "\n",
    "Every time you open a new notebook you will need to do this operation.\n",
    "\n",
    "To import a new file: Navigate to the file you want to import using the menu on the left, right click on it and do: \"copy path\". \n",
    "\n",
    "Now you are able to paste the file path into your code, which we will see later is the way to access it conveniently."
   ]
  },
  {
   "cell_type": "code",
   "execution_count": 2,
   "metadata": {
    "id": "gKkRbOQdWHzJ"
   },
   "outputs": [
    {
     "output_type": "error",
     "ename": "ModuleNotFoundError",
     "evalue": "No module named 'google'",
     "traceback": [
      "\u001b[0;31m---------------------------------------------------------------------------\u001b[0m",
      "\u001b[0;31mModuleNotFoundError\u001b[0m                       Traceback (most recent call last)",
      "\u001b[0;32m<ipython-input-2-d5df0069828e>\u001b[0m in \u001b[0;36m<module>\u001b[0;34m\u001b[0m\n\u001b[0;32m----> 1\u001b[0;31m \u001b[0;32mfrom\u001b[0m \u001b[0mgoogle\u001b[0m\u001b[0;34m.\u001b[0m\u001b[0mcolab\u001b[0m \u001b[0;32mimport\u001b[0m \u001b[0mdrive\u001b[0m\u001b[0;34m\u001b[0m\u001b[0;34m\u001b[0m\u001b[0m\n\u001b[0m\u001b[1;32m      2\u001b[0m \u001b[0mdrive\u001b[0m\u001b[0;34m.\u001b[0m\u001b[0mmount\u001b[0m\u001b[0;34m(\u001b[0m\u001b[0;34m'/content/drive'\u001b[0m\u001b[0;34m)\u001b[0m\u001b[0;34m\u001b[0m\u001b[0;34m\u001b[0m\u001b[0m\n",
      "\u001b[0;31mModuleNotFoundError\u001b[0m: No module named 'google'"
     ]
    }
   ],
   "source": [
    "from google.colab import drive\n",
    "drive.mount('/content/drive')"
   ]
  },
  {
   "cell_type": "markdown",
   "metadata": {
    "id": "_WKN1T6VWJiT"
   },
   "source": [
    "### Upload directly your Data\n",
    "\n",
    "An easier way to use data is to import it directly from your operating system.\n",
    "\n",
    "There are two ways to perform this procedure:\n",
    "1. Run the following code to launch the file import by hand\n",
    "2. Press on the folder icon in the left sidebar of Google Colab and drag the files, or do right click: upload\n",
    "\n",
    "We will use this example when we look at the data and Pandas related part."
   ]
  },
  {
   "cell_type": "code",
   "execution_count": 4,
   "metadata": {
    "id": "CsPAr7_QWNpX"
   },
   "outputs": [
    {
     "output_type": "error",
     "ename": "ModuleNotFoundError",
     "evalue": "No module named 'google'",
     "traceback": [
      "\u001b[0;31m---------------------------------------------------------------------------\u001b[0m",
      "\u001b[0;31mModuleNotFoundError\u001b[0m                       Traceback (most recent call last)",
      "\u001b[0;32m<ipython-input-4-21dc3c638f66>\u001b[0m in \u001b[0;36m<module>\u001b[0;34m\u001b[0m\n\u001b[0;32m----> 1\u001b[0;31m \u001b[0;32mfrom\u001b[0m \u001b[0mgoogle\u001b[0m\u001b[0;34m.\u001b[0m\u001b[0mcolab\u001b[0m \u001b[0;32mimport\u001b[0m \u001b[0mfiles\u001b[0m\u001b[0;34m\u001b[0m\u001b[0;34m\u001b[0m\u001b[0m\n\u001b[0m\u001b[1;32m      2\u001b[0m \u001b[0muploaded\u001b[0m \u001b[0;34m=\u001b[0m \u001b[0mfiles\u001b[0m\u001b[0;34m.\u001b[0m\u001b[0mupload\u001b[0m\u001b[0;34m(\u001b[0m\u001b[0;34m)\u001b[0m\u001b[0;34m\u001b[0m\u001b[0;34m\u001b[0m\u001b[0m\n",
      "\u001b[0;31mModuleNotFoundError\u001b[0m: No module named 'google'"
     ]
    }
   ],
   "source": [
    "from google.colab import files\n",
    "uploaded = files.upload()"
   ]
  },
  {
   "cell_type": "markdown",
   "metadata": {
    "id": "Q4rLzQXGWQCU"
   },
   "source": [
    "To download a file uploaded from the Google Colab space you'll need to run the following code"
   ]
  },
  {
   "cell_type": "code",
   "execution_count": 5,
   "metadata": {
    "id": "66JdFnZxWQa9"
   },
   "outputs": [
    {
     "output_type": "error",
     "ename": "ModuleNotFoundError",
     "evalue": "No module named 'google'",
     "traceback": [
      "\u001b[0;31m---------------------------------------------------------------------------\u001b[0m",
      "\u001b[0;31mModuleNotFoundError\u001b[0m                       Traceback (most recent call last)",
      "\u001b[0;32m<ipython-input-5-c6814fbb09d8>\u001b[0m in \u001b[0;36m<module>\u001b[0;34m\u001b[0m\n\u001b[0;32m----> 1\u001b[0;31m \u001b[0;32mfrom\u001b[0m \u001b[0mgoogle\u001b[0m\u001b[0;34m.\u001b[0m\u001b[0mcolab\u001b[0m \u001b[0;32mimport\u001b[0m \u001b[0mfiles\u001b[0m\u001b[0;34m\u001b[0m\u001b[0;34m\u001b[0m\u001b[0m\n\u001b[0m\u001b[1;32m      2\u001b[0m \u001b[0mfiles\u001b[0m\u001b[0;34m.\u001b[0m\u001b[0mdownload\u001b[0m\u001b[0;34m(\u001b[0m\u001b[0;34m'sample.csv'\u001b[0m\u001b[0;34m)\u001b[0m\u001b[0;34m\u001b[0m\u001b[0;34m\u001b[0m\u001b[0m\n",
      "\u001b[0;31mModuleNotFoundError\u001b[0m: No module named 'google'"
     ]
    }
   ],
   "source": [
    "from google.colab import files\n",
    "files.download('sample.csv')"
   ]
  },
  {
   "cell_type": "markdown",
   "metadata": {
    "id": "Igph2GLMW1D6"
   },
   "source": [
    "## Libraries\n",
    "\n",
    "Colab offer a complete environment with all the most common libraries already installed into the runtime instance.\n",
    "\n",
    "Therefore it's possible to install new libraries by doing this simple command\n",
    "\n",
    "``` !pip install <library_name>```"
   ]
  },
  {
   "cell_type": "code",
   "execution_count": 1,
   "metadata": {
    "id": "gmWpYaVkXFej"
   },
   "outputs": [
    {
     "name": "stdout",
     "output_type": "stream",
     "text": [
      "Requirement already satisfied: numpy in /Users/jeydi/.pyenv/versions/3.8.7/lib/python3.8/site-packages (1.20.1)\n",
      "Requirement already satisfied: pandas in /Users/jeydi/.pyenv/versions/3.8.7/lib/python3.8/site-packages (1.2.2)\n",
      "Requirement already satisfied: pytz>=2017.3 in /Users/jeydi/.pyenv/versions/3.8.7/lib/python3.8/site-packages (from pandas) (2021.1)\n",
      "Requirement already satisfied: python-dateutil>=2.7.3 in /Users/jeydi/.pyenv/versions/3.8.7/lib/python3.8/site-packages (from pandas) (2.8.1)\n",
      "Requirement already satisfied: numpy>=1.16.5 in /Users/jeydi/.pyenv/versions/3.8.7/lib/python3.8/site-packages (from pandas) (1.20.1)\n",
      "Requirement already satisfied: six>=1.5 in /Users/jeydi/.pyenv/versions/3.8.7/lib/python3.8/site-packages (from python-dateutil>=2.7.3->pandas) (1.15.0)\n"
     ]
    }
   ],
   "source": [
    "#Example of installation\n",
    "!pip install numpy\n",
    "!pip install pandas"
   ]
  },
  {
   "cell_type": "markdown",
   "metadata": {
    "id": "gL4yGol5WYao"
   },
   "source": [
    "# Pandas Review\n",
    "\n",
    "Now we can start the Pandas library rieview with the most common and useful functions"
   ]
  },
  {
   "cell_type": "markdown",
   "metadata": {
    "id": "NVtSsGb6Wht_"
   },
   "source": [
    "First of all it's important always to import the libraries"
   ]
  },
  {
   "cell_type": "code",
   "execution_count": 6,
   "metadata": {
    "id": "large-laugh"
   },
   "outputs": [],
   "source": [
    "import pandas as pd\n",
    "import numpy as np\n",
    "import string"
   ]
  },
  {
   "cell_type": "markdown",
   "metadata": {
    "id": "p4HZZjQ2WlVl"
   },
   "source": [
    "Then with the notebooks it's possible to configure some settings using `magic commands` \n",
    "\n",
    "Info about autoreload: https://www.wrighters.io/using-autoreload-to-speed-up-ipython-and-jupyter-work/"
   ]
  },
  {
   "cell_type": "code",
   "execution_count": 7,
   "metadata": {
    "id": "jwsDZBOeWrIz"
   },
   "outputs": [],
   "source": [
    "%load_ext autoreload\n",
    "%autoreload 2"
   ]
  },
  {
   "cell_type": "markdown",
   "metadata": {
    "id": "satellite-sapphire"
   },
   "source": [
    "## Data Frame"
   ]
  },
  {
   "cell_type": "markdown",
   "metadata": {},
   "source": [
    "Pandas introduces two main data structures:\n",
    "- `DataFrame`: A \"relational\" table with rows, columns and indexes\n",
    "- `Series`: Representing a single column, it is similar to a list, but richer.\n",
    "\n",
    "A Dataframe therefore is composed of multiple `Series`.\n",
    "\n",
    "Let's do some examples:"
   ]
  },
  {
   "cell_type": "code",
   "execution_count": 8,
   "metadata": {},
   "outputs": [
    {
     "output_type": "execute_result",
     "data": {
      "text/plain": [
       "  City Name  Population\n",
       "0    Milano     1398715\n",
       "1      Roma     2790712\n",
       "2    Napoli     3033256"
      ],
      "text/html": "<div>\n<style scoped>\n    .dataframe tbody tr th:only-of-type {\n        vertical-align: middle;\n    }\n\n    .dataframe tbody tr th {\n        vertical-align: top;\n    }\n\n    .dataframe thead th {\n        text-align: right;\n    }\n</style>\n<table border=\"1\" class=\"dataframe\">\n  <thead>\n    <tr style=\"text-align: right;\">\n      <th></th>\n      <th>City Name</th>\n      <th>Population</th>\n    </tr>\n  </thead>\n  <tbody>\n    <tr>\n      <th>0</th>\n      <td>Milano</td>\n      <td>1398715</td>\n    </tr>\n    <tr>\n      <th>1</th>\n      <td>Roma</td>\n      <td>2790712</td>\n    </tr>\n    <tr>\n      <th>2</th>\n      <td>Napoli</td>\n      <td>3033256</td>\n    </tr>\n  </tbody>\n</table>\n</div>"
     },
     "metadata": {},
     "execution_count": 8
    }
   ],
   "source": [
    "#Series example\n",
    "city = pd.Series(['Milano', 'Roma', 'Napoli'])\n",
    "population = pd.Series([1398715, 2790712, 3033256])\n",
    "\n",
    "#Create Dataframe from series\n",
    "df = pd.DataFrame({ 'City Name': city, 'Population': population })\n",
    "df"
   ]
  },
  {
   "cell_type": "markdown",
   "metadata": {},
   "source": [
    "Going into details a Dataframe is a particular Pandas object that is represented on Python as a series of Dictionaries grafted together.\n",
    "\n",
    "In fact, in a Dataframe we can also have indexes on the rows and columns.\n",
    "\n",
    "It is always possible to convert a Dataframe into a Dictionary and vice versa.\n",
    "\n",
    "Furthermore, a Series can also be represented as a list"
   ]
  },
  {
   "cell_type": "code",
   "execution_count": 9,
   "metadata": {},
   "outputs": [
    {
     "name": "stdout",
     "output_type": "stream",
     "text": [
      "\n",
      "Dictionary: \n",
      " {'City': ['Milano', 'Roma', 'Napoli'], 'Population': [1398715, 2790712, 3033256]}\n",
      "\n",
      "Dataframe: \n",
      "      City  Population\n",
      "0  Milano     1398715\n",
      "1    Roma     2790712\n",
      "2  Napoli     3033256\n",
      "\n",
      "Dictionary obtained from dataframe: \n",
      " {'City': {0: 'Milano', 1: 'Roma', 2: 'Napoli'}, 'Population': {0: 1398715, 1: 2790712, 2: 3033256}}\n"
     ]
    }
   ],
   "source": [
    "#Define a dictionary\n",
    "my_dict = {'City':['Milano', 'Roma', 'Napoli'], 'Population':[1398715, 2790712, 3033256]}\n",
    "print(f\"\\nDictionary: \\n {my_dict}\")\n",
    "\n",
    "#Create a dataframe from a dictionary\n",
    "city_df = pd.DataFrame(my_dict)\n",
    "print(f\"\\nDataframe: \\n {city_df}\")\n",
    "\n",
    "#Create a dictionary from a dataframe\n",
    "old_dict = city_df.to_dict()\n",
    "print(f\"\\nDictionary obtained from dataframe: \\n {old_dict}\") #Be careful on what we obtain"
   ]
  },
  {
   "cell_type": "code",
   "execution_count": 9,
   "metadata": {
    "id": "extensive-melbourne",
    "outputId": "67ee9379-e23d-435c-e1d4-93328f58e3b1"
   },
   "outputs": [
    {
     "output_type": "execute_result",
     "data": {
      "text/plain": [
       "   id  heigth  weight\n",
       "0   0     1.7      70\n",
       "1   1     1.7      73\n",
       "2   2     1.8      80\n",
       "3   3     1.9     100\n",
       "4   4     2.0      95"
      ],
      "text/html": "<div>\n<style scoped>\n    .dataframe tbody tr th:only-of-type {\n        vertical-align: middle;\n    }\n\n    .dataframe tbody tr th {\n        vertical-align: top;\n    }\n\n    .dataframe thead th {\n        text-align: right;\n    }\n</style>\n<table border=\"1\" class=\"dataframe\">\n  <thead>\n    <tr style=\"text-align: right;\">\n      <th></th>\n      <th>id</th>\n      <th>heigth</th>\n      <th>weight</th>\n    </tr>\n  </thead>\n  <tbody>\n    <tr>\n      <th>0</th>\n      <td>0</td>\n      <td>1.7</td>\n      <td>70</td>\n    </tr>\n    <tr>\n      <th>1</th>\n      <td>1</td>\n      <td>1.7</td>\n      <td>73</td>\n    </tr>\n    <tr>\n      <th>2</th>\n      <td>2</td>\n      <td>1.8</td>\n      <td>80</td>\n    </tr>\n    <tr>\n      <th>3</th>\n      <td>3</td>\n      <td>1.9</td>\n      <td>100</td>\n    </tr>\n    <tr>\n      <th>4</th>\n      <td>4</td>\n      <td>2.0</td>\n      <td>95</td>\n    </tr>\n  </tbody>\n</table>\n</div>"
     },
     "metadata": {},
     "execution_count": 9
    }
   ],
   "source": [
    "#Define a test dataframe\n",
    "df = pd.DataFrame({\n",
    "  'id': range(5),\n",
    "  'heigth': [1.7, 1.7, 1.8, 1.9, 2.0],\n",
    "  'weight': [70 , 73 , 80 , 100, 95]\n",
    "})\n",
    "df"
   ]
  },
  {
   "cell_type": "code",
   "execution_count": null,
   "metadata": {
    "id": "metropolitan-tracy",
    "outputId": "0494b8bd-d7ab-4134-fd56-d0cd42da899c"
   },
   "outputs": [
    {
     "data": {
      "text/html": [
       "<div>\n",
       "<style scoped>\n",
       "    .dataframe tbody tr th:only-of-type {\n",
       "        vertical-align: middle;\n",
       "    }\n",
       "\n",
       "    .dataframe tbody tr th {\n",
       "        vertical-align: top;\n",
       "    }\n",
       "\n",
       "    .dataframe thead th {\n",
       "        text-align: right;\n",
       "    }\n",
       "</style>\n",
       "<table border=\"1\" class=\"dataframe\">\n",
       "  <thead>\n",
       "    <tr style=\"text-align: right;\">\n",
       "      <th></th>\n",
       "      <th>id</th>\n",
       "      <th>heigth</th>\n",
       "      <th>weight</th>\n",
       "      <th>bmi</th>\n",
       "    </tr>\n",
       "  </thead>\n",
       "  <tbody>\n",
       "    <tr>\n",
       "      <th>0</th>\n",
       "      <td>0</td>\n",
       "      <td>1.7</td>\n",
       "      <td>70</td>\n",
       "      <td>24.221453</td>\n",
       "    </tr>\n",
       "    <tr>\n",
       "      <th>1</th>\n",
       "      <td>1</td>\n",
       "      <td>1.7</td>\n",
       "      <td>73</td>\n",
       "      <td>25.259516</td>\n",
       "    </tr>\n",
       "    <tr>\n",
       "      <th>2</th>\n",
       "      <td>2</td>\n",
       "      <td>1.8</td>\n",
       "      <td>80</td>\n",
       "      <td>24.691358</td>\n",
       "    </tr>\n",
       "    <tr>\n",
       "      <th>3</th>\n",
       "      <td>3</td>\n",
       "      <td>1.9</td>\n",
       "      <td>100</td>\n",
       "      <td>27.700831</td>\n",
       "    </tr>\n",
       "    <tr>\n",
       "      <th>4</th>\n",
       "      <td>4</td>\n",
       "      <td>2.0</td>\n",
       "      <td>95</td>\n",
       "      <td>23.750000</td>\n",
       "    </tr>\n",
       "  </tbody>\n",
       "</table>\n",
       "</div>"
      ],
      "text/plain": [
       "   id  heigth  weight        bmi\n",
       "0   0     1.7      70  24.221453\n",
       "1   1     1.7      73  25.259516\n",
       "2   2     1.8      80  24.691358\n",
       "3   3     1.9     100  27.700831\n",
       "4   4     2.0      95  23.750000"
      ]
     },
     "execution_count": 55,
     "metadata": {
      "tags": []
     },
     "output_type": "execute_result"
    }
   ],
   "source": [
    "#Create a new column\n",
    "df['bmi'] = df.weight / (df.heigth)**2\n",
    "df"
   ]
  },
  {
   "cell_type": "code",
   "execution_count": null,
   "metadata": {
    "id": "checked-distribution",
    "outputId": "79c0f71d-ee42-4d46-9384-ba6f1167ae3a",
    "title": "rename column names (mutable)"
   },
   "outputs": [
    {
     "data": {
      "text/plain": [
       "Index(['ID', 'HEIGTH', 'WEIGHT', 'BMI'], dtype='object')"
      ]
     },
     "execution_count": 56,
     "metadata": {
      "tags": []
     },
     "output_type": "execute_result"
    }
   ],
   "source": [
    "# https://www.geeksforgeeks.org/python-change-column-names-and-row-indexes-in-pandas-dataframe/?ref=rp\n",
    "\n",
    "#Extract the columnnames into a variable\n",
    "idx = df.columns\n",
    "\n",
    "#Manipulate the names\n",
    "new_colnames = idx.str.upper()\n",
    "new_colnames\n",
    "\n",
    "#To substitute the new values `new_colnames` \n",
    "# df.columns = new_colnames"
   ]
  },
  {
   "cell_type": "markdown",
   "metadata": {
    "id": "worst-singer"
   },
   "source": [
    "Rename columns with a function. The `rename` method is a method that does not mute the current data frame, but outputs the modified version."
   ]
  },
  {
   "cell_type": "code",
   "execution_count": null,
   "metadata": {
    "id": "discrete-interview",
    "lines_to_next_cell": 2,
    "outputId": "aa4335e6-1b2c-4943-8612-935ab270d70b",
    "title": "rename columns (immutable)"
   },
   "outputs": [
    {
     "data": {
      "text/html": [
       "<div>\n",
       "<style scoped>\n",
       "    .dataframe tbody tr th:only-of-type {\n",
       "        vertical-align: middle;\n",
       "    }\n",
       "\n",
       "    .dataframe tbody tr th {\n",
       "        vertical-align: top;\n",
       "    }\n",
       "\n",
       "    .dataframe thead th {\n",
       "        text-align: right;\n",
       "    }\n",
       "</style>\n",
       "<table border=\"1\" class=\"dataframe\">\n",
       "  <thead>\n",
       "    <tr style=\"text-align: right;\">\n",
       "      <th></th>\n",
       "      <th>Id</th>\n",
       "      <th>Heigth</th>\n",
       "      <th>Weight</th>\n",
       "      <th>Bmi</th>\n",
       "    </tr>\n",
       "  </thead>\n",
       "  <tbody>\n",
       "    <tr>\n",
       "      <th>0</th>\n",
       "      <td>0</td>\n",
       "      <td>1.7</td>\n",
       "      <td>70</td>\n",
       "      <td>24.221453</td>\n",
       "    </tr>\n",
       "    <tr>\n",
       "      <th>1</th>\n",
       "      <td>1</td>\n",
       "      <td>1.7</td>\n",
       "      <td>73</td>\n",
       "      <td>25.259516</td>\n",
       "    </tr>\n",
       "    <tr>\n",
       "      <th>2</th>\n",
       "      <td>2</td>\n",
       "      <td>1.8</td>\n",
       "      <td>80</td>\n",
       "      <td>24.691358</td>\n",
       "    </tr>\n",
       "    <tr>\n",
       "      <th>3</th>\n",
       "      <td>3</td>\n",
       "      <td>1.9</td>\n",
       "      <td>100</td>\n",
       "      <td>27.700831</td>\n",
       "    </tr>\n",
       "    <tr>\n",
       "      <th>4</th>\n",
       "      <td>4</td>\n",
       "      <td>2.0</td>\n",
       "      <td>95</td>\n",
       "      <td>23.750000</td>\n",
       "    </tr>\n",
       "  </tbody>\n",
       "</table>\n",
       "</div>"
      ],
      "text/plain": [
       "   Id  Heigth  Weight        Bmi\n",
       "0   0     1.7      70  24.221453\n",
       "1   1     1.7      73  25.259516\n",
       "2   2     1.8      80  24.691358\n",
       "3   3     1.9     100  27.700831\n",
       "4   4     2.0      95  23.750000"
      ]
     },
     "execution_count": 57,
     "metadata": {
      "tags": []
     },
     "output_type": "execute_result"
    }
   ],
   "source": [
    "#Rename a column\n",
    "tb_2 = df.rename(columns = lambda x: x.title())\n",
    "tb_2"
   ]
  },
  {
   "cell_type": "markdown",
   "metadata": {
    "id": "dominican-highway"
   },
   "source": [
    "Select and reorder columns:"
   ]
  },
  {
   "cell_type": "code",
   "execution_count": null,
   "metadata": {
    "id": "instant-enhancement",
    "incorrectly_encoded_metadata": "columns == select == reindex (immutable)",
    "lines_to_next_cell": 2,
    "outputId": "12244b5e-d566-43c5-d9e3-a5ad8df980cb",
    "title": "sort"
   },
   "outputs": [
    {
     "data": {
      "text/html": [
       "<div>\n",
       "<style scoped>\n",
       "    .dataframe tbody tr th:only-of-type {\n",
       "        vertical-align: middle;\n",
       "    }\n",
       "\n",
       "    .dataframe tbody tr th {\n",
       "        vertical-align: top;\n",
       "    }\n",
       "\n",
       "    .dataframe thead th {\n",
       "        text-align: right;\n",
       "    }\n",
       "</style>\n",
       "<table border=\"1\" class=\"dataframe\">\n",
       "  <thead>\n",
       "    <tr style=\"text-align: right;\">\n",
       "      <th></th>\n",
       "      <th>id</th>\n",
       "      <th>bmi</th>\n",
       "      <th>weight</th>\n",
       "    </tr>\n",
       "  </thead>\n",
       "  <tbody>\n",
       "    <tr>\n",
       "      <th>0</th>\n",
       "      <td>0</td>\n",
       "      <td>24.221453</td>\n",
       "      <td>70</td>\n",
       "    </tr>\n",
       "    <tr>\n",
       "      <th>1</th>\n",
       "      <td>1</td>\n",
       "      <td>25.259516</td>\n",
       "      <td>73</td>\n",
       "    </tr>\n",
       "    <tr>\n",
       "      <th>2</th>\n",
       "      <td>2</td>\n",
       "      <td>24.691358</td>\n",
       "      <td>80</td>\n",
       "    </tr>\n",
       "    <tr>\n",
       "      <th>3</th>\n",
       "      <td>3</td>\n",
       "      <td>27.700831</td>\n",
       "      <td>100</td>\n",
       "    </tr>\n",
       "    <tr>\n",
       "      <th>4</th>\n",
       "      <td>4</td>\n",
       "      <td>23.750000</td>\n",
       "      <td>95</td>\n",
       "    </tr>\n",
       "  </tbody>\n",
       "</table>\n",
       "</div>"
      ],
      "text/plain": [
       "   id        bmi  weight\n",
       "0   0  24.221453      70\n",
       "1   1  25.259516      73\n",
       "2   2  24.691358      80\n",
       "3   3  27.700831     100\n",
       "4   4  23.750000      95"
      ]
     },
     "execution_count": 58,
     "metadata": {
      "tags": []
     },
     "output_type": "execute_result"
    }
   ],
   "source": [
    "tb_3 = df.reindex(['id', 'bmi', 'weight'], axis=1)\n",
    "tb_3"
   ]
  },
  {
   "cell_type": "markdown",
   "metadata": {
    "id": "similar-acrobat"
   },
   "source": [
    "The same concepts can be applied to row names:"
   ]
  },
  {
   "cell_type": "code",
   "execution_count": null,
   "metadata": {
    "id": "domestic-columbus",
    "lines_to_next_cell": 2,
    "outputId": "23ae4350-530b-4206-e9b5-0a72915276ab",
    "title": "row index"
   },
   "outputs": [
    {
     "data": {
      "text/plain": [
       "RangeIndex(start=0, stop=5, step=1)"
      ]
     },
     "execution_count": 59,
     "metadata": {
      "tags": []
     },
     "output_type": "execute_result"
    }
   ],
   "source": [
    "# row names\n",
    "df.index"
   ]
  },
  {
   "cell_type": "code",
   "execution_count": null,
   "metadata": {
    "id": "electric-screening",
    "lines_to_next_cell": 2,
    "outputId": "f874833b-43f8-4b68-97b6-386c4237579b",
    "title": "row index"
   },
   "outputs": [
    {
     "data": {
      "text/html": [
       "<div>\n",
       "<style scoped>\n",
       "    .dataframe tbody tr th:only-of-type {\n",
       "        vertical-align: middle;\n",
       "    }\n",
       "\n",
       "    .dataframe tbody tr th {\n",
       "        vertical-align: top;\n",
       "    }\n",
       "\n",
       "    .dataframe thead th {\n",
       "        text-align: right;\n",
       "    }\n",
       "</style>\n",
       "<table border=\"1\" class=\"dataframe\">\n",
       "  <thead>\n",
       "    <tr style=\"text-align: right;\">\n",
       "      <th></th>\n",
       "      <th>id</th>\n",
       "      <th>heigth</th>\n",
       "      <th>weight</th>\n",
       "      <th>bmi</th>\n",
       "    </tr>\n",
       "  </thead>\n",
       "  <tbody>\n",
       "    <tr>\n",
       "      <th>row-0</th>\n",
       "      <td>0</td>\n",
       "      <td>1.7</td>\n",
       "      <td>70</td>\n",
       "      <td>24.221453</td>\n",
       "    </tr>\n",
       "    <tr>\n",
       "      <th>row-1</th>\n",
       "      <td>1</td>\n",
       "      <td>1.7</td>\n",
       "      <td>73</td>\n",
       "      <td>25.259516</td>\n",
       "    </tr>\n",
       "    <tr>\n",
       "      <th>row-2</th>\n",
       "      <td>2</td>\n",
       "      <td>1.8</td>\n",
       "      <td>80</td>\n",
       "      <td>24.691358</td>\n",
       "    </tr>\n",
       "    <tr>\n",
       "      <th>row-3</th>\n",
       "      <td>3</td>\n",
       "      <td>1.9</td>\n",
       "      <td>100</td>\n",
       "      <td>27.700831</td>\n",
       "    </tr>\n",
       "    <tr>\n",
       "      <th>row-4</th>\n",
       "      <td>4</td>\n",
       "      <td>2.0</td>\n",
       "      <td>95</td>\n",
       "      <td>23.750000</td>\n",
       "    </tr>\n",
       "  </tbody>\n",
       "</table>\n",
       "</div>"
      ],
      "text/plain": [
       "       id  heigth  weight        bmi\n",
       "row-0   0     1.7      70  24.221453\n",
       "row-1   1     1.7      73  25.259516\n",
       "row-2   2     1.8      80  24.691358\n",
       "row-3   3     1.9     100  27.700831\n",
       "row-4   4     2.0      95  23.750000"
      ]
     },
     "execution_count": 60,
     "metadata": {
      "tags": []
     },
     "output_type": "execute_result"
    }
   ],
   "source": [
    "# row's rename\n",
    "df.rename(index = lambda x: \"row-\" + str(x))"
   ]
  },
  {
   "cell_type": "markdown",
   "metadata": {
    "id": "royal-motel"
   },
   "source": [
    "Select rows by their name."
   ]
  },
  {
   "cell_type": "code",
   "execution_count": null,
   "metadata": {
    "id": "fleet-purse",
    "lines_to_next_cell": 0,
    "outputId": "f98f1387-a1e8-4969-f9a3-7a324c49f259"
   },
   "outputs": [
    {
     "data": {
      "text/html": [
       "<div>\n",
       "<style scoped>\n",
       "    .dataframe tbody tr th:only-of-type {\n",
       "        vertical-align: middle;\n",
       "    }\n",
       "\n",
       "    .dataframe tbody tr th {\n",
       "        vertical-align: top;\n",
       "    }\n",
       "\n",
       "    .dataframe thead th {\n",
       "        text-align: right;\n",
       "    }\n",
       "</style>\n",
       "<table border=\"1\" class=\"dataframe\">\n",
       "  <thead>\n",
       "    <tr style=\"text-align: right;\">\n",
       "      <th></th>\n",
       "      <th>id</th>\n",
       "      <th>heigth</th>\n",
       "      <th>weight</th>\n",
       "      <th>bmi</th>\n",
       "    </tr>\n",
       "  </thead>\n",
       "  <tbody>\n",
       "    <tr>\n",
       "      <th>1</th>\n",
       "      <td>1</td>\n",
       "      <td>1.7</td>\n",
       "      <td>73</td>\n",
       "      <td>25.259516</td>\n",
       "    </tr>\n",
       "    <tr>\n",
       "      <th>3</th>\n",
       "      <td>3</td>\n",
       "      <td>1.9</td>\n",
       "      <td>100</td>\n",
       "      <td>27.700831</td>\n",
       "    </tr>\n",
       "    <tr>\n",
       "      <th>4</th>\n",
       "      <td>4</td>\n",
       "      <td>2.0</td>\n",
       "      <td>95</td>\n",
       "      <td>23.750000</td>\n",
       "    </tr>\n",
       "  </tbody>\n",
       "</table>\n",
       "</div>"
      ],
      "text/plain": [
       "   id  heigth  weight        bmi\n",
       "1   1     1.7      73  25.259516\n",
       "3   3     1.9     100  27.700831\n",
       "4   4     2.0      95  23.750000"
      ]
     },
     "execution_count": 61,
     "metadata": {
      "tags": []
     },
     "output_type": "execute_result"
    }
   ],
   "source": [
    "# Select rows by their name.\n",
    "df.reindex([1, 3, 4], axis=0)"
   ]
  },
  {
   "cell_type": "markdown",
   "metadata": {
    "id": "raising-wages"
   },
   "source": []
  },
  {
   "cell_type": "markdown",
   "metadata": {
    "id": "grateful-soccer"
   },
   "source": [
    "## Data Import"
   ]
  },
  {
   "cell_type": "markdown",
   "metadata": {
    "id": "hollow-destruction"
   },
   "source": [
    "### Read a csv file\n",
    "\n",
    "CSV: Comma Separated Values file. The first row contains the column names:"
   ]
  },
  {
   "cell_type": "code",
   "execution_count": 15,
   "metadata": {
    "id": "liable-bridges",
    "outputId": "3ac68a88-7567-4719-a854-3f9768f75701"
   },
   "outputs": [
    {
     "output_type": "stream",
     "name": "stdout",
     "text": [
      "/home/daco/dev/MaterialeLezioni/PercorsoDati/lab1\npage_id,name,urlslug,ID,ALIGN,EYE,HAIR,SEX,GSM,ALIVE,APPEARANCES,FIRST APPEARANCE,YEAR\n1422,Batman (Bruce Wayne),\\/wiki\\/Batman_(Bruce_Wayne),Secret Identity,Good Characters,Blue Eyes,Black Hair,Male Characters,,Living Characters,3093,\"1939, May\",1939\n23387,Superman (Clark Kent),\\/wiki\\/Superman_(Clark_Kent),Secret Identity,Good Characters,Blue Eyes,Black Hair,Male Characters,,Living Characters,2496,\"1986, October\",1986\n1458,Green Lantern (Hal Jordan),\\/wiki\\/Green_Lantern_(Hal_Jordan),Secret Identity,Good Characters,Brown Eyes,Brown Hair,Male Characters,,Living Characters,1565,\"1959, October\",1959\n1659,James Gordon (New Earth),\\/wiki\\/James_Gordon_(New_Earth),Public Identity,Good Characters,Brown Eyes,White Hair,Male Characters,,Living Characters,1316,\"1987, February\",1987\n1576,Richard Grayson (New Earth),\\/wiki\\/Richard_Grayson_(New_Earth),Secret Identity,Good Characters,Blue Eyes,Black Hair,Male Characters,,Living Characters,1237,\"1940, April\",1940\n1448,Wonder Woman (Diana Prince),\\/wiki\\/Wonder_Woman_(Diana_Prince),Public Identity,Good Characters,Blue Eyes,Black Hair,Female Characters,,Living Characters,1231,\"1941, December\",1941\n1486,Aquaman (Arthur Curry),\\/wiki\\/Aquaman_(Arthur_Curry),Public Identity,Good Characters,Blue Eyes,Blond Hair,Male Characters,,Living Characters,1121,\"1941, November\",1941\n1451,Timothy Drake (New Earth),\\/wiki\\/Timothy_Drake_(New_Earth),Secret Identity,Good Characters,Blue Eyes,Black Hair,Male Characters,,Living Characters,1095,\"1989, August\",1989\n71760,Dinah Laurel Lance (New Earth),\\/wiki\\/Dinah_Laurel_Lance_(New_Earth),Public Identity,Good Characters,Blue Eyes,Blond Hair,Female Characters,,Living Characters,1075,\"1969, November\",1969\n"
     ]
    }
   ],
   "source": [
    "%%bash\n",
    "pwd\n",
    "head ../dataset/rome-airbnb/dc-wikia-data.csv"
   ]
  },
  {
   "cell_type": "markdown",
   "metadata": {
    "id": "weighted-timothy"
   },
   "source": [
    "Read a csv with a standard separator (`,`):"
   ]
  },
  {
   "cell_type": "code",
   "execution_count": 16,
   "metadata": {
    "id": "wicked-wellington",
    "outputId": "722ce1e8-2bcd-4027-edd1-538b6a616245"
   },
   "outputs": [
    {
     "output_type": "execute_result",
     "data": {
      "text/plain": [
       "      page_id                          name  \\\n",
       "0        1422          Batman (Bruce Wayne)   \n",
       "1       23387         Superman (Clark Kent)   \n",
       "2        1458    Green Lantern (Hal Jordan)   \n",
       "3        1659      James Gordon (New Earth)   \n",
       "4        1576   Richard Grayson (New Earth)   \n",
       "...       ...                           ...   \n",
       "6891    66302       Nadine West (New Earth)   \n",
       "6892   283475    Warren Harding (New Earth)   \n",
       "6893   283478  William Harrison (New Earth)   \n",
       "6894   283471  William McKinley (New Earth)   \n",
       "6895   150660            Mookie (New Earth)   \n",
       "\n",
       "                                   urlslug               ID            ALIGN  \\\n",
       "0             \\/wiki\\/Batman_(Bruce_Wayne)  Secret Identity  Good Characters   \n",
       "1            \\/wiki\\/Superman_(Clark_Kent)  Secret Identity  Good Characters   \n",
       "2       \\/wiki\\/Green_Lantern_(Hal_Jordan)  Secret Identity  Good Characters   \n",
       "3         \\/wiki\\/James_Gordon_(New_Earth)  Public Identity  Good Characters   \n",
       "4      \\/wiki\\/Richard_Grayson_(New_Earth)  Secret Identity  Good Characters   \n",
       "...                                    ...              ...              ...   \n",
       "6891       \\/wiki\\/Nadine_West_(New_Earth)  Public Identity  Good Characters   \n",
       "6892    \\/wiki\\/Warren_Harding_(New_Earth)  Public Identity  Good Characters   \n",
       "6893  \\/wiki\\/William_Harrison_(New_Earth)  Public Identity  Good Characters   \n",
       "6894  \\/wiki\\/William_McKinley_(New_Earth)  Public Identity  Good Characters   \n",
       "6895            \\/wiki\\/Mookie_(New_Earth)  Public Identity   Bad Characters   \n",
       "\n",
       "             EYE        HAIR                SEX  GSM              ALIVE  \\\n",
       "0      Blue Eyes  Black Hair    Male Characters  NaN  Living Characters   \n",
       "1      Blue Eyes  Black Hair    Male Characters  NaN  Living Characters   \n",
       "2     Brown Eyes  Brown Hair    Male Characters  NaN  Living Characters   \n",
       "3     Brown Eyes  White Hair    Male Characters  NaN  Living Characters   \n",
       "4      Blue Eyes  Black Hair    Male Characters  NaN  Living Characters   \n",
       "...          ...         ...                ...  ...                ...   \n",
       "6891         NaN         NaN  Female Characters  NaN  Living Characters   \n",
       "6892         NaN         NaN    Male Characters  NaN  Living Characters   \n",
       "6893         NaN         NaN    Male Characters  NaN  Living Characters   \n",
       "6894         NaN         NaN    Male Characters  NaN  Living Characters   \n",
       "6895   Blue Eyes  Blond Hair    Male Characters  NaN  Living Characters   \n",
       "\n",
       "      APPEARANCES FIRST APPEARANCE    YEAR  \n",
       "0          3093.0        1939, May  1939.0  \n",
       "1          2496.0    1986, October  1986.0  \n",
       "2          1565.0    1959, October  1959.0  \n",
       "3          1316.0   1987, February  1987.0  \n",
       "4          1237.0      1940, April  1940.0  \n",
       "...           ...              ...     ...  \n",
       "6891          NaN              NaN     NaN  \n",
       "6892          NaN              NaN     NaN  \n",
       "6893          NaN              NaN     NaN  \n",
       "6894          NaN              NaN     NaN  \n",
       "6895          NaN              NaN     NaN  \n",
       "\n",
       "[6896 rows x 13 columns]"
      ],
      "text/html": "<div>\n<style scoped>\n    .dataframe tbody tr th:only-of-type {\n        vertical-align: middle;\n    }\n\n    .dataframe tbody tr th {\n        vertical-align: top;\n    }\n\n    .dataframe thead th {\n        text-align: right;\n    }\n</style>\n<table border=\"1\" class=\"dataframe\">\n  <thead>\n    <tr style=\"text-align: right;\">\n      <th></th>\n      <th>page_id</th>\n      <th>name</th>\n      <th>urlslug</th>\n      <th>ID</th>\n      <th>ALIGN</th>\n      <th>EYE</th>\n      <th>HAIR</th>\n      <th>SEX</th>\n      <th>GSM</th>\n      <th>ALIVE</th>\n      <th>APPEARANCES</th>\n      <th>FIRST APPEARANCE</th>\n      <th>YEAR</th>\n    </tr>\n  </thead>\n  <tbody>\n    <tr>\n      <th>0</th>\n      <td>1422</td>\n      <td>Batman (Bruce Wayne)</td>\n      <td>\\/wiki\\/Batman_(Bruce_Wayne)</td>\n      <td>Secret Identity</td>\n      <td>Good Characters</td>\n      <td>Blue Eyes</td>\n      <td>Black Hair</td>\n      <td>Male Characters</td>\n      <td>NaN</td>\n      <td>Living Characters</td>\n      <td>3093.0</td>\n      <td>1939, May</td>\n      <td>1939.0</td>\n    </tr>\n    <tr>\n      <th>1</th>\n      <td>23387</td>\n      <td>Superman (Clark Kent)</td>\n      <td>\\/wiki\\/Superman_(Clark_Kent)</td>\n      <td>Secret Identity</td>\n      <td>Good Characters</td>\n      <td>Blue Eyes</td>\n      <td>Black Hair</td>\n      <td>Male Characters</td>\n      <td>NaN</td>\n      <td>Living Characters</td>\n      <td>2496.0</td>\n      <td>1986, October</td>\n      <td>1986.0</td>\n    </tr>\n    <tr>\n      <th>2</th>\n      <td>1458</td>\n      <td>Green Lantern (Hal Jordan)</td>\n      <td>\\/wiki\\/Green_Lantern_(Hal_Jordan)</td>\n      <td>Secret Identity</td>\n      <td>Good Characters</td>\n      <td>Brown Eyes</td>\n      <td>Brown Hair</td>\n      <td>Male Characters</td>\n      <td>NaN</td>\n      <td>Living Characters</td>\n      <td>1565.0</td>\n      <td>1959, October</td>\n      <td>1959.0</td>\n    </tr>\n    <tr>\n      <th>3</th>\n      <td>1659</td>\n      <td>James Gordon (New Earth)</td>\n      <td>\\/wiki\\/James_Gordon_(New_Earth)</td>\n      <td>Public Identity</td>\n      <td>Good Characters</td>\n      <td>Brown Eyes</td>\n      <td>White Hair</td>\n      <td>Male Characters</td>\n      <td>NaN</td>\n      <td>Living Characters</td>\n      <td>1316.0</td>\n      <td>1987, February</td>\n      <td>1987.0</td>\n    </tr>\n    <tr>\n      <th>4</th>\n      <td>1576</td>\n      <td>Richard Grayson (New Earth)</td>\n      <td>\\/wiki\\/Richard_Grayson_(New_Earth)</td>\n      <td>Secret Identity</td>\n      <td>Good Characters</td>\n      <td>Blue Eyes</td>\n      <td>Black Hair</td>\n      <td>Male Characters</td>\n      <td>NaN</td>\n      <td>Living Characters</td>\n      <td>1237.0</td>\n      <td>1940, April</td>\n      <td>1940.0</td>\n    </tr>\n    <tr>\n      <th>...</th>\n      <td>...</td>\n      <td>...</td>\n      <td>...</td>\n      <td>...</td>\n      <td>...</td>\n      <td>...</td>\n      <td>...</td>\n      <td>...</td>\n      <td>...</td>\n      <td>...</td>\n      <td>...</td>\n      <td>...</td>\n      <td>...</td>\n    </tr>\n    <tr>\n      <th>6891</th>\n      <td>66302</td>\n      <td>Nadine West (New Earth)</td>\n      <td>\\/wiki\\/Nadine_West_(New_Earth)</td>\n      <td>Public Identity</td>\n      <td>Good Characters</td>\n      <td>NaN</td>\n      <td>NaN</td>\n      <td>Female Characters</td>\n      <td>NaN</td>\n      <td>Living Characters</td>\n      <td>NaN</td>\n      <td>NaN</td>\n      <td>NaN</td>\n    </tr>\n    <tr>\n      <th>6892</th>\n      <td>283475</td>\n      <td>Warren Harding (New Earth)</td>\n      <td>\\/wiki\\/Warren_Harding_(New_Earth)</td>\n      <td>Public Identity</td>\n      <td>Good Characters</td>\n      <td>NaN</td>\n      <td>NaN</td>\n      <td>Male Characters</td>\n      <td>NaN</td>\n      <td>Living Characters</td>\n      <td>NaN</td>\n      <td>NaN</td>\n      <td>NaN</td>\n    </tr>\n    <tr>\n      <th>6893</th>\n      <td>283478</td>\n      <td>William Harrison (New Earth)</td>\n      <td>\\/wiki\\/William_Harrison_(New_Earth)</td>\n      <td>Public Identity</td>\n      <td>Good Characters</td>\n      <td>NaN</td>\n      <td>NaN</td>\n      <td>Male Characters</td>\n      <td>NaN</td>\n      <td>Living Characters</td>\n      <td>NaN</td>\n      <td>NaN</td>\n      <td>NaN</td>\n    </tr>\n    <tr>\n      <th>6894</th>\n      <td>283471</td>\n      <td>William McKinley (New Earth)</td>\n      <td>\\/wiki\\/William_McKinley_(New_Earth)</td>\n      <td>Public Identity</td>\n      <td>Good Characters</td>\n      <td>NaN</td>\n      <td>NaN</td>\n      <td>Male Characters</td>\n      <td>NaN</td>\n      <td>Living Characters</td>\n      <td>NaN</td>\n      <td>NaN</td>\n      <td>NaN</td>\n    </tr>\n    <tr>\n      <th>6895</th>\n      <td>150660</td>\n      <td>Mookie (New Earth)</td>\n      <td>\\/wiki\\/Mookie_(New_Earth)</td>\n      <td>Public Identity</td>\n      <td>Bad Characters</td>\n      <td>Blue Eyes</td>\n      <td>Blond Hair</td>\n      <td>Male Characters</td>\n      <td>NaN</td>\n      <td>Living Characters</td>\n      <td>NaN</td>\n      <td>NaN</td>\n      <td>NaN</td>\n    </tr>\n  </tbody>\n</table>\n<p>6896 rows × 13 columns</p>\n</div>"
     },
     "metadata": {},
     "execution_count": 16
    }
   ],
   "source": [
    "dc = pd.read_csv('../dataset/rome-airbnb/dc-wikia-data.csv')\n",
    "dc"
   ]
  },
  {
   "cell_type": "markdown",
   "metadata": {
    "id": "material-junction"
   },
   "source": [
    "Or specifing the separator"
   ]
  },
  {
   "cell_type": "code",
   "execution_count": 18,
   "metadata": {
    "id": "virgin-metallic",
    "outputId": "1336456f-4a16-4a97-8c91-244918a3bca9"
   },
   "outputs": [
    {
     "output_type": "execute_result",
     "data": {
      "text/plain": [
       "      page_id                          name  \\\n",
       "0        1422          Batman (Bruce Wayne)   \n",
       "1       23387         Superman (Clark Kent)   \n",
       "2        1458    Green Lantern (Hal Jordan)   \n",
       "3        1659      James Gordon (New Earth)   \n",
       "4        1576   Richard Grayson (New Earth)   \n",
       "...       ...                           ...   \n",
       "6891    66302       Nadine West (New Earth)   \n",
       "6892   283475    Warren Harding (New Earth)   \n",
       "6893   283478  William Harrison (New Earth)   \n",
       "6894   283471  William McKinley (New Earth)   \n",
       "6895   150660            Mookie (New Earth)   \n",
       "\n",
       "                                   urlslug               ID            ALIGN  \\\n",
       "0             \\/wiki\\/Batman_(Bruce_Wayne)  Secret Identity  Good Characters   \n",
       "1            \\/wiki\\/Superman_(Clark_Kent)  Secret Identity  Good Characters   \n",
       "2       \\/wiki\\/Green_Lantern_(Hal_Jordan)  Secret Identity  Good Characters   \n",
       "3         \\/wiki\\/James_Gordon_(New_Earth)  Public Identity  Good Characters   \n",
       "4      \\/wiki\\/Richard_Grayson_(New_Earth)  Secret Identity  Good Characters   \n",
       "...                                    ...              ...              ...   \n",
       "6891       \\/wiki\\/Nadine_West_(New_Earth)  Public Identity  Good Characters   \n",
       "6892    \\/wiki\\/Warren_Harding_(New_Earth)  Public Identity  Good Characters   \n",
       "6893  \\/wiki\\/William_Harrison_(New_Earth)  Public Identity  Good Characters   \n",
       "6894  \\/wiki\\/William_McKinley_(New_Earth)  Public Identity  Good Characters   \n",
       "6895            \\/wiki\\/Mookie_(New_Earth)  Public Identity   Bad Characters   \n",
       "\n",
       "             EYE        HAIR                SEX  GSM              ALIVE  \\\n",
       "0      Blue Eyes  Black Hair    Male Characters  NaN  Living Characters   \n",
       "1      Blue Eyes  Black Hair    Male Characters  NaN  Living Characters   \n",
       "2     Brown Eyes  Brown Hair    Male Characters  NaN  Living Characters   \n",
       "3     Brown Eyes  White Hair    Male Characters  NaN  Living Characters   \n",
       "4      Blue Eyes  Black Hair    Male Characters  NaN  Living Characters   \n",
       "...          ...         ...                ...  ...                ...   \n",
       "6891         NaN         NaN  Female Characters  NaN  Living Characters   \n",
       "6892         NaN         NaN    Male Characters  NaN  Living Characters   \n",
       "6893         NaN         NaN    Male Characters  NaN  Living Characters   \n",
       "6894         NaN         NaN    Male Characters  NaN  Living Characters   \n",
       "6895   Blue Eyes  Blond Hair    Male Characters  NaN  Living Characters   \n",
       "\n",
       "      APPEARANCES FIRST APPEARANCE    YEAR  \n",
       "0          3093.0        1939, May  1939.0  \n",
       "1          2496.0    1986, October  1986.0  \n",
       "2          1565.0    1959, October  1959.0  \n",
       "3          1316.0   1987, February  1987.0  \n",
       "4          1237.0      1940, April  1940.0  \n",
       "...           ...              ...     ...  \n",
       "6891          NaN              NaN     NaN  \n",
       "6892          NaN              NaN     NaN  \n",
       "6893          NaN              NaN     NaN  \n",
       "6894          NaN              NaN     NaN  \n",
       "6895          NaN              NaN     NaN  \n",
       "\n",
       "[6896 rows x 13 columns]"
      ],
      "text/html": "<div>\n<style scoped>\n    .dataframe tbody tr th:only-of-type {\n        vertical-align: middle;\n    }\n\n    .dataframe tbody tr th {\n        vertical-align: top;\n    }\n\n    .dataframe thead th {\n        text-align: right;\n    }\n</style>\n<table border=\"1\" class=\"dataframe\">\n  <thead>\n    <tr style=\"text-align: right;\">\n      <th></th>\n      <th>page_id</th>\n      <th>name</th>\n      <th>urlslug</th>\n      <th>ID</th>\n      <th>ALIGN</th>\n      <th>EYE</th>\n      <th>HAIR</th>\n      <th>SEX</th>\n      <th>GSM</th>\n      <th>ALIVE</th>\n      <th>APPEARANCES</th>\n      <th>FIRST APPEARANCE</th>\n      <th>YEAR</th>\n    </tr>\n  </thead>\n  <tbody>\n    <tr>\n      <th>0</th>\n      <td>1422</td>\n      <td>Batman (Bruce Wayne)</td>\n      <td>\\/wiki\\/Batman_(Bruce_Wayne)</td>\n      <td>Secret Identity</td>\n      <td>Good Characters</td>\n      <td>Blue Eyes</td>\n      <td>Black Hair</td>\n      <td>Male Characters</td>\n      <td>NaN</td>\n      <td>Living Characters</td>\n      <td>3093.0</td>\n      <td>1939, May</td>\n      <td>1939.0</td>\n    </tr>\n    <tr>\n      <th>1</th>\n      <td>23387</td>\n      <td>Superman (Clark Kent)</td>\n      <td>\\/wiki\\/Superman_(Clark_Kent)</td>\n      <td>Secret Identity</td>\n      <td>Good Characters</td>\n      <td>Blue Eyes</td>\n      <td>Black Hair</td>\n      <td>Male Characters</td>\n      <td>NaN</td>\n      <td>Living Characters</td>\n      <td>2496.0</td>\n      <td>1986, October</td>\n      <td>1986.0</td>\n    </tr>\n    <tr>\n      <th>2</th>\n      <td>1458</td>\n      <td>Green Lantern (Hal Jordan)</td>\n      <td>\\/wiki\\/Green_Lantern_(Hal_Jordan)</td>\n      <td>Secret Identity</td>\n      <td>Good Characters</td>\n      <td>Brown Eyes</td>\n      <td>Brown Hair</td>\n      <td>Male Characters</td>\n      <td>NaN</td>\n      <td>Living Characters</td>\n      <td>1565.0</td>\n      <td>1959, October</td>\n      <td>1959.0</td>\n    </tr>\n    <tr>\n      <th>3</th>\n      <td>1659</td>\n      <td>James Gordon (New Earth)</td>\n      <td>\\/wiki\\/James_Gordon_(New_Earth)</td>\n      <td>Public Identity</td>\n      <td>Good Characters</td>\n      <td>Brown Eyes</td>\n      <td>White Hair</td>\n      <td>Male Characters</td>\n      <td>NaN</td>\n      <td>Living Characters</td>\n      <td>1316.0</td>\n      <td>1987, February</td>\n      <td>1987.0</td>\n    </tr>\n    <tr>\n      <th>4</th>\n      <td>1576</td>\n      <td>Richard Grayson (New Earth)</td>\n      <td>\\/wiki\\/Richard_Grayson_(New_Earth)</td>\n      <td>Secret Identity</td>\n      <td>Good Characters</td>\n      <td>Blue Eyes</td>\n      <td>Black Hair</td>\n      <td>Male Characters</td>\n      <td>NaN</td>\n      <td>Living Characters</td>\n      <td>1237.0</td>\n      <td>1940, April</td>\n      <td>1940.0</td>\n    </tr>\n    <tr>\n      <th>...</th>\n      <td>...</td>\n      <td>...</td>\n      <td>...</td>\n      <td>...</td>\n      <td>...</td>\n      <td>...</td>\n      <td>...</td>\n      <td>...</td>\n      <td>...</td>\n      <td>...</td>\n      <td>...</td>\n      <td>...</td>\n      <td>...</td>\n    </tr>\n    <tr>\n      <th>6891</th>\n      <td>66302</td>\n      <td>Nadine West (New Earth)</td>\n      <td>\\/wiki\\/Nadine_West_(New_Earth)</td>\n      <td>Public Identity</td>\n      <td>Good Characters</td>\n      <td>NaN</td>\n      <td>NaN</td>\n      <td>Female Characters</td>\n      <td>NaN</td>\n      <td>Living Characters</td>\n      <td>NaN</td>\n      <td>NaN</td>\n      <td>NaN</td>\n    </tr>\n    <tr>\n      <th>6892</th>\n      <td>283475</td>\n      <td>Warren Harding (New Earth)</td>\n      <td>\\/wiki\\/Warren_Harding_(New_Earth)</td>\n      <td>Public Identity</td>\n      <td>Good Characters</td>\n      <td>NaN</td>\n      <td>NaN</td>\n      <td>Male Characters</td>\n      <td>NaN</td>\n      <td>Living Characters</td>\n      <td>NaN</td>\n      <td>NaN</td>\n      <td>NaN</td>\n    </tr>\n    <tr>\n      <th>6893</th>\n      <td>283478</td>\n      <td>William Harrison (New Earth)</td>\n      <td>\\/wiki\\/William_Harrison_(New_Earth)</td>\n      <td>Public Identity</td>\n      <td>Good Characters</td>\n      <td>NaN</td>\n      <td>NaN</td>\n      <td>Male Characters</td>\n      <td>NaN</td>\n      <td>Living Characters</td>\n      <td>NaN</td>\n      <td>NaN</td>\n      <td>NaN</td>\n    </tr>\n    <tr>\n      <th>6894</th>\n      <td>283471</td>\n      <td>William McKinley (New Earth)</td>\n      <td>\\/wiki\\/William_McKinley_(New_Earth)</td>\n      <td>Public Identity</td>\n      <td>Good Characters</td>\n      <td>NaN</td>\n      <td>NaN</td>\n      <td>Male Characters</td>\n      <td>NaN</td>\n      <td>Living Characters</td>\n      <td>NaN</td>\n      <td>NaN</td>\n      <td>NaN</td>\n    </tr>\n    <tr>\n      <th>6895</th>\n      <td>150660</td>\n      <td>Mookie (New Earth)</td>\n      <td>\\/wiki\\/Mookie_(New_Earth)</td>\n      <td>Public Identity</td>\n      <td>Bad Characters</td>\n      <td>Blue Eyes</td>\n      <td>Blond Hair</td>\n      <td>Male Characters</td>\n      <td>NaN</td>\n      <td>Living Characters</td>\n      <td>NaN</td>\n      <td>NaN</td>\n      <td>NaN</td>\n    </tr>\n  </tbody>\n</table>\n<p>6896 rows × 13 columns</p>\n</div>"
     },
     "metadata": {},
     "execution_count": 18
    }
   ],
   "source": [
    "dc = pd.read_table('../dataset/rome-airbnb/dc-wikia-data.csv', sep=',')\n",
    "dc"
   ]
  },
  {
   "cell_type": "markdown",
   "metadata": {
    "id": "rational-royal"
   },
   "source": [
    "Specifing column types:"
   ]
  },
  {
   "cell_type": "code",
   "execution_count": 19,
   "metadata": {
    "id": "continental-agreement",
    "outputId": "82861bf7-89b2-4e82-eae2-6d6045abd9e1"
   },
   "outputs": [
    {
     "output_type": "execute_result",
     "data": {
      "text/plain": [
       "      page_id                          name  \\\n",
       "0        1422          Batman (Bruce Wayne)   \n",
       "1       23387         Superman (Clark Kent)   \n",
       "2        1458    Green Lantern (Hal Jordan)   \n",
       "3        1659      James Gordon (New Earth)   \n",
       "4        1576   Richard Grayson (New Earth)   \n",
       "...       ...                           ...   \n",
       "6891    66302       Nadine West (New Earth)   \n",
       "6892   283475    Warren Harding (New Earth)   \n",
       "6893   283478  William Harrison (New Earth)   \n",
       "6894   283471  William McKinley (New Earth)   \n",
       "6895   150660            Mookie (New Earth)   \n",
       "\n",
       "                                   urlslug               ID            ALIGN  \\\n",
       "0             \\/wiki\\/Batman_(Bruce_Wayne)  Secret Identity  Good Characters   \n",
       "1            \\/wiki\\/Superman_(Clark_Kent)  Secret Identity  Good Characters   \n",
       "2       \\/wiki\\/Green_Lantern_(Hal_Jordan)  Secret Identity  Good Characters   \n",
       "3         \\/wiki\\/James_Gordon_(New_Earth)  Public Identity  Good Characters   \n",
       "4      \\/wiki\\/Richard_Grayson_(New_Earth)  Secret Identity  Good Characters   \n",
       "...                                    ...              ...              ...   \n",
       "6891       \\/wiki\\/Nadine_West_(New_Earth)  Public Identity  Good Characters   \n",
       "6892    \\/wiki\\/Warren_Harding_(New_Earth)  Public Identity  Good Characters   \n",
       "6893  \\/wiki\\/William_Harrison_(New_Earth)  Public Identity  Good Characters   \n",
       "6894  \\/wiki\\/William_McKinley_(New_Earth)  Public Identity  Good Characters   \n",
       "6895            \\/wiki\\/Mookie_(New_Earth)  Public Identity   Bad Characters   \n",
       "\n",
       "             EYE        HAIR                SEX  GSM              ALIVE  \\\n",
       "0      Blue Eyes  Black Hair    Male Characters  NaN  Living Characters   \n",
       "1      Blue Eyes  Black Hair    Male Characters  NaN  Living Characters   \n",
       "2     Brown Eyes  Brown Hair    Male Characters  NaN  Living Characters   \n",
       "3     Brown Eyes  White Hair    Male Characters  NaN  Living Characters   \n",
       "4      Blue Eyes  Black Hair    Male Characters  NaN  Living Characters   \n",
       "...          ...         ...                ...  ...                ...   \n",
       "6891         NaN         NaN  Female Characters  NaN  Living Characters   \n",
       "6892         NaN         NaN    Male Characters  NaN  Living Characters   \n",
       "6893         NaN         NaN    Male Characters  NaN  Living Characters   \n",
       "6894         NaN         NaN    Male Characters  NaN  Living Characters   \n",
       "6895   Blue Eyes  Blond Hair    Male Characters  NaN  Living Characters   \n",
       "\n",
       "      APPEARANCES FIRST APPEARANCE    YEAR  \n",
       "0          3093.0        1939, May  1939.0  \n",
       "1          2496.0    1986, October  1986.0  \n",
       "2          1565.0    1959, October  1959.0  \n",
       "3          1316.0   1987, February  1987.0  \n",
       "4          1237.0      1940, April  1940.0  \n",
       "...           ...              ...     ...  \n",
       "6891          NaN              NaN     NaN  \n",
       "6892          NaN              NaN     NaN  \n",
       "6893          NaN              NaN     NaN  \n",
       "6894          NaN              NaN     NaN  \n",
       "6895          NaN              NaN     NaN  \n",
       "\n",
       "[6896 rows x 13 columns]"
      ],
      "text/html": "<div>\n<style scoped>\n    .dataframe tbody tr th:only-of-type {\n        vertical-align: middle;\n    }\n\n    .dataframe tbody tr th {\n        vertical-align: top;\n    }\n\n    .dataframe thead th {\n        text-align: right;\n    }\n</style>\n<table border=\"1\" class=\"dataframe\">\n  <thead>\n    <tr style=\"text-align: right;\">\n      <th></th>\n      <th>page_id</th>\n      <th>name</th>\n      <th>urlslug</th>\n      <th>ID</th>\n      <th>ALIGN</th>\n      <th>EYE</th>\n      <th>HAIR</th>\n      <th>SEX</th>\n      <th>GSM</th>\n      <th>ALIVE</th>\n      <th>APPEARANCES</th>\n      <th>FIRST APPEARANCE</th>\n      <th>YEAR</th>\n    </tr>\n  </thead>\n  <tbody>\n    <tr>\n      <th>0</th>\n      <td>1422</td>\n      <td>Batman (Bruce Wayne)</td>\n      <td>\\/wiki\\/Batman_(Bruce_Wayne)</td>\n      <td>Secret Identity</td>\n      <td>Good Characters</td>\n      <td>Blue Eyes</td>\n      <td>Black Hair</td>\n      <td>Male Characters</td>\n      <td>NaN</td>\n      <td>Living Characters</td>\n      <td>3093.0</td>\n      <td>1939, May</td>\n      <td>1939.0</td>\n    </tr>\n    <tr>\n      <th>1</th>\n      <td>23387</td>\n      <td>Superman (Clark Kent)</td>\n      <td>\\/wiki\\/Superman_(Clark_Kent)</td>\n      <td>Secret Identity</td>\n      <td>Good Characters</td>\n      <td>Blue Eyes</td>\n      <td>Black Hair</td>\n      <td>Male Characters</td>\n      <td>NaN</td>\n      <td>Living Characters</td>\n      <td>2496.0</td>\n      <td>1986, October</td>\n      <td>1986.0</td>\n    </tr>\n    <tr>\n      <th>2</th>\n      <td>1458</td>\n      <td>Green Lantern (Hal Jordan)</td>\n      <td>\\/wiki\\/Green_Lantern_(Hal_Jordan)</td>\n      <td>Secret Identity</td>\n      <td>Good Characters</td>\n      <td>Brown Eyes</td>\n      <td>Brown Hair</td>\n      <td>Male Characters</td>\n      <td>NaN</td>\n      <td>Living Characters</td>\n      <td>1565.0</td>\n      <td>1959, October</td>\n      <td>1959.0</td>\n    </tr>\n    <tr>\n      <th>3</th>\n      <td>1659</td>\n      <td>James Gordon (New Earth)</td>\n      <td>\\/wiki\\/James_Gordon_(New_Earth)</td>\n      <td>Public Identity</td>\n      <td>Good Characters</td>\n      <td>Brown Eyes</td>\n      <td>White Hair</td>\n      <td>Male Characters</td>\n      <td>NaN</td>\n      <td>Living Characters</td>\n      <td>1316.0</td>\n      <td>1987, February</td>\n      <td>1987.0</td>\n    </tr>\n    <tr>\n      <th>4</th>\n      <td>1576</td>\n      <td>Richard Grayson (New Earth)</td>\n      <td>\\/wiki\\/Richard_Grayson_(New_Earth)</td>\n      <td>Secret Identity</td>\n      <td>Good Characters</td>\n      <td>Blue Eyes</td>\n      <td>Black Hair</td>\n      <td>Male Characters</td>\n      <td>NaN</td>\n      <td>Living Characters</td>\n      <td>1237.0</td>\n      <td>1940, April</td>\n      <td>1940.0</td>\n    </tr>\n    <tr>\n      <th>...</th>\n      <td>...</td>\n      <td>...</td>\n      <td>...</td>\n      <td>...</td>\n      <td>...</td>\n      <td>...</td>\n      <td>...</td>\n      <td>...</td>\n      <td>...</td>\n      <td>...</td>\n      <td>...</td>\n      <td>...</td>\n      <td>...</td>\n    </tr>\n    <tr>\n      <th>6891</th>\n      <td>66302</td>\n      <td>Nadine West (New Earth)</td>\n      <td>\\/wiki\\/Nadine_West_(New_Earth)</td>\n      <td>Public Identity</td>\n      <td>Good Characters</td>\n      <td>NaN</td>\n      <td>NaN</td>\n      <td>Female Characters</td>\n      <td>NaN</td>\n      <td>Living Characters</td>\n      <td>NaN</td>\n      <td>NaN</td>\n      <td>NaN</td>\n    </tr>\n    <tr>\n      <th>6892</th>\n      <td>283475</td>\n      <td>Warren Harding (New Earth)</td>\n      <td>\\/wiki\\/Warren_Harding_(New_Earth)</td>\n      <td>Public Identity</td>\n      <td>Good Characters</td>\n      <td>NaN</td>\n      <td>NaN</td>\n      <td>Male Characters</td>\n      <td>NaN</td>\n      <td>Living Characters</td>\n      <td>NaN</td>\n      <td>NaN</td>\n      <td>NaN</td>\n    </tr>\n    <tr>\n      <th>6893</th>\n      <td>283478</td>\n      <td>William Harrison (New Earth)</td>\n      <td>\\/wiki\\/William_Harrison_(New_Earth)</td>\n      <td>Public Identity</td>\n      <td>Good Characters</td>\n      <td>NaN</td>\n      <td>NaN</td>\n      <td>Male Characters</td>\n      <td>NaN</td>\n      <td>Living Characters</td>\n      <td>NaN</td>\n      <td>NaN</td>\n      <td>NaN</td>\n    </tr>\n    <tr>\n      <th>6894</th>\n      <td>283471</td>\n      <td>William McKinley (New Earth)</td>\n      <td>\\/wiki\\/William_McKinley_(New_Earth)</td>\n      <td>Public Identity</td>\n      <td>Good Characters</td>\n      <td>NaN</td>\n      <td>NaN</td>\n      <td>Male Characters</td>\n      <td>NaN</td>\n      <td>Living Characters</td>\n      <td>NaN</td>\n      <td>NaN</td>\n      <td>NaN</td>\n    </tr>\n    <tr>\n      <th>6895</th>\n      <td>150660</td>\n      <td>Mookie (New Earth)</td>\n      <td>\\/wiki\\/Mookie_(New_Earth)</td>\n      <td>Public Identity</td>\n      <td>Bad Characters</td>\n      <td>Blue Eyes</td>\n      <td>Blond Hair</td>\n      <td>Male Characters</td>\n      <td>NaN</td>\n      <td>Living Characters</td>\n      <td>NaN</td>\n      <td>NaN</td>\n      <td>NaN</td>\n    </tr>\n  </tbody>\n</table>\n<p>6896 rows × 13 columns</p>\n</div>"
     },
     "metadata": {},
     "execution_count": 19
    }
   ],
   "source": [
    "pd.read_table(\n",
    "  '../dataset/rome-airbnb/dc-wikia-data.csv', \n",
    "  sep=',',\n",
    "  dtype={\n",
    "      'page_id': 'int', \n",
    "      'name': 'string',\n",
    "      # ...\n",
    "    }\n",
    "  )"
   ]
  },
  {
   "cell_type": "markdown",
   "metadata": {
    "id": "dominican-survivor"
   },
   "source": [
    "Set all column names lowercase:"
   ]
  },
  {
   "cell_type": "code",
   "execution_count": 20,
   "metadata": {
    "id": "sixth-spelling",
    "lines_to_next_cell": 0,
    "outputId": "ae5309e9-418a-4eaa-e33c-f88fdb5aafa2",
    "title": "rename columns (immutable)"
   },
   "outputs": [
    {
     "output_type": "execute_result",
     "data": {
      "text/plain": [
       "      page_id                          name  \\\n",
       "0        1422          Batman (Bruce Wayne)   \n",
       "1       23387         Superman (Clark Kent)   \n",
       "2        1458    Green Lantern (Hal Jordan)   \n",
       "3        1659      James Gordon (New Earth)   \n",
       "4        1576   Richard Grayson (New Earth)   \n",
       "...       ...                           ...   \n",
       "6891    66302       Nadine West (New Earth)   \n",
       "6892   283475    Warren Harding (New Earth)   \n",
       "6893   283478  William Harrison (New Earth)   \n",
       "6894   283471  William McKinley (New Earth)   \n",
       "6895   150660            Mookie (New Earth)   \n",
       "\n",
       "                                   urlslug               id            align  \\\n",
       "0             \\/wiki\\/Batman_(Bruce_Wayne)  Secret Identity  Good Characters   \n",
       "1            \\/wiki\\/Superman_(Clark_Kent)  Secret Identity  Good Characters   \n",
       "2       \\/wiki\\/Green_Lantern_(Hal_Jordan)  Secret Identity  Good Characters   \n",
       "3         \\/wiki\\/James_Gordon_(New_Earth)  Public Identity  Good Characters   \n",
       "4      \\/wiki\\/Richard_Grayson_(New_Earth)  Secret Identity  Good Characters   \n",
       "...                                    ...              ...              ...   \n",
       "6891       \\/wiki\\/Nadine_West_(New_Earth)  Public Identity  Good Characters   \n",
       "6892    \\/wiki\\/Warren_Harding_(New_Earth)  Public Identity  Good Characters   \n",
       "6893  \\/wiki\\/William_Harrison_(New_Earth)  Public Identity  Good Characters   \n",
       "6894  \\/wiki\\/William_McKinley_(New_Earth)  Public Identity  Good Characters   \n",
       "6895            \\/wiki\\/Mookie_(New_Earth)  Public Identity   Bad Characters   \n",
       "\n",
       "             eye        hair                sex  gsm              alive  \\\n",
       "0      Blue Eyes  Black Hair    Male Characters  NaN  Living Characters   \n",
       "1      Blue Eyes  Black Hair    Male Characters  NaN  Living Characters   \n",
       "2     Brown Eyes  Brown Hair    Male Characters  NaN  Living Characters   \n",
       "3     Brown Eyes  White Hair    Male Characters  NaN  Living Characters   \n",
       "4      Blue Eyes  Black Hair    Male Characters  NaN  Living Characters   \n",
       "...          ...         ...                ...  ...                ...   \n",
       "6891         NaN         NaN  Female Characters  NaN  Living Characters   \n",
       "6892         NaN         NaN    Male Characters  NaN  Living Characters   \n",
       "6893         NaN         NaN    Male Characters  NaN  Living Characters   \n",
       "6894         NaN         NaN    Male Characters  NaN  Living Characters   \n",
       "6895   Blue Eyes  Blond Hair    Male Characters  NaN  Living Characters   \n",
       "\n",
       "      appearances first appearance    year  \n",
       "0          3093.0        1939, May  1939.0  \n",
       "1          2496.0    1986, October  1986.0  \n",
       "2          1565.0    1959, October  1959.0  \n",
       "3          1316.0   1987, February  1987.0  \n",
       "4          1237.0      1940, April  1940.0  \n",
       "...           ...              ...     ...  \n",
       "6891          NaN              NaN     NaN  \n",
       "6892          NaN              NaN     NaN  \n",
       "6893          NaN              NaN     NaN  \n",
       "6894          NaN              NaN     NaN  \n",
       "6895          NaN              NaN     NaN  \n",
       "\n",
       "[6896 rows x 13 columns]"
      ],
      "text/html": "<div>\n<style scoped>\n    .dataframe tbody tr th:only-of-type {\n        vertical-align: middle;\n    }\n\n    .dataframe tbody tr th {\n        vertical-align: top;\n    }\n\n    .dataframe thead th {\n        text-align: right;\n    }\n</style>\n<table border=\"1\" class=\"dataframe\">\n  <thead>\n    <tr style=\"text-align: right;\">\n      <th></th>\n      <th>page_id</th>\n      <th>name</th>\n      <th>urlslug</th>\n      <th>id</th>\n      <th>align</th>\n      <th>eye</th>\n      <th>hair</th>\n      <th>sex</th>\n      <th>gsm</th>\n      <th>alive</th>\n      <th>appearances</th>\n      <th>first appearance</th>\n      <th>year</th>\n    </tr>\n  </thead>\n  <tbody>\n    <tr>\n      <th>0</th>\n      <td>1422</td>\n      <td>Batman (Bruce Wayne)</td>\n      <td>\\/wiki\\/Batman_(Bruce_Wayne)</td>\n      <td>Secret Identity</td>\n      <td>Good Characters</td>\n      <td>Blue Eyes</td>\n      <td>Black Hair</td>\n      <td>Male Characters</td>\n      <td>NaN</td>\n      <td>Living Characters</td>\n      <td>3093.0</td>\n      <td>1939, May</td>\n      <td>1939.0</td>\n    </tr>\n    <tr>\n      <th>1</th>\n      <td>23387</td>\n      <td>Superman (Clark Kent)</td>\n      <td>\\/wiki\\/Superman_(Clark_Kent)</td>\n      <td>Secret Identity</td>\n      <td>Good Characters</td>\n      <td>Blue Eyes</td>\n      <td>Black Hair</td>\n      <td>Male Characters</td>\n      <td>NaN</td>\n      <td>Living Characters</td>\n      <td>2496.0</td>\n      <td>1986, October</td>\n      <td>1986.0</td>\n    </tr>\n    <tr>\n      <th>2</th>\n      <td>1458</td>\n      <td>Green Lantern (Hal Jordan)</td>\n      <td>\\/wiki\\/Green_Lantern_(Hal_Jordan)</td>\n      <td>Secret Identity</td>\n      <td>Good Characters</td>\n      <td>Brown Eyes</td>\n      <td>Brown Hair</td>\n      <td>Male Characters</td>\n      <td>NaN</td>\n      <td>Living Characters</td>\n      <td>1565.0</td>\n      <td>1959, October</td>\n      <td>1959.0</td>\n    </tr>\n    <tr>\n      <th>3</th>\n      <td>1659</td>\n      <td>James Gordon (New Earth)</td>\n      <td>\\/wiki\\/James_Gordon_(New_Earth)</td>\n      <td>Public Identity</td>\n      <td>Good Characters</td>\n      <td>Brown Eyes</td>\n      <td>White Hair</td>\n      <td>Male Characters</td>\n      <td>NaN</td>\n      <td>Living Characters</td>\n      <td>1316.0</td>\n      <td>1987, February</td>\n      <td>1987.0</td>\n    </tr>\n    <tr>\n      <th>4</th>\n      <td>1576</td>\n      <td>Richard Grayson (New Earth)</td>\n      <td>\\/wiki\\/Richard_Grayson_(New_Earth)</td>\n      <td>Secret Identity</td>\n      <td>Good Characters</td>\n      <td>Blue Eyes</td>\n      <td>Black Hair</td>\n      <td>Male Characters</td>\n      <td>NaN</td>\n      <td>Living Characters</td>\n      <td>1237.0</td>\n      <td>1940, April</td>\n      <td>1940.0</td>\n    </tr>\n    <tr>\n      <th>...</th>\n      <td>...</td>\n      <td>...</td>\n      <td>...</td>\n      <td>...</td>\n      <td>...</td>\n      <td>...</td>\n      <td>...</td>\n      <td>...</td>\n      <td>...</td>\n      <td>...</td>\n      <td>...</td>\n      <td>...</td>\n      <td>...</td>\n    </tr>\n    <tr>\n      <th>6891</th>\n      <td>66302</td>\n      <td>Nadine West (New Earth)</td>\n      <td>\\/wiki\\/Nadine_West_(New_Earth)</td>\n      <td>Public Identity</td>\n      <td>Good Characters</td>\n      <td>NaN</td>\n      <td>NaN</td>\n      <td>Female Characters</td>\n      <td>NaN</td>\n      <td>Living Characters</td>\n      <td>NaN</td>\n      <td>NaN</td>\n      <td>NaN</td>\n    </tr>\n    <tr>\n      <th>6892</th>\n      <td>283475</td>\n      <td>Warren Harding (New Earth)</td>\n      <td>\\/wiki\\/Warren_Harding_(New_Earth)</td>\n      <td>Public Identity</td>\n      <td>Good Characters</td>\n      <td>NaN</td>\n      <td>NaN</td>\n      <td>Male Characters</td>\n      <td>NaN</td>\n      <td>Living Characters</td>\n      <td>NaN</td>\n      <td>NaN</td>\n      <td>NaN</td>\n    </tr>\n    <tr>\n      <th>6893</th>\n      <td>283478</td>\n      <td>William Harrison (New Earth)</td>\n      <td>\\/wiki\\/William_Harrison_(New_Earth)</td>\n      <td>Public Identity</td>\n      <td>Good Characters</td>\n      <td>NaN</td>\n      <td>NaN</td>\n      <td>Male Characters</td>\n      <td>NaN</td>\n      <td>Living Characters</td>\n      <td>NaN</td>\n      <td>NaN</td>\n      <td>NaN</td>\n    </tr>\n    <tr>\n      <th>6894</th>\n      <td>283471</td>\n      <td>William McKinley (New Earth)</td>\n      <td>\\/wiki\\/William_McKinley_(New_Earth)</td>\n      <td>Public Identity</td>\n      <td>Good Characters</td>\n      <td>NaN</td>\n      <td>NaN</td>\n      <td>Male Characters</td>\n      <td>NaN</td>\n      <td>Living Characters</td>\n      <td>NaN</td>\n      <td>NaN</td>\n      <td>NaN</td>\n    </tr>\n    <tr>\n      <th>6895</th>\n      <td>150660</td>\n      <td>Mookie (New Earth)</td>\n      <td>\\/wiki\\/Mookie_(New_Earth)</td>\n      <td>Public Identity</td>\n      <td>Bad Characters</td>\n      <td>Blue Eyes</td>\n      <td>Blond Hair</td>\n      <td>Male Characters</td>\n      <td>NaN</td>\n      <td>Living Characters</td>\n      <td>NaN</td>\n      <td>NaN</td>\n      <td>NaN</td>\n    </tr>\n  </tbody>\n</table>\n<p>6896 rows × 13 columns</p>\n</div>"
     },
     "metadata": {},
     "execution_count": 20
    }
   ],
   "source": [
    "dc = dc.rename(columns = lambda x: x.lower())\n",
    "dc"
   ]
  },
  {
   "cell_type": "markdown",
   "metadata": {
    "id": "concrete-definition"
   },
   "source": []
  },
  {
   "cell_type": "markdown",
   "metadata": {
    "id": "postal-permit"
   },
   "source": [
    "## Basic operations"
   ]
  },
  {
   "cell_type": "markdown",
   "metadata": {
    "id": "organized-gabriel"
   },
   "source": [
    "### Simple column selection"
   ]
  },
  {
   "cell_type": "code",
   "execution_count": 21,
   "metadata": {
    "id": "perfect-employee",
    "lines_to_next_cell": 2,
    "outputId": "aac95d77-90d5-48e9-a272-0967d0aa6cab"
   },
   "outputs": [
    {
     "output_type": "execute_result",
     "data": {
      "text/plain": [
       "                              name  appearances                sex\n",
       "0             Batman (Bruce Wayne)       3093.0    Male Characters\n",
       "1            Superman (Clark Kent)       2496.0    Male Characters\n",
       "2       Green Lantern (Hal Jordan)       1565.0    Male Characters\n",
       "3         James Gordon (New Earth)       1316.0    Male Characters\n",
       "4      Richard Grayson (New Earth)       1237.0    Male Characters\n",
       "...                            ...          ...                ...\n",
       "6891       Nadine West (New Earth)          NaN  Female Characters\n",
       "6892    Warren Harding (New Earth)          NaN    Male Characters\n",
       "6893  William Harrison (New Earth)          NaN    Male Characters\n",
       "6894  William McKinley (New Earth)          NaN    Male Characters\n",
       "6895            Mookie (New Earth)          NaN    Male Characters\n",
       "\n",
       "[6896 rows x 3 columns]"
      ],
      "text/html": "<div>\n<style scoped>\n    .dataframe tbody tr th:only-of-type {\n        vertical-align: middle;\n    }\n\n    .dataframe tbody tr th {\n        vertical-align: top;\n    }\n\n    .dataframe thead th {\n        text-align: right;\n    }\n</style>\n<table border=\"1\" class=\"dataframe\">\n  <thead>\n    <tr style=\"text-align: right;\">\n      <th></th>\n      <th>name</th>\n      <th>appearances</th>\n      <th>sex</th>\n    </tr>\n  </thead>\n  <tbody>\n    <tr>\n      <th>0</th>\n      <td>Batman (Bruce Wayne)</td>\n      <td>3093.0</td>\n      <td>Male Characters</td>\n    </tr>\n    <tr>\n      <th>1</th>\n      <td>Superman (Clark Kent)</td>\n      <td>2496.0</td>\n      <td>Male Characters</td>\n    </tr>\n    <tr>\n      <th>2</th>\n      <td>Green Lantern (Hal Jordan)</td>\n      <td>1565.0</td>\n      <td>Male Characters</td>\n    </tr>\n    <tr>\n      <th>3</th>\n      <td>James Gordon (New Earth)</td>\n      <td>1316.0</td>\n      <td>Male Characters</td>\n    </tr>\n    <tr>\n      <th>4</th>\n      <td>Richard Grayson (New Earth)</td>\n      <td>1237.0</td>\n      <td>Male Characters</td>\n    </tr>\n    <tr>\n      <th>...</th>\n      <td>...</td>\n      <td>...</td>\n      <td>...</td>\n    </tr>\n    <tr>\n      <th>6891</th>\n      <td>Nadine West (New Earth)</td>\n      <td>NaN</td>\n      <td>Female Characters</td>\n    </tr>\n    <tr>\n      <th>6892</th>\n      <td>Warren Harding (New Earth)</td>\n      <td>NaN</td>\n      <td>Male Characters</td>\n    </tr>\n    <tr>\n      <th>6893</th>\n      <td>William Harrison (New Earth)</td>\n      <td>NaN</td>\n      <td>Male Characters</td>\n    </tr>\n    <tr>\n      <th>6894</th>\n      <td>William McKinley (New Earth)</td>\n      <td>NaN</td>\n      <td>Male Characters</td>\n    </tr>\n    <tr>\n      <th>6895</th>\n      <td>Mookie (New Earth)</td>\n      <td>NaN</td>\n      <td>Male Characters</td>\n    </tr>\n  </tbody>\n</table>\n<p>6896 rows × 3 columns</p>\n</div>"
     },
     "metadata": {},
     "execution_count": 21
    }
   ],
   "source": [
    "# select columns: name, appearances, sex\n",
    "dc_2 = dc[['name', 'appearances', 'sex']]\n",
    "dc_2"
   ]
  },
  {
   "cell_type": "markdown",
   "metadata": {
    "id": "emotional-pendant"
   },
   "source": [
    "### Simple row filter"
   ]
  },
  {
   "cell_type": "code",
   "execution_count": 22,
   "metadata": {
    "id": "normal-capital",
    "outputId": "a1057985-b26f-48b4-dd3e-b4a95c638f5b"
   },
   "outputs": [
    {
     "output_type": "execute_result",
     "data": {
      "text/plain": [
       "                                name  appearances                sex\n",
       "5        Wonder Woman (Diana Prince)       1231.0  Female Characters\n",
       "8     Dinah Laurel Lance (New Earth)       1075.0  Female Characters\n",
       "10                        GenderTest       1028.0  Female Characters\n",
       "12        Barbara Gordon (New Earth)        951.0  Female Characters\n",
       "14             Lois Lane (New Earth)        934.0  Female Characters\n",
       "...                              ...          ...                ...\n",
       "6878       Dorothea Tane (New Earth)          NaN  Female Characters\n",
       "6881          Doris Zuel (New Earth)          NaN  Female Characters\n",
       "6882           Doris Lee (New Earth)          NaN  Female Characters\n",
       "6885          Catwoman (Selina Kyle)          NaN  Female Characters\n",
       "6891         Nadine West (New Earth)          NaN  Female Characters\n",
       "\n",
       "[1967 rows x 3 columns]"
      ],
      "text/html": "<div>\n<style scoped>\n    .dataframe tbody tr th:only-of-type {\n        vertical-align: middle;\n    }\n\n    .dataframe tbody tr th {\n        vertical-align: top;\n    }\n\n    .dataframe thead th {\n        text-align: right;\n    }\n</style>\n<table border=\"1\" class=\"dataframe\">\n  <thead>\n    <tr style=\"text-align: right;\">\n      <th></th>\n      <th>name</th>\n      <th>appearances</th>\n      <th>sex</th>\n    </tr>\n  </thead>\n  <tbody>\n    <tr>\n      <th>5</th>\n      <td>Wonder Woman (Diana Prince)</td>\n      <td>1231.0</td>\n      <td>Female Characters</td>\n    </tr>\n    <tr>\n      <th>8</th>\n      <td>Dinah Laurel Lance (New Earth)</td>\n      <td>1075.0</td>\n      <td>Female Characters</td>\n    </tr>\n    <tr>\n      <th>10</th>\n      <td>GenderTest</td>\n      <td>1028.0</td>\n      <td>Female Characters</td>\n    </tr>\n    <tr>\n      <th>12</th>\n      <td>Barbara Gordon (New Earth)</td>\n      <td>951.0</td>\n      <td>Female Characters</td>\n    </tr>\n    <tr>\n      <th>14</th>\n      <td>Lois Lane (New Earth)</td>\n      <td>934.0</td>\n      <td>Female Characters</td>\n    </tr>\n    <tr>\n      <th>...</th>\n      <td>...</td>\n      <td>...</td>\n      <td>...</td>\n    </tr>\n    <tr>\n      <th>6878</th>\n      <td>Dorothea Tane (New Earth)</td>\n      <td>NaN</td>\n      <td>Female Characters</td>\n    </tr>\n    <tr>\n      <th>6881</th>\n      <td>Doris Zuel (New Earth)</td>\n      <td>NaN</td>\n      <td>Female Characters</td>\n    </tr>\n    <tr>\n      <th>6882</th>\n      <td>Doris Lee (New Earth)</td>\n      <td>NaN</td>\n      <td>Female Characters</td>\n    </tr>\n    <tr>\n      <th>6885</th>\n      <td>Catwoman (Selina Kyle)</td>\n      <td>NaN</td>\n      <td>Female Characters</td>\n    </tr>\n    <tr>\n      <th>6891</th>\n      <td>Nadine West (New Earth)</td>\n      <td>NaN</td>\n      <td>Female Characters</td>\n    </tr>\n  </tbody>\n</table>\n<p>1967 rows × 3 columns</p>\n</div>"
     },
     "metadata": {},
     "execution_count": 22
    }
   ],
   "source": [
    "# get the \"Female Characters\"\n",
    "dc_2_female = dc_2[dc_2.sex == \"Female Characters\"]\n",
    "dc_2_female"
   ]
  },
  {
   "cell_type": "markdown",
   "metadata": {
    "id": "several-trout"
   },
   "source": [
    "### Pipeline\n",
    "\n",
    "Two operations in one pipeline:"
   ]
  },
  {
   "cell_type": "code",
   "execution_count": 23,
   "metadata": {
    "id": "composed-dairy",
    "lines_to_next_cell": 0,
    "outputId": "08bf98a7-bc39-49a9-e675-106a36c3151d"
   },
   "outputs": [
    {
     "output_type": "execute_result",
     "data": {
      "text/plain": [
       "                                name  appearances                sex\n",
       "5        Wonder Woman (Diana Prince)       1231.0  Female Characters\n",
       "8     Dinah Laurel Lance (New Earth)       1075.0  Female Characters\n",
       "10                        GenderTest       1028.0  Female Characters\n",
       "12        Barbara Gordon (New Earth)        951.0  Female Characters\n",
       "14             Lois Lane (New Earth)        934.0  Female Characters\n",
       "...                              ...          ...                ...\n",
       "6878       Dorothea Tane (New Earth)          NaN  Female Characters\n",
       "6881          Doris Zuel (New Earth)          NaN  Female Characters\n",
       "6882           Doris Lee (New Earth)          NaN  Female Characters\n",
       "6885          Catwoman (Selina Kyle)          NaN  Female Characters\n",
       "6891         Nadine West (New Earth)          NaN  Female Characters\n",
       "\n",
       "[1967 rows x 3 columns]"
      ],
      "text/html": "<div>\n<style scoped>\n    .dataframe tbody tr th:only-of-type {\n        vertical-align: middle;\n    }\n\n    .dataframe tbody tr th {\n        vertical-align: top;\n    }\n\n    .dataframe thead th {\n        text-align: right;\n    }\n</style>\n<table border=\"1\" class=\"dataframe\">\n  <thead>\n    <tr style=\"text-align: right;\">\n      <th></th>\n      <th>name</th>\n      <th>appearances</th>\n      <th>sex</th>\n    </tr>\n  </thead>\n  <tbody>\n    <tr>\n      <th>5</th>\n      <td>Wonder Woman (Diana Prince)</td>\n      <td>1231.0</td>\n      <td>Female Characters</td>\n    </tr>\n    <tr>\n      <th>8</th>\n      <td>Dinah Laurel Lance (New Earth)</td>\n      <td>1075.0</td>\n      <td>Female Characters</td>\n    </tr>\n    <tr>\n      <th>10</th>\n      <td>GenderTest</td>\n      <td>1028.0</td>\n      <td>Female Characters</td>\n    </tr>\n    <tr>\n      <th>12</th>\n      <td>Barbara Gordon (New Earth)</td>\n      <td>951.0</td>\n      <td>Female Characters</td>\n    </tr>\n    <tr>\n      <th>14</th>\n      <td>Lois Lane (New Earth)</td>\n      <td>934.0</td>\n      <td>Female Characters</td>\n    </tr>\n    <tr>\n      <th>...</th>\n      <td>...</td>\n      <td>...</td>\n      <td>...</td>\n    </tr>\n    <tr>\n      <th>6878</th>\n      <td>Dorothea Tane (New Earth)</td>\n      <td>NaN</td>\n      <td>Female Characters</td>\n    </tr>\n    <tr>\n      <th>6881</th>\n      <td>Doris Zuel (New Earth)</td>\n      <td>NaN</td>\n      <td>Female Characters</td>\n    </tr>\n    <tr>\n      <th>6882</th>\n      <td>Doris Lee (New Earth)</td>\n      <td>NaN</td>\n      <td>Female Characters</td>\n    </tr>\n    <tr>\n      <th>6885</th>\n      <td>Catwoman (Selina Kyle)</td>\n      <td>NaN</td>\n      <td>Female Characters</td>\n    </tr>\n    <tr>\n      <th>6891</th>\n      <td>Nadine West (New Earth)</td>\n      <td>NaN</td>\n      <td>Female Characters</td>\n    </tr>\n  </tbody>\n</table>\n<p>1967 rows × 3 columns</p>\n</div>"
     },
     "metadata": {},
     "execution_count": 23
    }
   ],
   "source": [
    "dc[['name', 'appearances', 'sex']][dc.sex == \"Female Characters\"]"
   ]
  },
  {
   "cell_type": "markdown",
   "metadata": {
    "id": "endangered-stockholm"
   },
   "source": []
  },
  {
   "cell_type": "markdown",
   "metadata": {
    "id": "paperback-underwear"
   },
   "source": [
    "## Column Selections"
   ]
  },
  {
   "cell_type": "markdown",
   "metadata": {
    "id": "excellent-kenya"
   },
   "source": [
    "#### Basic selections "
   ]
  },
  {
   "cell_type": "code",
   "execution_count": 28,
   "metadata": {
    "id": "harmful-senior",
    "lines_to_next_cell": 2,
    "outputId": "501ee505-c7da-49bd-de5e-6a3a42b3e28f"
   },
   "outputs": [
    {
     "output_type": "execute_result",
     "data": {
      "text/plain": [
       "                              name               id            align  \\\n",
       "0             Batman (Bruce Wayne)  Secret Identity  Good Characters   \n",
       "1            Superman (Clark Kent)  Secret Identity  Good Characters   \n",
       "2       Green Lantern (Hal Jordan)  Secret Identity  Good Characters   \n",
       "3         James Gordon (New Earth)  Public Identity  Good Characters   \n",
       "4      Richard Grayson (New Earth)  Secret Identity  Good Characters   \n",
       "...                            ...              ...              ...   \n",
       "6891       Nadine West (New Earth)  Public Identity  Good Characters   \n",
       "6892    Warren Harding (New Earth)  Public Identity  Good Characters   \n",
       "6893  William Harrison (New Earth)  Public Identity  Good Characters   \n",
       "6894  William McKinley (New Earth)  Public Identity  Good Characters   \n",
       "6895            Mookie (New Earth)  Public Identity   Bad Characters   \n",
       "\n",
       "             eye        hair                sex  gsm              alive  \\\n",
       "0      Blue Eyes  Black Hair    Male Characters  NaN  Living Characters   \n",
       "1      Blue Eyes  Black Hair    Male Characters  NaN  Living Characters   \n",
       "2     Brown Eyes  Brown Hair    Male Characters  NaN  Living Characters   \n",
       "3     Brown Eyes  White Hair    Male Characters  NaN  Living Characters   \n",
       "4      Blue Eyes  Black Hair    Male Characters  NaN  Living Characters   \n",
       "...          ...         ...                ...  ...                ...   \n",
       "6891         NaN         NaN  Female Characters  NaN  Living Characters   \n",
       "6892         NaN         NaN    Male Characters  NaN  Living Characters   \n",
       "6893         NaN         NaN    Male Characters  NaN  Living Characters   \n",
       "6894         NaN         NaN    Male Characters  NaN  Living Characters   \n",
       "6895   Blue Eyes  Blond Hair    Male Characters  NaN  Living Characters   \n",
       "\n",
       "      appearances first appearance    year  \n",
       "0          3093.0        1939, May  1939.0  \n",
       "1          2496.0    1986, October  1986.0  \n",
       "2          1565.0    1959, October  1959.0  \n",
       "3          1316.0   1987, February  1987.0  \n",
       "4          1237.0      1940, April  1940.0  \n",
       "...           ...              ...     ...  \n",
       "6891          NaN              NaN     NaN  \n",
       "6892          NaN              NaN     NaN  \n",
       "6893          NaN              NaN     NaN  \n",
       "6894          NaN              NaN     NaN  \n",
       "6895          NaN              NaN     NaN  \n",
       "\n",
       "[6896 rows x 11 columns]"
      ],
      "text/html": "<div>\n<style scoped>\n    .dataframe tbody tr th:only-of-type {\n        vertical-align: middle;\n    }\n\n    .dataframe tbody tr th {\n        vertical-align: top;\n    }\n\n    .dataframe thead th {\n        text-align: right;\n    }\n</style>\n<table border=\"1\" class=\"dataframe\">\n  <thead>\n    <tr style=\"text-align: right;\">\n      <th></th>\n      <th>name</th>\n      <th>id</th>\n      <th>align</th>\n      <th>eye</th>\n      <th>hair</th>\n      <th>sex</th>\n      <th>gsm</th>\n      <th>alive</th>\n      <th>appearances</th>\n      <th>first appearance</th>\n      <th>year</th>\n    </tr>\n  </thead>\n  <tbody>\n    <tr>\n      <th>0</th>\n      <td>Batman (Bruce Wayne)</td>\n      <td>Secret Identity</td>\n      <td>Good Characters</td>\n      <td>Blue Eyes</td>\n      <td>Black Hair</td>\n      <td>Male Characters</td>\n      <td>NaN</td>\n      <td>Living Characters</td>\n      <td>3093.0</td>\n      <td>1939, May</td>\n      <td>1939.0</td>\n    </tr>\n    <tr>\n      <th>1</th>\n      <td>Superman (Clark Kent)</td>\n      <td>Secret Identity</td>\n      <td>Good Characters</td>\n      <td>Blue Eyes</td>\n      <td>Black Hair</td>\n      <td>Male Characters</td>\n      <td>NaN</td>\n      <td>Living Characters</td>\n      <td>2496.0</td>\n      <td>1986, October</td>\n      <td>1986.0</td>\n    </tr>\n    <tr>\n      <th>2</th>\n      <td>Green Lantern (Hal Jordan)</td>\n      <td>Secret Identity</td>\n      <td>Good Characters</td>\n      <td>Brown Eyes</td>\n      <td>Brown Hair</td>\n      <td>Male Characters</td>\n      <td>NaN</td>\n      <td>Living Characters</td>\n      <td>1565.0</td>\n      <td>1959, October</td>\n      <td>1959.0</td>\n    </tr>\n    <tr>\n      <th>3</th>\n      <td>James Gordon (New Earth)</td>\n      <td>Public Identity</td>\n      <td>Good Characters</td>\n      <td>Brown Eyes</td>\n      <td>White Hair</td>\n      <td>Male Characters</td>\n      <td>NaN</td>\n      <td>Living Characters</td>\n      <td>1316.0</td>\n      <td>1987, February</td>\n      <td>1987.0</td>\n    </tr>\n    <tr>\n      <th>4</th>\n      <td>Richard Grayson (New Earth)</td>\n      <td>Secret Identity</td>\n      <td>Good Characters</td>\n      <td>Blue Eyes</td>\n      <td>Black Hair</td>\n      <td>Male Characters</td>\n      <td>NaN</td>\n      <td>Living Characters</td>\n      <td>1237.0</td>\n      <td>1940, April</td>\n      <td>1940.0</td>\n    </tr>\n    <tr>\n      <th>...</th>\n      <td>...</td>\n      <td>...</td>\n      <td>...</td>\n      <td>...</td>\n      <td>...</td>\n      <td>...</td>\n      <td>...</td>\n      <td>...</td>\n      <td>...</td>\n      <td>...</td>\n      <td>...</td>\n    </tr>\n    <tr>\n      <th>6891</th>\n      <td>Nadine West (New Earth)</td>\n      <td>Public Identity</td>\n      <td>Good Characters</td>\n      <td>NaN</td>\n      <td>NaN</td>\n      <td>Female Characters</td>\n      <td>NaN</td>\n      <td>Living Characters</td>\n      <td>NaN</td>\n      <td>NaN</td>\n      <td>NaN</td>\n    </tr>\n    <tr>\n      <th>6892</th>\n      <td>Warren Harding (New Earth)</td>\n      <td>Public Identity</td>\n      <td>Good Characters</td>\n      <td>NaN</td>\n      <td>NaN</td>\n      <td>Male Characters</td>\n      <td>NaN</td>\n      <td>Living Characters</td>\n      <td>NaN</td>\n      <td>NaN</td>\n      <td>NaN</td>\n    </tr>\n    <tr>\n      <th>6893</th>\n      <td>William Harrison (New Earth)</td>\n      <td>Public Identity</td>\n      <td>Good Characters</td>\n      <td>NaN</td>\n      <td>NaN</td>\n      <td>Male Characters</td>\n      <td>NaN</td>\n      <td>Living Characters</td>\n      <td>NaN</td>\n      <td>NaN</td>\n      <td>NaN</td>\n    </tr>\n    <tr>\n      <th>6894</th>\n      <td>William McKinley (New Earth)</td>\n      <td>Public Identity</td>\n      <td>Good Characters</td>\n      <td>NaN</td>\n      <td>NaN</td>\n      <td>Male Characters</td>\n      <td>NaN</td>\n      <td>Living Characters</td>\n      <td>NaN</td>\n      <td>NaN</td>\n      <td>NaN</td>\n    </tr>\n    <tr>\n      <th>6895</th>\n      <td>Mookie (New Earth)</td>\n      <td>Public Identity</td>\n      <td>Bad Characters</td>\n      <td>Blue Eyes</td>\n      <td>Blond Hair</td>\n      <td>Male Characters</td>\n      <td>NaN</td>\n      <td>Living Characters</td>\n      <td>NaN</td>\n      <td>NaN</td>\n      <td>NaN</td>\n    </tr>\n  </tbody>\n</table>\n<p>6896 rows × 11 columns</p>\n</div>"
     },
     "metadata": {},
     "execution_count": 28
    }
   ],
   "source": [
    "# select a range (unmutable)\n",
    "dc.loc[:,'name':'year'] \n",
    "\n",
    "# deselect (immutable)\n",
    "dc.drop(columns=['page_id', 'urlslug'])\n",
    "# or (immutable)\n",
    "dc.drop(['page_id', 'urlslug'], axis=1)"
   ]
  },
  {
   "cell_type": "code",
   "execution_count": 29,
   "metadata": {
    "id": "classical-relevance",
    "outputId": "fd1dfa5d-78b7-40b5-e566-71612a640fcd"
   },
   "outputs": [
    {
     "output_type": "execute_result",
     "data": {
      "text/plain": [
       "                              name        secret_id\n",
       "0             Batman (Bruce Wayne)  Secret Identity\n",
       "1            Superman (Clark Kent)  Secret Identity\n",
       "2       Green Lantern (Hal Jordan)  Secret Identity\n",
       "3         James Gordon (New Earth)  Public Identity\n",
       "4      Richard Grayson (New Earth)  Secret Identity\n",
       "...                            ...              ...\n",
       "6891       Nadine West (New Earth)  Public Identity\n",
       "6892    Warren Harding (New Earth)  Public Identity\n",
       "6893  William Harrison (New Earth)  Public Identity\n",
       "6894  William McKinley (New Earth)  Public Identity\n",
       "6895            Mookie (New Earth)  Public Identity\n",
       "\n",
       "[6896 rows x 2 columns]"
      ],
      "text/html": "<div>\n<style scoped>\n    .dataframe tbody tr th:only-of-type {\n        vertical-align: middle;\n    }\n\n    .dataframe tbody tr th {\n        vertical-align: top;\n    }\n\n    .dataframe thead th {\n        text-align: right;\n    }\n</style>\n<table border=\"1\" class=\"dataframe\">\n  <thead>\n    <tr style=\"text-align: right;\">\n      <th></th>\n      <th>name</th>\n      <th>secret_id</th>\n    </tr>\n  </thead>\n  <tbody>\n    <tr>\n      <th>0</th>\n      <td>Batman (Bruce Wayne)</td>\n      <td>Secret Identity</td>\n    </tr>\n    <tr>\n      <th>1</th>\n      <td>Superman (Clark Kent)</td>\n      <td>Secret Identity</td>\n    </tr>\n    <tr>\n      <th>2</th>\n      <td>Green Lantern (Hal Jordan)</td>\n      <td>Secret Identity</td>\n    </tr>\n    <tr>\n      <th>3</th>\n      <td>James Gordon (New Earth)</td>\n      <td>Public Identity</td>\n    </tr>\n    <tr>\n      <th>4</th>\n      <td>Richard Grayson (New Earth)</td>\n      <td>Secret Identity</td>\n    </tr>\n    <tr>\n      <th>...</th>\n      <td>...</td>\n      <td>...</td>\n    </tr>\n    <tr>\n      <th>6891</th>\n      <td>Nadine West (New Earth)</td>\n      <td>Public Identity</td>\n    </tr>\n    <tr>\n      <th>6892</th>\n      <td>Warren Harding (New Earth)</td>\n      <td>Public Identity</td>\n    </tr>\n    <tr>\n      <th>6893</th>\n      <td>William Harrison (New Earth)</td>\n      <td>Public Identity</td>\n    </tr>\n    <tr>\n      <th>6894</th>\n      <td>William McKinley (New Earth)</td>\n      <td>Public Identity</td>\n    </tr>\n    <tr>\n      <th>6895</th>\n      <td>Mookie (New Earth)</td>\n      <td>Public Identity</td>\n    </tr>\n  </tbody>\n</table>\n<p>6896 rows × 2 columns</p>\n</div>"
     },
     "metadata": {},
     "execution_count": 29
    }
   ],
   "source": [
    "# rename 'id' to 'secret_id' (unmutable because 'inplace'=False, dc has changed because of the assignation)\n",
    "dc = dc.rename(columns={'id': 'secret_id'}, inplace=False)\n",
    "dc[['name', 'secret_id']]"
   ]
  },
  {
   "cell_type": "markdown",
   "metadata": {
    "id": "minus-enlargement"
   },
   "source": [
    "NB: `inplace=False` means not to change the data frame, but to push changes in the result only (immutable method)."
   ]
  },
  {
   "cell_type": "markdown",
   "metadata": {
    "id": "palestinian-stations"
   },
   "source": [
    "#### Name matching (filter)\n",
    "\n",
    "Select matching columns with [filter](https://pandas.pydata.org/docs/reference/api/pandas.DataFrame.filter.html)"
   ]
  },
  {
   "cell_type": "code",
   "execution_count": null,
   "metadata": {
    "id": "statistical-tender",
    "lines_to_next_cell": 2,
    "outputId": "fc7652ee-0efa-4153-9661-a598dffee2cd"
   },
   "outputs": [
    {
     "data": {
      "text/plain": [
       "Index(['page_id', 'name', 'urlslug', 'secret_id', 'align', 'eye', 'hair',\n",
       "       'sex', 'gsm', 'alive', 'appearances', 'first appearance', 'year'],\n",
       "      dtype='object')"
      ]
     },
     "execution_count": 72,
     "metadata": {
      "tags": []
     },
     "output_type": "execute_result"
    }
   ],
   "source": [
    "# all column names\n",
    "dc.columns"
   ]
  },
  {
   "cell_type": "code",
   "execution_count": 30,
   "metadata": {
    "id": "secret-automation",
    "outputId": "87bcb99c-3a79-49d8-a556-22b890f699f3"
   },
   "outputs": [
    {
     "output_type": "execute_result",
     "data": {
      "text/plain": [
       "                              name first appearance  appearances\n",
       "0             Batman (Bruce Wayne)        1939, May       3093.0\n",
       "1            Superman (Clark Kent)    1986, October       2496.0\n",
       "2       Green Lantern (Hal Jordan)    1959, October       1565.0\n",
       "3         James Gordon (New Earth)   1987, February       1316.0\n",
       "4      Richard Grayson (New Earth)      1940, April       1237.0\n",
       "...                            ...              ...          ...\n",
       "6891       Nadine West (New Earth)              NaN          NaN\n",
       "6892    Warren Harding (New Earth)              NaN          NaN\n",
       "6893  William Harrison (New Earth)              NaN          NaN\n",
       "6894  William McKinley (New Earth)              NaN          NaN\n",
       "6895            Mookie (New Earth)              NaN          NaN\n",
       "\n",
       "[6896 rows x 3 columns]"
      ],
      "text/html": "<div>\n<style scoped>\n    .dataframe tbody tr th:only-of-type {\n        vertical-align: middle;\n    }\n\n    .dataframe tbody tr th {\n        vertical-align: top;\n    }\n\n    .dataframe thead th {\n        text-align: right;\n    }\n</style>\n<table border=\"1\" class=\"dataframe\">\n  <thead>\n    <tr style=\"text-align: right;\">\n      <th></th>\n      <th>name</th>\n      <th>first appearance</th>\n      <th>appearances</th>\n    </tr>\n  </thead>\n  <tbody>\n    <tr>\n      <th>0</th>\n      <td>Batman (Bruce Wayne)</td>\n      <td>1939, May</td>\n      <td>3093.0</td>\n    </tr>\n    <tr>\n      <th>1</th>\n      <td>Superman (Clark Kent)</td>\n      <td>1986, October</td>\n      <td>2496.0</td>\n    </tr>\n    <tr>\n      <th>2</th>\n      <td>Green Lantern (Hal Jordan)</td>\n      <td>1959, October</td>\n      <td>1565.0</td>\n    </tr>\n    <tr>\n      <th>3</th>\n      <td>James Gordon (New Earth)</td>\n      <td>1987, February</td>\n      <td>1316.0</td>\n    </tr>\n    <tr>\n      <th>4</th>\n      <td>Richard Grayson (New Earth)</td>\n      <td>1940, April</td>\n      <td>1237.0</td>\n    </tr>\n    <tr>\n      <th>...</th>\n      <td>...</td>\n      <td>...</td>\n      <td>...</td>\n    </tr>\n    <tr>\n      <th>6891</th>\n      <td>Nadine West (New Earth)</td>\n      <td>NaN</td>\n      <td>NaN</td>\n    </tr>\n    <tr>\n      <th>6892</th>\n      <td>Warren Harding (New Earth)</td>\n      <td>NaN</td>\n      <td>NaN</td>\n    </tr>\n    <tr>\n      <th>6893</th>\n      <td>William Harrison (New Earth)</td>\n      <td>NaN</td>\n      <td>NaN</td>\n    </tr>\n    <tr>\n      <th>6894</th>\n      <td>William McKinley (New Earth)</td>\n      <td>NaN</td>\n      <td>NaN</td>\n    </tr>\n    <tr>\n      <th>6895</th>\n      <td>Mookie (New Earth)</td>\n      <td>NaN</td>\n      <td>NaN</td>\n    </tr>\n  </tbody>\n</table>\n<p>6896 rows × 3 columns</p>\n</div>"
     },
     "metadata": {},
     "execution_count": 30
    }
   ],
   "source": [
    "# select columns by name\n",
    "dc.filter(items=['name', 'first appearance', 'appearances'])"
   ]
  },
  {
   "cell_type": "code",
   "execution_count": 31,
   "metadata": {},
   "outputs": [
    {
     "output_type": "execute_result",
     "data": {
      "text/plain": [
       "      appearances first appearance\n",
       "0          3093.0        1939, May\n",
       "1          2496.0    1986, October\n",
       "2          1565.0    1959, October\n",
       "3          1316.0   1987, February\n",
       "4          1237.0      1940, April\n",
       "...           ...              ...\n",
       "6891          NaN              NaN\n",
       "6892          NaN              NaN\n",
       "6893          NaN              NaN\n",
       "6894          NaN              NaN\n",
       "6895          NaN              NaN\n",
       "\n",
       "[6896 rows x 2 columns]"
      ],
      "text/html": "<div>\n<style scoped>\n    .dataframe tbody tr th:only-of-type {\n        vertical-align: middle;\n    }\n\n    .dataframe tbody tr th {\n        vertical-align: top;\n    }\n\n    .dataframe thead th {\n        text-align: right;\n    }\n</style>\n<table border=\"1\" class=\"dataframe\">\n  <thead>\n    <tr style=\"text-align: right;\">\n      <th></th>\n      <th>appearances</th>\n      <th>first appearance</th>\n    </tr>\n  </thead>\n  <tbody>\n    <tr>\n      <th>0</th>\n      <td>3093.0</td>\n      <td>1939, May</td>\n    </tr>\n    <tr>\n      <th>1</th>\n      <td>2496.0</td>\n      <td>1986, October</td>\n    </tr>\n    <tr>\n      <th>2</th>\n      <td>1565.0</td>\n      <td>1959, October</td>\n    </tr>\n    <tr>\n      <th>3</th>\n      <td>1316.0</td>\n      <td>1987, February</td>\n    </tr>\n    <tr>\n      <th>4</th>\n      <td>1237.0</td>\n      <td>1940, April</td>\n    </tr>\n    <tr>\n      <th>...</th>\n      <td>...</td>\n      <td>...</td>\n    </tr>\n    <tr>\n      <th>6891</th>\n      <td>NaN</td>\n      <td>NaN</td>\n    </tr>\n    <tr>\n      <th>6892</th>\n      <td>NaN</td>\n      <td>NaN</td>\n    </tr>\n    <tr>\n      <th>6893</th>\n      <td>NaN</td>\n      <td>NaN</td>\n    </tr>\n    <tr>\n      <th>6894</th>\n      <td>NaN</td>\n      <td>NaN</td>\n    </tr>\n    <tr>\n      <th>6895</th>\n      <td>NaN</td>\n      <td>NaN</td>\n    </tr>\n  </tbody>\n</table>\n<p>6896 rows × 2 columns</p>\n</div>"
     },
     "metadata": {},
     "execution_count": 31
    }
   ],
   "source": [
    "# select columns containing 'appearance' as sub-string\n",
    "dc.filter(like='appearance', axis=1)"
   ]
  },
  {
   "cell_type": "markdown",
   "metadata": {
    "id": "intensive-header"
   },
   "source": [
    "Use [Regular-expressions](https://en.wikipedia.org/wiki/Regular_expression) (regex)"
   ]
  },
  {
   "cell_type": "code",
   "execution_count": 32,
   "metadata": {},
   "outputs": [
    {
     "output_type": "execute_result",
     "data": {
      "text/plain": [
       "      appearances\n",
       "0          3093.0\n",
       "1          2496.0\n",
       "2          1565.0\n",
       "3          1316.0\n",
       "4          1237.0\n",
       "...           ...\n",
       "6891          NaN\n",
       "6892          NaN\n",
       "6893          NaN\n",
       "6894          NaN\n",
       "6895          NaN\n",
       "\n",
       "[6896 rows x 1 columns]"
      ],
      "text/html": "<div>\n<style scoped>\n    .dataframe tbody tr th:only-of-type {\n        vertical-align: middle;\n    }\n\n    .dataframe tbody tr th {\n        vertical-align: top;\n    }\n\n    .dataframe thead th {\n        text-align: right;\n    }\n</style>\n<table border=\"1\" class=\"dataframe\">\n  <thead>\n    <tr style=\"text-align: right;\">\n      <th></th>\n      <th>appearances</th>\n    </tr>\n  </thead>\n  <tbody>\n    <tr>\n      <th>0</th>\n      <td>3093.0</td>\n    </tr>\n    <tr>\n      <th>1</th>\n      <td>2496.0</td>\n    </tr>\n    <tr>\n      <th>2</th>\n      <td>1565.0</td>\n    </tr>\n    <tr>\n      <th>3</th>\n      <td>1316.0</td>\n    </tr>\n    <tr>\n      <th>4</th>\n      <td>1237.0</td>\n    </tr>\n    <tr>\n      <th>...</th>\n      <td>...</td>\n    </tr>\n    <tr>\n      <th>6891</th>\n      <td>NaN</td>\n    </tr>\n    <tr>\n      <th>6892</th>\n      <td>NaN</td>\n    </tr>\n    <tr>\n      <th>6893</th>\n      <td>NaN</td>\n    </tr>\n    <tr>\n      <th>6894</th>\n      <td>NaN</td>\n    </tr>\n    <tr>\n      <th>6895</th>\n      <td>NaN</td>\n    </tr>\n  </tbody>\n</table>\n<p>6896 rows × 1 columns</p>\n</div>"
     },
     "metadata": {},
     "execution_count": 32
    }
   ],
   "source": [
    "# begin with a specific string\n",
    "dc.filter(regex='^appearance', axis=1)"
   ]
  },
  {
   "cell_type": "code",
   "execution_count": null,
   "metadata": {
    "id": "automatic-newark",
    "lines_to_next_cell": 2,
    "outputId": "1d4bc672-e778-4319-a33f-32c27ffe3fa8"
   },
   "outputs": [
    {
     "data": {
      "text/html": [
       "<div>\n",
       "<style scoped>\n",
       "    .dataframe tbody tr th:only-of-type {\n",
       "        vertical-align: middle;\n",
       "    }\n",
       "\n",
       "    .dataframe tbody tr th {\n",
       "        vertical-align: top;\n",
       "    }\n",
       "\n",
       "    .dataframe thead th {\n",
       "        text-align: right;\n",
       "    }\n",
       "</style>\n",
       "<table border=\"1\" class=\"dataframe\">\n",
       "  <thead>\n",
       "    <tr style=\"text-align: right;\">\n",
       "      <th></th>\n",
       "      <th>first appearance</th>\n",
       "    </tr>\n",
       "  </thead>\n",
       "  <tbody>\n",
       "    <tr>\n",
       "      <th>0</th>\n",
       "      <td>1939, May</td>\n",
       "    </tr>\n",
       "    <tr>\n",
       "      <th>1</th>\n",
       "      <td>1986, October</td>\n",
       "    </tr>\n",
       "    <tr>\n",
       "      <th>2</th>\n",
       "      <td>1959, October</td>\n",
       "    </tr>\n",
       "    <tr>\n",
       "      <th>3</th>\n",
       "      <td>1987, February</td>\n",
       "    </tr>\n",
       "    <tr>\n",
       "      <th>4</th>\n",
       "      <td>1940, April</td>\n",
       "    </tr>\n",
       "    <tr>\n",
       "      <th>...</th>\n",
       "      <td>...</td>\n",
       "    </tr>\n",
       "    <tr>\n",
       "      <th>6891</th>\n",
       "      <td>NaN</td>\n",
       "    </tr>\n",
       "    <tr>\n",
       "      <th>6892</th>\n",
       "      <td>NaN</td>\n",
       "    </tr>\n",
       "    <tr>\n",
       "      <th>6893</th>\n",
       "      <td>NaN</td>\n",
       "    </tr>\n",
       "    <tr>\n",
       "      <th>6894</th>\n",
       "      <td>NaN</td>\n",
       "    </tr>\n",
       "    <tr>\n",
       "      <th>6895</th>\n",
       "      <td>NaN</td>\n",
       "    </tr>\n",
       "  </tbody>\n",
       "</table>\n",
       "<p>6896 rows × 1 columns</p>\n",
       "</div>"
      ],
      "text/plain": [
       "     first appearance\n",
       "0           1939, May\n",
       "1       1986, October\n",
       "2       1959, October\n",
       "3      1987, February\n",
       "4         1940, April\n",
       "...               ...\n",
       "6891              NaN\n",
       "6892              NaN\n",
       "6893              NaN\n",
       "6894              NaN\n",
       "6895              NaN\n",
       "\n",
       "[6896 rows x 1 columns]"
      ]
     },
     "execution_count": 74,
     "metadata": {
      "tags": []
     },
     "output_type": "execute_result"
    }
   ],
   "source": [
    "# end with a specific string\n",
    "dc.filter(regex='appearance$', axis=1)"
   ]
  },
  {
   "cell_type": "markdown",
   "metadata": {
    "id": "thorough-weekend"
   },
   "source": [
    "NB: the `^` and `$` signs in a regular expression mean respectively the begin and the end of the string.\n"
   ]
  },
  {
   "cell_type": "code",
   "execution_count": null,
   "metadata": {
    "id": "amino-machine",
    "outputId": "b2c2c5a1-8aa0-4422-daf3-c1c558ceffe7"
   },
   "outputs": [
    {
     "data": {
      "text/html": [
       "<div>\n",
       "<style scoped>\n",
       "    .dataframe tbody tr th:only-of-type {\n",
       "        vertical-align: middle;\n",
       "    }\n",
       "\n",
       "    .dataframe tbody tr th {\n",
       "        vertical-align: top;\n",
       "    }\n",
       "\n",
       "    .dataframe thead th {\n",
       "        text-align: right;\n",
       "    }\n",
       "</style>\n",
       "<table border=\"1\" class=\"dataframe\">\n",
       "  <thead>\n",
       "    <tr style=\"text-align: right;\">\n",
       "      <th></th>\n",
       "      <th>secret_id</th>\n",
       "    </tr>\n",
       "  </thead>\n",
       "  <tbody>\n",
       "    <tr>\n",
       "      <th>0</th>\n",
       "      <td>Secret Identity</td>\n",
       "    </tr>\n",
       "    <tr>\n",
       "      <th>1</th>\n",
       "      <td>Secret Identity</td>\n",
       "    </tr>\n",
       "    <tr>\n",
       "      <th>2</th>\n",
       "      <td>Secret Identity</td>\n",
       "    </tr>\n",
       "    <tr>\n",
       "      <th>3</th>\n",
       "      <td>Public Identity</td>\n",
       "    </tr>\n",
       "    <tr>\n",
       "      <th>4</th>\n",
       "      <td>Secret Identity</td>\n",
       "    </tr>\n",
       "    <tr>\n",
       "      <th>...</th>\n",
       "      <td>...</td>\n",
       "    </tr>\n",
       "    <tr>\n",
       "      <th>6891</th>\n",
       "      <td>Public Identity</td>\n",
       "    </tr>\n",
       "    <tr>\n",
       "      <th>6892</th>\n",
       "      <td>Public Identity</td>\n",
       "    </tr>\n",
       "    <tr>\n",
       "      <th>6893</th>\n",
       "      <td>Public Identity</td>\n",
       "    </tr>\n",
       "    <tr>\n",
       "      <th>6894</th>\n",
       "      <td>Public Identity</td>\n",
       "    </tr>\n",
       "    <tr>\n",
       "      <th>6895</th>\n",
       "      <td>Public Identity</td>\n",
       "    </tr>\n",
       "  </tbody>\n",
       "</table>\n",
       "<p>6896 rows × 1 columns</p>\n",
       "</div>"
      ],
      "text/plain": [
       "            secret_id\n",
       "0     Secret Identity\n",
       "1     Secret Identity\n",
       "2     Secret Identity\n",
       "3     Public Identity\n",
       "4     Secret Identity\n",
       "...               ...\n",
       "6891  Public Identity\n",
       "6892  Public Identity\n",
       "6893  Public Identity\n",
       "6894  Public Identity\n",
       "6895  Public Identity\n",
       "\n",
       "[6896 rows x 1 columns]"
      ]
     },
     "execution_count": 75,
     "metadata": {
      "tags": []
     },
     "output_type": "execute_result"
    }
   ],
   "source": [
    "# Any pattern you can create with a regex\n",
    "dc.filter(regex='s.+_id$', axis=1)"
   ]
  },
  {
   "cell_type": "markdown",
   "metadata": {
    "id": "static-silver"
   },
   "source": [
    "#### Select by type"
   ]
  },
  {
   "cell_type": "code",
   "execution_count": null,
   "metadata": {
    "id": "moving-feeling",
    "lines_to_next_cell": 2,
    "outputId": "02c34f2d-7581-4257-9714-cc5d4a3c37f1"
   },
   "outputs": [
    {
     "data": {
      "text/html": [
       "<div>\n",
       "<style scoped>\n",
       "    .dataframe tbody tr th:only-of-type {\n",
       "        vertical-align: middle;\n",
       "    }\n",
       "\n",
       "    .dataframe tbody tr th {\n",
       "        vertical-align: top;\n",
       "    }\n",
       "\n",
       "    .dataframe thead th {\n",
       "        text-align: right;\n",
       "    }\n",
       "</style>\n",
       "<table border=\"1\" class=\"dataframe\">\n",
       "  <thead>\n",
       "    <tr style=\"text-align: right;\">\n",
       "      <th></th>\n",
       "      <th>page_id</th>\n",
       "      <th>name</th>\n",
       "      <th>urlslug</th>\n",
       "      <th>secret_id</th>\n",
       "      <th>align</th>\n",
       "      <th>eye</th>\n",
       "      <th>hair</th>\n",
       "      <th>sex</th>\n",
       "      <th>gsm</th>\n",
       "      <th>alive</th>\n",
       "      <th>appearances</th>\n",
       "      <th>first appearance</th>\n",
       "      <th>year</th>\n",
       "    </tr>\n",
       "  </thead>\n",
       "  <tbody>\n",
       "    <tr>\n",
       "      <th>0</th>\n",
       "      <td>1422</td>\n",
       "      <td>Batman (Bruce Wayne)</td>\n",
       "      <td>\\/wiki\\/Batman_(Bruce_Wayne)</td>\n",
       "      <td>Secret Identity</td>\n",
       "      <td>Good Characters</td>\n",
       "      <td>Blue Eyes</td>\n",
       "      <td>Black Hair</td>\n",
       "      <td>Male Characters</td>\n",
       "      <td>NaN</td>\n",
       "      <td>Living Characters</td>\n",
       "      <td>3093.0</td>\n",
       "      <td>1939, May</td>\n",
       "      <td>1939.0</td>\n",
       "    </tr>\n",
       "    <tr>\n",
       "      <th>1</th>\n",
       "      <td>23387</td>\n",
       "      <td>Superman (Clark Kent)</td>\n",
       "      <td>\\/wiki\\/Superman_(Clark_Kent)</td>\n",
       "      <td>Secret Identity</td>\n",
       "      <td>Good Characters</td>\n",
       "      <td>Blue Eyes</td>\n",
       "      <td>Black Hair</td>\n",
       "      <td>Male Characters</td>\n",
       "      <td>NaN</td>\n",
       "      <td>Living Characters</td>\n",
       "      <td>2496.0</td>\n",
       "      <td>1986, October</td>\n",
       "      <td>1986.0</td>\n",
       "    </tr>\n",
       "    <tr>\n",
       "      <th>2</th>\n",
       "      <td>1458</td>\n",
       "      <td>Green Lantern (Hal Jordan)</td>\n",
       "      <td>\\/wiki\\/Green_Lantern_(Hal_Jordan)</td>\n",
       "      <td>Secret Identity</td>\n",
       "      <td>Good Characters</td>\n",
       "      <td>Brown Eyes</td>\n",
       "      <td>Brown Hair</td>\n",
       "      <td>Male Characters</td>\n",
       "      <td>NaN</td>\n",
       "      <td>Living Characters</td>\n",
       "      <td>1565.0</td>\n",
       "      <td>1959, October</td>\n",
       "      <td>1959.0</td>\n",
       "    </tr>\n",
       "    <tr>\n",
       "      <th>3</th>\n",
       "      <td>1659</td>\n",
       "      <td>James Gordon (New Earth)</td>\n",
       "      <td>\\/wiki\\/James_Gordon_(New_Earth)</td>\n",
       "      <td>Public Identity</td>\n",
       "      <td>Good Characters</td>\n",
       "      <td>Brown Eyes</td>\n",
       "      <td>White Hair</td>\n",
       "      <td>Male Characters</td>\n",
       "      <td>NaN</td>\n",
       "      <td>Living Characters</td>\n",
       "      <td>1316.0</td>\n",
       "      <td>1987, February</td>\n",
       "      <td>1987.0</td>\n",
       "    </tr>\n",
       "    <tr>\n",
       "      <th>4</th>\n",
       "      <td>1576</td>\n",
       "      <td>Richard Grayson (New Earth)</td>\n",
       "      <td>\\/wiki\\/Richard_Grayson_(New_Earth)</td>\n",
       "      <td>Secret Identity</td>\n",
       "      <td>Good Characters</td>\n",
       "      <td>Blue Eyes</td>\n",
       "      <td>Black Hair</td>\n",
       "      <td>Male Characters</td>\n",
       "      <td>NaN</td>\n",
       "      <td>Living Characters</td>\n",
       "      <td>1237.0</td>\n",
       "      <td>1940, April</td>\n",
       "      <td>1940.0</td>\n",
       "    </tr>\n",
       "  </tbody>\n",
       "</table>\n",
       "</div>"
      ],
      "text/plain": [
       "   page_id                         name                              urlslug  \\\n",
       "0     1422         Batman (Bruce Wayne)         \\/wiki\\/Batman_(Bruce_Wayne)   \n",
       "1    23387        Superman (Clark Kent)        \\/wiki\\/Superman_(Clark_Kent)   \n",
       "2     1458   Green Lantern (Hal Jordan)   \\/wiki\\/Green_Lantern_(Hal_Jordan)   \n",
       "3     1659     James Gordon (New Earth)     \\/wiki\\/James_Gordon_(New_Earth)   \n",
       "4     1576  Richard Grayson (New Earth)  \\/wiki\\/Richard_Grayson_(New_Earth)   \n",
       "\n",
       "         secret_id            align         eye        hair              sex  \\\n",
       "0  Secret Identity  Good Characters   Blue Eyes  Black Hair  Male Characters   \n",
       "1  Secret Identity  Good Characters   Blue Eyes  Black Hair  Male Characters   \n",
       "2  Secret Identity  Good Characters  Brown Eyes  Brown Hair  Male Characters   \n",
       "3  Public Identity  Good Characters  Brown Eyes  White Hair  Male Characters   \n",
       "4  Secret Identity  Good Characters   Blue Eyes  Black Hair  Male Characters   \n",
       "\n",
       "   gsm              alive  appearances first appearance    year  \n",
       "0  NaN  Living Characters       3093.0        1939, May  1939.0  \n",
       "1  NaN  Living Characters       2496.0    1986, October  1986.0  \n",
       "2  NaN  Living Characters       1565.0    1959, October  1959.0  \n",
       "3  NaN  Living Characters       1316.0   1987, February  1987.0  \n",
       "4  NaN  Living Characters       1237.0      1940, April  1940.0  "
      ]
     },
     "execution_count": 76,
     "metadata": {
      "tags": []
     },
     "output_type": "execute_result"
    }
   ],
   "source": [
    "# Select all numeric fields\n",
    "dc.select_dtypes(np.number).head()\n",
    "\n",
    "# Select all real fields\n",
    "dc.select_dtypes('float64').head()\n",
    "\n",
    "# Select all integer fields\n",
    "dc.select_dtypes('int64').head()\n",
    "\n",
    "# Exclude strings\n",
    "dc.select_dtypes(exclude='string').head()"
   ]
  },
  {
   "cell_type": "markdown",
   "metadata": {
    "id": "fundamental-pakistan"
   },
   "source": [
    "### Unique values"
   ]
  },
  {
   "cell_type": "code",
   "execution_count": 34,
   "metadata": {},
   "outputs": [
    {
     "output_type": "execute_result",
     "data": {
      "text/plain": [
       "array(['Male Characters', 'Female Characters', nan,\n",
       "       'Genderless Characters', 'Transgender Characters'], dtype=object)"
      ]
     },
     "metadata": {},
     "execution_count": 34
    }
   ],
   "source": [
    "# Unique values of a column\n",
    "dc.sex.unique()"
   ]
  },
  {
   "cell_type": "code",
   "execution_count": 35,
   "metadata": {},
   "outputs": [
    {
     "output_type": "execute_result",
     "data": {
      "text/plain": [
       "4"
      ]
     },
     "metadata": {},
     "execution_count": 35
    }
   ],
   "source": [
    "# Count of those unique values\n",
    "dc.sex.nunique()"
   ]
  },
  {
   "cell_type": "code",
   "execution_count": 33,
   "metadata": {
    "id": "historic-strike",
    "lines_to_next_cell": 2,
    "outputId": "676d4b18-b2c9-45a1-f747-08c1edc09a39"
   },
   "outputs": [
    {
     "output_type": "execute_result",
     "data": {
      "text/plain": [
       "5"
      ]
     },
     "metadata": {},
     "execution_count": 33
    }
   ],
   "source": [
    "dc.sex.nunique(dropna = False)"
   ]
  },
  {
   "cell_type": "markdown",
   "metadata": {
    "id": "corrected-instrumentation"
   },
   "source": [
    "## Row Filter\n"
   ]
  },
  {
   "cell_type": "code",
   "execution_count": 37,
   "metadata": {
    "id": "healthy-finding",
    "lines_to_next_cell": 2,
    "outputId": "8dcc41cc-b3a5-40f2-d25e-68c37fa6a23a"
   },
   "outputs": [
    {
     "output_type": "execute_result",
     "data": {
      "text/plain": [
       "                              name  appearances                sex        hair\n",
       "0             Batman (Bruce Wayne)       3093.0    Male Characters  Black Hair\n",
       "1            Superman (Clark Kent)       2496.0    Male Characters  Black Hair\n",
       "2       Green Lantern (Hal Jordan)       1565.0    Male Characters  Brown Hair\n",
       "3         James Gordon (New Earth)       1316.0    Male Characters  White Hair\n",
       "4      Richard Grayson (New Earth)       1237.0    Male Characters  Black Hair\n",
       "...                            ...          ...                ...         ...\n",
       "6891       Nadine West (New Earth)          NaN  Female Characters         NaN\n",
       "6892    Warren Harding (New Earth)          NaN    Male Characters         NaN\n",
       "6893  William Harrison (New Earth)          NaN    Male Characters         NaN\n",
       "6894  William McKinley (New Earth)          NaN    Male Characters         NaN\n",
       "6895            Mookie (New Earth)          NaN    Male Characters  Blond Hair\n",
       "\n",
       "[6896 rows x 4 columns]"
      ],
      "text/html": "<div>\n<style scoped>\n    .dataframe tbody tr th:only-of-type {\n        vertical-align: middle;\n    }\n\n    .dataframe tbody tr th {\n        vertical-align: top;\n    }\n\n    .dataframe thead th {\n        text-align: right;\n    }\n</style>\n<table border=\"1\" class=\"dataframe\">\n  <thead>\n    <tr style=\"text-align: right;\">\n      <th></th>\n      <th>name</th>\n      <th>appearances</th>\n      <th>sex</th>\n      <th>hair</th>\n    </tr>\n  </thead>\n  <tbody>\n    <tr>\n      <th>0</th>\n      <td>Batman (Bruce Wayne)</td>\n      <td>3093.0</td>\n      <td>Male Characters</td>\n      <td>Black Hair</td>\n    </tr>\n    <tr>\n      <th>1</th>\n      <td>Superman (Clark Kent)</td>\n      <td>2496.0</td>\n      <td>Male Characters</td>\n      <td>Black Hair</td>\n    </tr>\n    <tr>\n      <th>2</th>\n      <td>Green Lantern (Hal Jordan)</td>\n      <td>1565.0</td>\n      <td>Male Characters</td>\n      <td>Brown Hair</td>\n    </tr>\n    <tr>\n      <th>3</th>\n      <td>James Gordon (New Earth)</td>\n      <td>1316.0</td>\n      <td>Male Characters</td>\n      <td>White Hair</td>\n    </tr>\n    <tr>\n      <th>4</th>\n      <td>Richard Grayson (New Earth)</td>\n      <td>1237.0</td>\n      <td>Male Characters</td>\n      <td>Black Hair</td>\n    </tr>\n    <tr>\n      <th>...</th>\n      <td>...</td>\n      <td>...</td>\n      <td>...</td>\n      <td>...</td>\n    </tr>\n    <tr>\n      <th>6891</th>\n      <td>Nadine West (New Earth)</td>\n      <td>NaN</td>\n      <td>Female Characters</td>\n      <td>NaN</td>\n    </tr>\n    <tr>\n      <th>6892</th>\n      <td>Warren Harding (New Earth)</td>\n      <td>NaN</td>\n      <td>Male Characters</td>\n      <td>NaN</td>\n    </tr>\n    <tr>\n      <th>6893</th>\n      <td>William Harrison (New Earth)</td>\n      <td>NaN</td>\n      <td>Male Characters</td>\n      <td>NaN</td>\n    </tr>\n    <tr>\n      <th>6894</th>\n      <td>William McKinley (New Earth)</td>\n      <td>NaN</td>\n      <td>Male Characters</td>\n      <td>NaN</td>\n    </tr>\n    <tr>\n      <th>6895</th>\n      <td>Mookie (New Earth)</td>\n      <td>NaN</td>\n      <td>Male Characters</td>\n      <td>Blond Hair</td>\n    </tr>\n  </tbody>\n</table>\n<p>6896 rows × 4 columns</p>\n</div>"
     },
     "metadata": {},
     "execution_count": 37
    }
   ],
   "source": [
    "dc_simple = dc[['name', 'appearances', 'sex', 'hair']]\n",
    "dc_simple"
   ]
  },
  {
   "cell_type": "markdown",
   "metadata": {
    "id": "alpine-crisis"
   },
   "source": [
    "Simple filter:"
   ]
  },
  {
   "cell_type": "code",
   "execution_count": 38,
   "metadata": {
    "id": "eleven-benefit",
    "lines_to_next_cell": 0,
    "outputId": "32a60d21-eb13-47ba-f769-fc9c5433aef3"
   },
   "outputs": [
    {
     "output_type": "execute_result",
     "data": {
      "text/plain": [
       "                              name  appearances                sex        hair\n",
       "5      Wonder Woman (Diana Prince)       1231.0  Female Characters  Black Hair\n",
       "8   Dinah Laurel Lance (New Earth)       1075.0  Female Characters  Blond Hair\n",
       "10                      GenderTest       1028.0  Female Characters  Blond Hair\n",
       "12      Barbara Gordon (New Earth)        951.0  Female Characters    Red Hair\n",
       "14           Lois Lane (New Earth)        934.0  Female Characters  Black Hair"
      ],
      "text/html": "<div>\n<style scoped>\n    .dataframe tbody tr th:only-of-type {\n        vertical-align: middle;\n    }\n\n    .dataframe tbody tr th {\n        vertical-align: top;\n    }\n\n    .dataframe thead th {\n        text-align: right;\n    }\n</style>\n<table border=\"1\" class=\"dataframe\">\n  <thead>\n    <tr style=\"text-align: right;\">\n      <th></th>\n      <th>name</th>\n      <th>appearances</th>\n      <th>sex</th>\n      <th>hair</th>\n    </tr>\n  </thead>\n  <tbody>\n    <tr>\n      <th>5</th>\n      <td>Wonder Woman (Diana Prince)</td>\n      <td>1231.0</td>\n      <td>Female Characters</td>\n      <td>Black Hair</td>\n    </tr>\n    <tr>\n      <th>8</th>\n      <td>Dinah Laurel Lance (New Earth)</td>\n      <td>1075.0</td>\n      <td>Female Characters</td>\n      <td>Blond Hair</td>\n    </tr>\n    <tr>\n      <th>10</th>\n      <td>GenderTest</td>\n      <td>1028.0</td>\n      <td>Female Characters</td>\n      <td>Blond Hair</td>\n    </tr>\n    <tr>\n      <th>12</th>\n      <td>Barbara Gordon (New Earth)</td>\n      <td>951.0</td>\n      <td>Female Characters</td>\n      <td>Red Hair</td>\n    </tr>\n    <tr>\n      <th>14</th>\n      <td>Lois Lane (New Earth)</td>\n      <td>934.0</td>\n      <td>Female Characters</td>\n      <td>Black Hair</td>\n    </tr>\n  </tbody>\n</table>\n</div>"
     },
     "metadata": {},
     "execution_count": 38
    }
   ],
   "source": [
    "# get the \"Female Characters\"\n",
    "dc_simple[dc_simple.sex == 'Female Characters'].head()"
   ]
  },
  {
   "cell_type": "markdown",
   "metadata": {
    "id": "korean-butter"
   },
   "source": [
    "\n"
   ]
  },
  {
   "cell_type": "code",
   "execution_count": null,
   "metadata": {
    "id": "biological-sierra",
    "lines_to_next_cell": 2,
    "outputId": "c85cb1b2-5d2a-49c4-d36c-325035db1290"
   },
   "outputs": [
    {
     "data": {
      "text/html": [
       "<div>\n",
       "<style scoped>\n",
       "    .dataframe tbody tr th:only-of-type {\n",
       "        vertical-align: middle;\n",
       "    }\n",
       "\n",
       "    .dataframe tbody tr th {\n",
       "        vertical-align: top;\n",
       "    }\n",
       "\n",
       "    .dataframe thead th {\n",
       "        text-align: right;\n",
       "    }\n",
       "</style>\n",
       "<table border=\"1\" class=\"dataframe\">\n",
       "  <thead>\n",
       "    <tr style=\"text-align: right;\">\n",
       "      <th></th>\n",
       "      <th>name</th>\n",
       "      <th>appearances</th>\n",
       "      <th>sex</th>\n",
       "      <th>hair</th>\n",
       "    </tr>\n",
       "  </thead>\n",
       "  <tbody>\n",
       "    <tr>\n",
       "      <th>8</th>\n",
       "      <td>Dinah Laurel Lance (New Earth)</td>\n",
       "      <td>1075.0</td>\n",
       "      <td>Female Characters</td>\n",
       "      <td>Blond Hair</td>\n",
       "    </tr>\n",
       "    <tr>\n",
       "      <th>10</th>\n",
       "      <td>GenderTest</td>\n",
       "      <td>1028.0</td>\n",
       "      <td>Female Characters</td>\n",
       "      <td>Blond Hair</td>\n",
       "    </tr>\n",
       "    <tr>\n",
       "      <th>21</th>\n",
       "      <td>Kara Zor-L (Earth-Two)</td>\n",
       "      <td>635.0</td>\n",
       "      <td>Female Characters</td>\n",
       "      <td>Blond Hair</td>\n",
       "    </tr>\n",
       "    <tr>\n",
       "      <th>38</th>\n",
       "      <td>Cassandra Sandsmark (New Earth)</td>\n",
       "      <td>423.0</td>\n",
       "      <td>Female Characters</td>\n",
       "      <td>Blond Hair</td>\n",
       "    </tr>\n",
       "    <tr>\n",
       "      <th>67</th>\n",
       "      <td>Courtney Whitmore (New Earth)</td>\n",
       "      <td>305.0</td>\n",
       "      <td>Female Characters</td>\n",
       "      <td>Blond Hair</td>\n",
       "    </tr>\n",
       "  </tbody>\n",
       "</table>\n",
       "</div>"
      ],
      "text/plain": [
       "                               name  appearances                sex  \\\n",
       "8    Dinah Laurel Lance (New Earth)       1075.0  Female Characters   \n",
       "10                       GenderTest       1028.0  Female Characters   \n",
       "21           Kara Zor-L (Earth-Two)        635.0  Female Characters   \n",
       "38  Cassandra Sandsmark (New Earth)        423.0  Female Characters   \n",
       "67    Courtney Whitmore (New Earth)        305.0  Female Characters   \n",
       "\n",
       "          hair  \n",
       "8   Blond Hair  \n",
       "10  Blond Hair  \n",
       "21  Blond Hair  \n",
       "38  Blond Hair  \n",
       "67  Blond Hair  "
      ]
     },
     "execution_count": 81,
     "metadata": {
      "tags": []
     },
     "output_type": "execute_result"
    }
   ],
   "source": [
    "# match multiple conditions (all of them)\n",
    "# get the \"Female Characters\" AND with 'Blond Hair'\n",
    "dc_simple[dc_simple.sex.eq('Female Characters') & dc_simple.hair.eq('Blond Hair')].head()"
   ]
  },
  {
   "cell_type": "code",
   "execution_count": null,
   "metadata": {
    "id": "usual-funds",
    "outputId": "f98a33d8-0a3b-4461-93a1-ce195bcdb009"
   },
   "outputs": [
    {
     "data": {
      "text/html": [
       "<div>\n",
       "<style scoped>\n",
       "    .dataframe tbody tr th:only-of-type {\n",
       "        vertical-align: middle;\n",
       "    }\n",
       "\n",
       "    .dataframe tbody tr th {\n",
       "        vertical-align: top;\n",
       "    }\n",
       "\n",
       "    .dataframe thead th {\n",
       "        text-align: right;\n",
       "    }\n",
       "</style>\n",
       "<table border=\"1\" class=\"dataframe\">\n",
       "  <thead>\n",
       "    <tr style=\"text-align: right;\">\n",
       "      <th></th>\n",
       "      <th>name</th>\n",
       "      <th>appearances</th>\n",
       "      <th>sex</th>\n",
       "      <th>hair</th>\n",
       "    </tr>\n",
       "  </thead>\n",
       "  <tbody>\n",
       "    <tr>\n",
       "      <th>5</th>\n",
       "      <td>Wonder Woman (Diana Prince)</td>\n",
       "      <td>1231.0</td>\n",
       "      <td>Female Characters</td>\n",
       "      <td>Black Hair</td>\n",
       "    </tr>\n",
       "    <tr>\n",
       "      <th>6</th>\n",
       "      <td>Aquaman (Arthur Curry)</td>\n",
       "      <td>1121.0</td>\n",
       "      <td>Male Characters</td>\n",
       "      <td>Blond Hair</td>\n",
       "    </tr>\n",
       "    <tr>\n",
       "      <th>8</th>\n",
       "      <td>Dinah Laurel Lance (New Earth)</td>\n",
       "      <td>1075.0</td>\n",
       "      <td>Female Characters</td>\n",
       "      <td>Blond Hair</td>\n",
       "    </tr>\n",
       "    <tr>\n",
       "      <th>9</th>\n",
       "      <td>Flash (Barry Allen)</td>\n",
       "      <td>1028.0</td>\n",
       "      <td>Male Characters</td>\n",
       "      <td>Blond Hair</td>\n",
       "    </tr>\n",
       "    <tr>\n",
       "      <th>10</th>\n",
       "      <td>GenderTest</td>\n",
       "      <td>1028.0</td>\n",
       "      <td>Female Characters</td>\n",
       "      <td>Blond Hair</td>\n",
       "    </tr>\n",
       "  </tbody>\n",
       "</table>\n",
       "</div>"
      ],
      "text/plain": [
       "                              name  appearances                sex        hair\n",
       "5      Wonder Woman (Diana Prince)       1231.0  Female Characters  Black Hair\n",
       "6           Aquaman (Arthur Curry)       1121.0    Male Characters  Blond Hair\n",
       "8   Dinah Laurel Lance (New Earth)       1075.0  Female Characters  Blond Hair\n",
       "9              Flash (Barry Allen)       1028.0    Male Characters  Blond Hair\n",
       "10                      GenderTest       1028.0  Female Characters  Blond Hair"
      ]
     },
     "execution_count": 82,
     "metadata": {
      "tags": []
     },
     "output_type": "execute_result"
    }
   ],
   "source": [
    "# Match one of the alternatives (any of them)\n",
    "# get the \"Female Characters\" OR with 'Blond Hair'\n",
    "dc_simple[dc_simple.sex.eq('Female Characters') | dc_simple.hair.eq('Blond Hair')].head()"
   ]
  },
  {
   "cell_type": "code",
   "execution_count": 39,
   "metadata": {
    "id": "geographic-preliminary",
    "lines_to_next_cell": 2,
    "outputId": "22d5343b-3620-49ae-d646-fec081fcfbcd"
   },
   "outputs": [
    {
     "output_type": "execute_result",
     "data": {
      "text/plain": [
       "                              name  appearances                sex        hair\n",
       "0             Batman (Bruce Wayne)       3093.0    Male Characters  Black Hair\n",
       "1            Superman (Clark Kent)       2496.0    Male Characters  Black Hair\n",
       "2       Green Lantern (Hal Jordan)       1565.0    Male Characters  Brown Hair\n",
       "3         James Gordon (New Earth)       1316.0    Male Characters  White Hair\n",
       "4      Richard Grayson (New Earth)       1237.0    Male Characters  Black Hair\n",
       "5      Wonder Woman (Diana Prince)       1231.0  Female Characters  Black Hair\n",
       "6           Aquaman (Arthur Curry)       1121.0    Male Characters  Blond Hair\n",
       "7        Timothy Drake (New Earth)       1095.0    Male Characters  Black Hair\n",
       "8   Dinah Laurel Lance (New Earth)       1075.0  Female Characters  Blond Hair\n",
       "9              Flash (Barry Allen)       1028.0    Male Characters  Blond Hair\n",
       "10                      GenderTest       1028.0  Female Characters  Blond Hair"
      ],
      "text/html": "<div>\n<style scoped>\n    .dataframe tbody tr th:only-of-type {\n        vertical-align: middle;\n    }\n\n    .dataframe tbody tr th {\n        vertical-align: top;\n    }\n\n    .dataframe thead th {\n        text-align: right;\n    }\n</style>\n<table border=\"1\" class=\"dataframe\">\n  <thead>\n    <tr style=\"text-align: right;\">\n      <th></th>\n      <th>name</th>\n      <th>appearances</th>\n      <th>sex</th>\n      <th>hair</th>\n    </tr>\n  </thead>\n  <tbody>\n    <tr>\n      <th>0</th>\n      <td>Batman (Bruce Wayne)</td>\n      <td>3093.0</td>\n      <td>Male Characters</td>\n      <td>Black Hair</td>\n    </tr>\n    <tr>\n      <th>1</th>\n      <td>Superman (Clark Kent)</td>\n      <td>2496.0</td>\n      <td>Male Characters</td>\n      <td>Black Hair</td>\n    </tr>\n    <tr>\n      <th>2</th>\n      <td>Green Lantern (Hal Jordan)</td>\n      <td>1565.0</td>\n      <td>Male Characters</td>\n      <td>Brown Hair</td>\n    </tr>\n    <tr>\n      <th>3</th>\n      <td>James Gordon (New Earth)</td>\n      <td>1316.0</td>\n      <td>Male Characters</td>\n      <td>White Hair</td>\n    </tr>\n    <tr>\n      <th>4</th>\n      <td>Richard Grayson (New Earth)</td>\n      <td>1237.0</td>\n      <td>Male Characters</td>\n      <td>Black Hair</td>\n    </tr>\n    <tr>\n      <th>5</th>\n      <td>Wonder Woman (Diana Prince)</td>\n      <td>1231.0</td>\n      <td>Female Characters</td>\n      <td>Black Hair</td>\n    </tr>\n    <tr>\n      <th>6</th>\n      <td>Aquaman (Arthur Curry)</td>\n      <td>1121.0</td>\n      <td>Male Characters</td>\n      <td>Blond Hair</td>\n    </tr>\n    <tr>\n      <th>7</th>\n      <td>Timothy Drake (New Earth)</td>\n      <td>1095.0</td>\n      <td>Male Characters</td>\n      <td>Black Hair</td>\n    </tr>\n    <tr>\n      <th>8</th>\n      <td>Dinah Laurel Lance (New Earth)</td>\n      <td>1075.0</td>\n      <td>Female Characters</td>\n      <td>Blond Hair</td>\n    </tr>\n    <tr>\n      <th>9</th>\n      <td>Flash (Barry Allen)</td>\n      <td>1028.0</td>\n      <td>Male Characters</td>\n      <td>Blond Hair</td>\n    </tr>\n    <tr>\n      <th>10</th>\n      <td>GenderTest</td>\n      <td>1028.0</td>\n      <td>Female Characters</td>\n      <td>Blond Hair</td>\n    </tr>\n  </tbody>\n</table>\n</div>"
     },
     "metadata": {},
     "execution_count": 39
    }
   ],
   "source": [
    "# Conditions on numbers\n",
    "# Example: \n",
    "# get characters that appeared a greater or equal number of times than 1000 \n",
    "dc_simple[dc_simple.appearances >= 1000]\n"
   ]
  },
  {
   "cell_type": "code",
   "execution_count": null,
   "metadata": {
    "id": "geographic-strength",
    "lines_to_next_cell": 2,
    "outputId": "a44412db-9891-4ecb-a4a4-60b8385d0696"
   },
   "outputs": [
    {
     "data": {
      "text/html": [
       "<div>\n",
       "<style scoped>\n",
       "    .dataframe tbody tr th:only-of-type {\n",
       "        vertical-align: middle;\n",
       "    }\n",
       "\n",
       "    .dataframe tbody tr th {\n",
       "        vertical-align: top;\n",
       "    }\n",
       "\n",
       "    .dataframe thead th {\n",
       "        text-align: right;\n",
       "    }\n",
       "</style>\n",
       "<table border=\"1\" class=\"dataframe\">\n",
       "  <thead>\n",
       "    <tr style=\"text-align: right;\">\n",
       "      <th></th>\n",
       "      <th>name</th>\n",
       "      <th>appearances</th>\n",
       "      <th>sex</th>\n",
       "      <th>hair</th>\n",
       "    </tr>\n",
       "  </thead>\n",
       "  <tbody>\n",
       "    <tr>\n",
       "      <th>11</th>\n",
       "      <td>Alan Scott (New Earth)</td>\n",
       "      <td>969.0</td>\n",
       "      <td>Male Characters</td>\n",
       "      <td>Blond Hair</td>\n",
       "    </tr>\n",
       "    <tr>\n",
       "      <th>12</th>\n",
       "      <td>Barbara Gordon (New Earth)</td>\n",
       "      <td>951.0</td>\n",
       "      <td>Female Characters</td>\n",
       "      <td>Red Hair</td>\n",
       "    </tr>\n",
       "    <tr>\n",
       "      <th>13</th>\n",
       "      <td>Jason Garrick (New Earth)</td>\n",
       "      <td>951.0</td>\n",
       "      <td>Male Characters</td>\n",
       "      <td>Brown Hair</td>\n",
       "    </tr>\n",
       "    <tr>\n",
       "      <th>14</th>\n",
       "      <td>Lois Lane (New Earth)</td>\n",
       "      <td>934.0</td>\n",
       "      <td>Female Characters</td>\n",
       "      <td>Black Hair</td>\n",
       "    </tr>\n",
       "    <tr>\n",
       "      <th>15</th>\n",
       "      <td>Alfred Pennyworth (New Earth)</td>\n",
       "      <td>930.0</td>\n",
       "      <td>Male Characters</td>\n",
       "      <td>Black Hair</td>\n",
       "    </tr>\n",
       "  </tbody>\n",
       "</table>\n",
       "</div>"
      ],
      "text/plain": [
       "                             name  appearances                sex        hair\n",
       "11         Alan Scott (New Earth)        969.0    Male Characters  Blond Hair\n",
       "12     Barbara Gordon (New Earth)        951.0  Female Characters    Red Hair\n",
       "13      Jason Garrick (New Earth)        951.0    Male Characters  Brown Hair\n",
       "14          Lois Lane (New Earth)        934.0  Female Characters  Black Hair\n",
       "15  Alfred Pennyworth (New Earth)        930.0    Male Characters  Black Hair"
      ]
     },
     "execution_count": 84,
     "metadata": {
      "tags": []
     },
     "output_type": "execute_result"
    }
   ],
   "source": [
    "# Example: \n",
    "# within a given interval (inclusive)\n",
    "dc_simple[(900 <= dc_simple.appearances) & (dc_simple.appearances <= 1000)]\n",
    "# or (equivalent)\n",
    "dc_simple[ dc_simple.appearances.between(900, 1000, inclusive=True) ]"
   ]
  },
  {
   "cell_type": "code",
   "execution_count": null,
   "metadata": {
    "id": "entertaining-boutique",
    "lines_to_next_cell": 0,
    "outputId": "4b79db1c-9af7-4196-952e-bdf41af16d81"
   },
   "outputs": [
    {
     "data": {
      "text/html": [
       "<div>\n",
       "<style scoped>\n",
       "    .dataframe tbody tr th:only-of-type {\n",
       "        vertical-align: middle;\n",
       "    }\n",
       "\n",
       "    .dataframe tbody tr th {\n",
       "        vertical-align: top;\n",
       "    }\n",
       "\n",
       "    .dataframe thead th {\n",
       "        text-align: right;\n",
       "    }\n",
       "</style>\n",
       "<table border=\"1\" class=\"dataframe\">\n",
       "  <thead>\n",
       "    <tr style=\"text-align: right;\">\n",
       "      <th></th>\n",
       "      <th>name</th>\n",
       "      <th>appearances</th>\n",
       "      <th>sex</th>\n",
       "      <th>hair</th>\n",
       "    </tr>\n",
       "  </thead>\n",
       "  <tbody>\n",
       "    <tr>\n",
       "      <th>0</th>\n",
       "      <td>Batman (Bruce Wayne)</td>\n",
       "      <td>3093.0</td>\n",
       "      <td>Male Characters</td>\n",
       "      <td>Black Hair</td>\n",
       "    </tr>\n",
       "    <tr>\n",
       "      <th>1</th>\n",
       "      <td>Superman (Clark Kent)</td>\n",
       "      <td>2496.0</td>\n",
       "      <td>Male Characters</td>\n",
       "      <td>Black Hair</td>\n",
       "    </tr>\n",
       "    <tr>\n",
       "      <th>2</th>\n",
       "      <td>Green Lantern (Hal Jordan)</td>\n",
       "      <td>1565.0</td>\n",
       "      <td>Male Characters</td>\n",
       "      <td>Brown Hair</td>\n",
       "    </tr>\n",
       "    <tr>\n",
       "      <th>3</th>\n",
       "      <td>James Gordon (New Earth)</td>\n",
       "      <td>1316.0</td>\n",
       "      <td>Male Characters</td>\n",
       "      <td>White Hair</td>\n",
       "    </tr>\n",
       "    <tr>\n",
       "      <th>4</th>\n",
       "      <td>Richard Grayson (New Earth)</td>\n",
       "      <td>1237.0</td>\n",
       "      <td>Male Characters</td>\n",
       "      <td>Black Hair</td>\n",
       "    </tr>\n",
       "    <tr>\n",
       "      <th>...</th>\n",
       "      <td>...</td>\n",
       "      <td>...</td>\n",
       "      <td>...</td>\n",
       "      <td>...</td>\n",
       "    </tr>\n",
       "    <tr>\n",
       "      <th>6891</th>\n",
       "      <td>Nadine West (New Earth)</td>\n",
       "      <td>NaN</td>\n",
       "      <td>Female Characters</td>\n",
       "      <td>NaN</td>\n",
       "    </tr>\n",
       "    <tr>\n",
       "      <th>6892</th>\n",
       "      <td>Warren Harding (New Earth)</td>\n",
       "      <td>NaN</td>\n",
       "      <td>Male Characters</td>\n",
       "      <td>NaN</td>\n",
       "    </tr>\n",
       "    <tr>\n",
       "      <th>6893</th>\n",
       "      <td>William Harrison (New Earth)</td>\n",
       "      <td>NaN</td>\n",
       "      <td>Male Characters</td>\n",
       "      <td>NaN</td>\n",
       "    </tr>\n",
       "    <tr>\n",
       "      <th>6894</th>\n",
       "      <td>William McKinley (New Earth)</td>\n",
       "      <td>NaN</td>\n",
       "      <td>Male Characters</td>\n",
       "      <td>NaN</td>\n",
       "    </tr>\n",
       "    <tr>\n",
       "      <th>6895</th>\n",
       "      <td>Mookie (New Earth)</td>\n",
       "      <td>NaN</td>\n",
       "      <td>Male Characters</td>\n",
       "      <td>Blond Hair</td>\n",
       "    </tr>\n",
       "  </tbody>\n",
       "</table>\n",
       "<p>6891 rows × 4 columns</p>\n",
       "</div>"
      ],
      "text/plain": [
       "                              name  appearances                sex        hair\n",
       "0             Batman (Bruce Wayne)       3093.0    Male Characters  Black Hair\n",
       "1            Superman (Clark Kent)       2496.0    Male Characters  Black Hair\n",
       "2       Green Lantern (Hal Jordan)       1565.0    Male Characters  Brown Hair\n",
       "3         James Gordon (New Earth)       1316.0    Male Characters  White Hair\n",
       "4      Richard Grayson (New Earth)       1237.0    Male Characters  Black Hair\n",
       "...                            ...          ...                ...         ...\n",
       "6891       Nadine West (New Earth)          NaN  Female Characters         NaN\n",
       "6892    Warren Harding (New Earth)          NaN    Male Characters         NaN\n",
       "6893  William Harrison (New Earth)          NaN    Male Characters         NaN\n",
       "6894  William McKinley (New Earth)          NaN    Male Characters         NaN\n",
       "6895            Mookie (New Earth)          NaN    Male Characters  Blond Hair\n",
       "\n",
       "[6891 rows x 4 columns]"
      ]
     },
     "execution_count": 85,
     "metadata": {
      "tags": []
     },
     "output_type": "execute_result"
    }
   ],
   "source": [
    "# Example: \n",
    "# outside a given interval\n",
    "dc_simple[ (dc_simple.appearances < 900) | (1000 < dc_simple.appearances) ]\n",
    "# or (NB: non equivalent relating to NaN)\n",
    "dc_simple[ ~ dc_simple.appearances.between(900, 1000, inclusive=True) ]"
   ]
  },
  {
   "cell_type": "markdown",
   "metadata": {
    "id": "assured-framework"
   },
   "source": [
    "\n"
   ]
  },
  {
   "cell_type": "code",
   "execution_count": null,
   "metadata": {
    "id": "temporal-hotel",
    "lines_to_next_cell": 0,
    "outputId": "d225d207-114a-43e6-b31c-b331cb944b97"
   },
   "outputs": [
    {
     "data": {
      "text/html": [
       "<div>\n",
       "<style scoped>\n",
       "    .dataframe tbody tr th:only-of-type {\n",
       "        vertical-align: middle;\n",
       "    }\n",
       "\n",
       "    .dataframe tbody tr th {\n",
       "        vertical-align: top;\n",
       "    }\n",
       "\n",
       "    .dataframe thead th {\n",
       "        text-align: right;\n",
       "    }\n",
       "</style>\n",
       "<table border=\"1\" class=\"dataframe\">\n",
       "  <thead>\n",
       "    <tr style=\"text-align: right;\">\n",
       "      <th></th>\n",
       "      <th>name</th>\n",
       "      <th>appearances</th>\n",
       "      <th>sex</th>\n",
       "      <th>hair</th>\n",
       "    </tr>\n",
       "  </thead>\n",
       "  <tbody>\n",
       "    <tr>\n",
       "      <th>3</th>\n",
       "      <td>James Gordon (New Earth)</td>\n",
       "      <td>1316.0</td>\n",
       "      <td>Male Characters</td>\n",
       "      <td>White Hair</td>\n",
       "    </tr>\n",
       "  </tbody>\n",
       "</table>\n",
       "</div>"
      ],
      "text/plain": [
       "                       name  appearances              sex        hair\n",
       "3  James Gordon (New Earth)       1316.0  Male Characters  White Hair"
      ]
     },
     "execution_count": 86,
     "metadata": {
      "tags": []
     },
     "output_type": "execute_result"
    }
   ],
   "source": [
    "# set-in operator\n",
    "\n",
    "# Example: \n",
    "# 'appearances' has a value in a vector of possible real numbers\n",
    "dc_simple[ dc_simple.appearances.isin([900, 1316]) ] \n",
    "# Advice: the 'isin' method should be read as the 'is in' method"
   ]
  },
  {
   "cell_type": "markdown",
   "metadata": {
    "id": "palestinian-rebel"
   },
   "source": [
    "[is-in-operator](https://pandas.pydata.org/docs/reference/api/pandas.Series.isin.html)"
   ]
  },
  {
   "cell_type": "code",
   "execution_count": null,
   "metadata": {
    "id": "correct-toolbox",
    "outputId": "82e35c43-8c25-463e-fb63-ab65d7618d12"
   },
   "outputs": [
    {
     "data": {
      "text/html": [
       "<div>\n",
       "<style scoped>\n",
       "    .dataframe tbody tr th:only-of-type {\n",
       "        vertical-align: middle;\n",
       "    }\n",
       "\n",
       "    .dataframe tbody tr th {\n",
       "        vertical-align: top;\n",
       "    }\n",
       "\n",
       "    .dataframe thead th {\n",
       "        text-align: right;\n",
       "    }\n",
       "</style>\n",
       "<table border=\"1\" class=\"dataframe\">\n",
       "  <thead>\n",
       "    <tr style=\"text-align: right;\">\n",
       "      <th></th>\n",
       "      <th>name</th>\n",
       "      <th>appearances</th>\n",
       "      <th>sex</th>\n",
       "      <th>hair</th>\n",
       "    </tr>\n",
       "  </thead>\n",
       "  <tbody>\n",
       "    <tr>\n",
       "      <th>743</th>\n",
       "      <td>Brainiac 8 (New Earth)</td>\n",
       "      <td>38.0</td>\n",
       "      <td>Female Characters</td>\n",
       "      <td>Pink Hair</td>\n",
       "    </tr>\n",
       "    <tr>\n",
       "      <th>987</th>\n",
       "      <td>Susan Linden I (New Earth)</td>\n",
       "      <td>28.0</td>\n",
       "      <td>Female Characters</td>\n",
       "      <td>Violet Hair</td>\n",
       "    </tr>\n",
       "    <tr>\n",
       "      <th>1009</th>\n",
       "      <td>Flora Black (New Earth)</td>\n",
       "      <td>27.0</td>\n",
       "      <td>Female Characters</td>\n",
       "      <td>Violet Hair</td>\n",
       "    </tr>\n",
       "    <tr>\n",
       "      <th>1780</th>\n",
       "      <td>Susan Linden II (New Earth)</td>\n",
       "      <td>14.0</td>\n",
       "      <td>Female Characters</td>\n",
       "      <td>Violet Hair</td>\n",
       "    </tr>\n",
       "    <tr>\n",
       "      <th>1959</th>\n",
       "      <td>Silica (New Earth)</td>\n",
       "      <td>12.0</td>\n",
       "      <td>Female Characters</td>\n",
       "      <td>Pink Hair</td>\n",
       "    </tr>\n",
       "    <tr>\n",
       "      <th>1979</th>\n",
       "      <td>Fay Moffit (New Earth)</td>\n",
       "      <td>12.0</td>\n",
       "      <td>Female Characters</td>\n",
       "      <td>Pink Hair</td>\n",
       "    </tr>\n",
       "    <tr>\n",
       "      <th>2373</th>\n",
       "      <td>Vanessa Kingsbury (New Earth)</td>\n",
       "      <td>10.0</td>\n",
       "      <td>Female Characters</td>\n",
       "      <td>Pink Hair</td>\n",
       "    </tr>\n",
       "    <tr>\n",
       "      <th>2559</th>\n",
       "      <td>Gretti (New Earth)</td>\n",
       "      <td>9.0</td>\n",
       "      <td>Male Characters</td>\n",
       "      <td>Violet Hair</td>\n",
       "    </tr>\n",
       "    <tr>\n",
       "      <th>2865</th>\n",
       "      <td>Poprocket (New Earth)</td>\n",
       "      <td>7.0</td>\n",
       "      <td>Female Characters</td>\n",
       "      <td>Pink Hair</td>\n",
       "    </tr>\n",
       "    <tr>\n",
       "      <th>2910</th>\n",
       "      <td>Venizz (New Earth)</td>\n",
       "      <td>7.0</td>\n",
       "      <td>Female Characters</td>\n",
       "      <td>Pink Hair</td>\n",
       "    </tr>\n",
       "    <tr>\n",
       "      <th>4963</th>\n",
       "      <td>Eduardo Flamingo (New Earth)</td>\n",
       "      <td>2.0</td>\n",
       "      <td>Male Characters</td>\n",
       "      <td>Pink Hair</td>\n",
       "    </tr>\n",
       "    <tr>\n",
       "      <th>5002</th>\n",
       "      <td>Vera Klopis (New Earth)</td>\n",
       "      <td>2.0</td>\n",
       "      <td>Female Characters</td>\n",
       "      <td>Pink Hair</td>\n",
       "    </tr>\n",
       "    <tr>\n",
       "      <th>6028</th>\n",
       "      <td>Hoppy (New Earth)</td>\n",
       "      <td>1.0</td>\n",
       "      <td>Male Characters</td>\n",
       "      <td>Pink Hair</td>\n",
       "    </tr>\n",
       "    <tr>\n",
       "      <th>6037</th>\n",
       "      <td>Millie (New Earth)</td>\n",
       "      <td>1.0</td>\n",
       "      <td>Female Characters</td>\n",
       "      <td>Pink Hair</td>\n",
       "    </tr>\n",
       "    <tr>\n",
       "      <th>6699</th>\n",
       "      <td>B'aad (New Earth)</td>\n",
       "      <td>NaN</td>\n",
       "      <td>Male Characters</td>\n",
       "      <td>Pink Hair</td>\n",
       "    </tr>\n",
       "  </tbody>\n",
       "</table>\n",
       "</div>"
      ],
      "text/plain": [
       "                               name  appearances                sex  \\\n",
       "743          Brainiac 8 (New Earth)         38.0  Female Characters   \n",
       "987      Susan Linden I (New Earth)         28.0  Female Characters   \n",
       "1009        Flora Black (New Earth)         27.0  Female Characters   \n",
       "1780    Susan Linden II (New Earth)         14.0  Female Characters   \n",
       "1959             Silica (New Earth)         12.0  Female Characters   \n",
       "1979         Fay Moffit (New Earth)         12.0  Female Characters   \n",
       "2373  Vanessa Kingsbury (New Earth)         10.0  Female Characters   \n",
       "2559             Gretti (New Earth)          9.0    Male Characters   \n",
       "2865          Poprocket (New Earth)          7.0  Female Characters   \n",
       "2910             Venizz (New Earth)          7.0  Female Characters   \n",
       "4963   Eduardo Flamingo (New Earth)          2.0    Male Characters   \n",
       "5002        Vera Klopis (New Earth)          2.0  Female Characters   \n",
       "6028              Hoppy (New Earth)          1.0    Male Characters   \n",
       "6037             Millie (New Earth)          1.0  Female Characters   \n",
       "6699              B'aad (New Earth)          NaN    Male Characters   \n",
       "\n",
       "             hair  \n",
       "743     Pink Hair  \n",
       "987   Violet Hair  \n",
       "1009  Violet Hair  \n",
       "1780  Violet Hair  \n",
       "1959    Pink Hair  \n",
       "1979    Pink Hair  \n",
       "2373    Pink Hair  \n",
       "2559  Violet Hair  \n",
       "2865    Pink Hair  \n",
       "2910    Pink Hair  \n",
       "4963    Pink Hair  \n",
       "5002    Pink Hair  \n",
       "6028    Pink Hair  \n",
       "6037    Pink Hair  \n",
       "6699    Pink Hair  "
      ]
     },
     "execution_count": 87,
     "metadata": {
      "tags": []
     },
     "output_type": "execute_result"
    }
   ],
   "source": [
    "# Example: \n",
    "# 'hair' has a value in a vector of possible strings\n",
    "dc_simple[ dc_simple.hair.isin(['Violet Hair', 'Pink Hair']) ]"
   ]
  },
  {
   "cell_type": "markdown",
   "metadata": {
    "id": "secondary-hostel"
   },
   "source": [
    "### Sampling"
   ]
  },
  {
   "cell_type": "code",
   "execution_count": null,
   "metadata": {
    "id": "rural-couple",
    "lines_to_next_cell": 2,
    "outputId": "f170e42b-6c2c-421d-f5d0-677ccdeee6e3"
   },
   "outputs": [
    {
     "data": {
      "text/html": [
       "<div>\n",
       "<style scoped>\n",
       "    .dataframe tbody tr th:only-of-type {\n",
       "        vertical-align: middle;\n",
       "    }\n",
       "\n",
       "    .dataframe tbody tr th {\n",
       "        vertical-align: top;\n",
       "    }\n",
       "\n",
       "    .dataframe thead th {\n",
       "        text-align: right;\n",
       "    }\n",
       "</style>\n",
       "<table border=\"1\" class=\"dataframe\">\n",
       "  <thead>\n",
       "    <tr style=\"text-align: right;\">\n",
       "      <th></th>\n",
       "      <th>name</th>\n",
       "      <th>appearances</th>\n",
       "      <th>sex</th>\n",
       "      <th>hair</th>\n",
       "    </tr>\n",
       "  </thead>\n",
       "  <tbody>\n",
       "    <tr>\n",
       "      <th>5</th>\n",
       "      <td>Wonder Woman (Diana Prince)</td>\n",
       "      <td>1231.0</td>\n",
       "      <td>Female Characters</td>\n",
       "      <td>Black Hair</td>\n",
       "    </tr>\n",
       "    <tr>\n",
       "      <th>6</th>\n",
       "      <td>Aquaman (Arthur Curry)</td>\n",
       "      <td>1121.0</td>\n",
       "      <td>Male Characters</td>\n",
       "      <td>Blond Hair</td>\n",
       "    </tr>\n",
       "    <tr>\n",
       "      <th>7</th>\n",
       "      <td>Timothy Drake (New Earth)</td>\n",
       "      <td>1095.0</td>\n",
       "      <td>Male Characters</td>\n",
       "      <td>Black Hair</td>\n",
       "    </tr>\n",
       "    <tr>\n",
       "      <th>8</th>\n",
       "      <td>Dinah Laurel Lance (New Earth)</td>\n",
       "      <td>1075.0</td>\n",
       "      <td>Female Characters</td>\n",
       "      <td>Blond Hair</td>\n",
       "    </tr>\n",
       "    <tr>\n",
       "      <th>9</th>\n",
       "      <td>Flash (Barry Allen)</td>\n",
       "      <td>1028.0</td>\n",
       "      <td>Male Characters</td>\n",
       "      <td>Blond Hair</td>\n",
       "    </tr>\n",
       "  </tbody>\n",
       "</table>\n",
       "</div>"
      ],
      "text/plain": [
       "                             name  appearances                sex        hair\n",
       "5     Wonder Woman (Diana Prince)       1231.0  Female Characters  Black Hair\n",
       "6          Aquaman (Arthur Curry)       1121.0    Male Characters  Blond Hair\n",
       "7       Timothy Drake (New Earth)       1095.0    Male Characters  Black Hair\n",
       "8  Dinah Laurel Lance (New Earth)       1075.0  Female Characters  Blond Hair\n",
       "9             Flash (Barry Allen)       1028.0    Male Characters  Blond Hair"
      ]
     },
     "execution_count": 88,
     "metadata": {
      "tags": []
     },
     "output_type": "execute_result"
    }
   ],
   "source": [
    "# take rows by their position index\n",
    "dc_simple.iloc[5:10]"
   ]
  },
  {
   "cell_type": "markdown",
   "metadata": {
    "id": "individual-sight"
   },
   "source": [
    "[Sample Documentation](https://pandas.pydata.org/docs/reference/api/pandas.DataFrame.sample.html)"
   ]
  },
  {
   "cell_type": "code",
   "execution_count": null,
   "metadata": {
    "id": "quantitative-thumbnail",
    "lines_to_next_cell": 2,
    "outputId": "3bdcb9f7-265d-4d5e-c57c-a33d75c673b5"
   },
   "outputs": [
    {
     "data": {
      "text/html": [
       "<div>\n",
       "<style scoped>\n",
       "    .dataframe tbody tr th:only-of-type {\n",
       "        vertical-align: middle;\n",
       "    }\n",
       "\n",
       "    .dataframe tbody tr th {\n",
       "        vertical-align: top;\n",
       "    }\n",
       "\n",
       "    .dataframe thead th {\n",
       "        text-align: right;\n",
       "    }\n",
       "</style>\n",
       "<table border=\"1\" class=\"dataframe\">\n",
       "  <thead>\n",
       "    <tr style=\"text-align: right;\">\n",
       "      <th></th>\n",
       "      <th>name</th>\n",
       "      <th>appearances</th>\n",
       "      <th>sex</th>\n",
       "      <th>hair</th>\n",
       "    </tr>\n",
       "  </thead>\n",
       "  <tbody>\n",
       "    <tr>\n",
       "      <th>6690</th>\n",
       "      <td>Nameless One (New Earth)</td>\n",
       "      <td>NaN</td>\n",
       "      <td>Male Characters</td>\n",
       "      <td>White Hair</td>\n",
       "    </tr>\n",
       "    <tr>\n",
       "      <th>3850</th>\n",
       "      <td>Dead Hand Legendre (New Earth)</td>\n",
       "      <td>4.0</td>\n",
       "      <td>Male Characters</td>\n",
       "      <td>NaN</td>\n",
       "    </tr>\n",
       "    <tr>\n",
       "      <th>6312</th>\n",
       "      <td>Snowflame (New Earth)</td>\n",
       "      <td>1.0</td>\n",
       "      <td>Male Characters</td>\n",
       "      <td>White Hair</td>\n",
       "    </tr>\n",
       "  </tbody>\n",
       "</table>\n",
       "</div>"
      ],
      "text/plain": [
       "                                name  appearances              sex        hair\n",
       "6690        Nameless One (New Earth)          NaN  Male Characters  White Hair\n",
       "3850  Dead Hand Legendre (New Earth)          4.0  Male Characters         NaN\n",
       "6312           Snowflame (New Earth)          1.0  Male Characters  White Hair"
      ]
     },
     "execution_count": 89,
     "metadata": {
      "tags": []
     },
     "output_type": "execute_result"
    }
   ],
   "source": [
    "# Extract a sample of 'n' lines\n",
    "dc_simple.sample(n=3)\n",
    "\n",
    "# Extract a fraction of all lines\n",
    "dc_simple.sample(frac=0.1).head()\n",
    "\n",
    "# Re-sample repeating lines\n",
    "dc_simple.sample(frac=1.5, replace=True).head()\n",
    "\n",
    "# if you want to fix the random state of the random sampling\n",
    "dc_simple.sample(n=3, random_state=123)"
   ]
  },
  {
   "cell_type": "markdown",
   "metadata": {
    "id": "related-spanking"
   },
   "source": [
    "### Row sorting\n",
    "\n",
    "Reference: [sort_values](https://pandas.pydata.org/docs/reference/api/pandas.DataFrame.sort_values.html) documentation.\n",
    "\n",
    "Sort using a column as a criteria:"
   ]
  },
  {
   "cell_type": "code",
   "execution_count": null,
   "metadata": {
    "id": "pharmaceutical-oklahoma",
    "lines_to_next_cell": 2,
    "outputId": "45d7d5d8-9c7d-4114-f18f-62abef99a7c8"
   },
   "outputs": [
    {
     "data": {
      "text/html": [
       "<div>\n",
       "<style scoped>\n",
       "    .dataframe tbody tr th:only-of-type {\n",
       "        vertical-align: middle;\n",
       "    }\n",
       "\n",
       "    .dataframe tbody tr th {\n",
       "        vertical-align: top;\n",
       "    }\n",
       "\n",
       "    .dataframe thead th {\n",
       "        text-align: right;\n",
       "    }\n",
       "</style>\n",
       "<table border=\"1\" class=\"dataframe\">\n",
       "  <thead>\n",
       "    <tr style=\"text-align: right;\">\n",
       "      <th></th>\n",
       "      <th>name</th>\n",
       "      <th>appearances</th>\n",
       "      <th>sex</th>\n",
       "      <th>hair</th>\n",
       "    </tr>\n",
       "  </thead>\n",
       "  <tbody>\n",
       "    <tr>\n",
       "      <th>6541</th>\n",
       "      <td>Matteo Bischoff (New Earth)</td>\n",
       "      <td>NaN</td>\n",
       "      <td>Male Characters</td>\n",
       "      <td>Grey Hair</td>\n",
       "    </tr>\n",
       "    <tr>\n",
       "      <th>6542</th>\n",
       "      <td>Doomslayer (New Earth)</td>\n",
       "      <td>NaN</td>\n",
       "      <td>Male Characters</td>\n",
       "      <td>White Hair</td>\n",
       "    </tr>\n",
       "    <tr>\n",
       "      <th>6543</th>\n",
       "      <td>Emily Sung (New Earth)</td>\n",
       "      <td>NaN</td>\n",
       "      <td>Female Characters</td>\n",
       "      <td>Purple Hair</td>\n",
       "    </tr>\n",
       "    <tr>\n",
       "      <th>6544</th>\n",
       "      <td>Ry'jll (New Earth)</td>\n",
       "      <td>NaN</td>\n",
       "      <td>Female Characters</td>\n",
       "      <td>NaN</td>\n",
       "    </tr>\n",
       "    <tr>\n",
       "      <th>6545</th>\n",
       "      <td>Baron Gestapo (New Earth)</td>\n",
       "      <td>NaN</td>\n",
       "      <td>Male Characters</td>\n",
       "      <td>NaN</td>\n",
       "    </tr>\n",
       "    <tr>\n",
       "      <th>...</th>\n",
       "      <td>...</td>\n",
       "      <td>...</td>\n",
       "      <td>...</td>\n",
       "      <td>...</td>\n",
       "    </tr>\n",
       "    <tr>\n",
       "      <th>5877</th>\n",
       "      <td>Scratch (New Earth)</td>\n",
       "      <td>1.0</td>\n",
       "      <td>Male Characters</td>\n",
       "      <td>Red Hair</td>\n",
       "    </tr>\n",
       "    <tr>\n",
       "      <th>5878</th>\n",
       "      <td>Sheila Carr (New Earth)</td>\n",
       "      <td>1.0</td>\n",
       "      <td>Female Characters</td>\n",
       "      <td>Black Hair</td>\n",
       "    </tr>\n",
       "    <tr>\n",
       "      <th>5879</th>\n",
       "      <td>Steel Fang (New Earth)</td>\n",
       "      <td>1.0</td>\n",
       "      <td>Male Characters</td>\n",
       "      <td>NaN</td>\n",
       "    </tr>\n",
       "    <tr>\n",
       "      <th>5880</th>\n",
       "      <td>Althea (New Earth)</td>\n",
       "      <td>1.0</td>\n",
       "      <td>Female Characters</td>\n",
       "      <td>Brown Hair</td>\n",
       "    </tr>\n",
       "    <tr>\n",
       "      <th>6540</th>\n",
       "      <td>Auctioneer II (New Earth)</td>\n",
       "      <td>1.0</td>\n",
       "      <td>Male Characters</td>\n",
       "      <td>White Hair</td>\n",
       "    </tr>\n",
       "  </tbody>\n",
       "</table>\n",
       "<p>6896 rows × 4 columns</p>\n",
       "</div>"
      ],
      "text/plain": [
       "                             name  appearances                sex         hair\n",
       "6541  Matteo Bischoff (New Earth)          NaN    Male Characters    Grey Hair\n",
       "6542       Doomslayer (New Earth)          NaN    Male Characters   White Hair\n",
       "6543       Emily Sung (New Earth)          NaN  Female Characters  Purple Hair\n",
       "6544           Ry'jll (New Earth)          NaN  Female Characters          NaN\n",
       "6545    Baron Gestapo (New Earth)          NaN    Male Characters          NaN\n",
       "...                           ...          ...                ...          ...\n",
       "5877          Scratch (New Earth)          1.0    Male Characters     Red Hair\n",
       "5878      Sheila Carr (New Earth)          1.0  Female Characters   Black Hair\n",
       "5879       Steel Fang (New Earth)          1.0    Male Characters          NaN\n",
       "5880           Althea (New Earth)          1.0  Female Characters   Brown Hair\n",
       "6540    Auctioneer II (New Earth)          1.0    Male Characters   White Hair\n",
       "\n",
       "[6896 rows x 4 columns]"
      ]
     },
     "execution_count": 91,
     "metadata": {
      "tags": []
     },
     "output_type": "execute_result"
    }
   ],
   "source": [
    "\n",
    "# sort by one column\n",
    "dc_simple.sort_values(by='appearances')\n",
    "# sort by one column in descending order\n",
    "dc_simple.sort_values(by='appearances', ascending=False)\n",
    "# set the na position\n",
    "dc_simple.sort_values(by='appearances', ascending=False, na_position='first')"
   ]
  },
  {
   "cell_type": "code",
   "execution_count": null,
   "metadata": {
    "id": "crazy-coach",
    "lines_to_next_cell": 0,
    "outputId": "bbe4b678-a84c-4525-d4f7-9a2d7f8ef32d"
   },
   "outputs": [
    {
     "data": {
      "text/html": [
       "<div>\n",
       "<style scoped>\n",
       "    .dataframe tbody tr th:only-of-type {\n",
       "        vertical-align: middle;\n",
       "    }\n",
       "\n",
       "    .dataframe tbody tr th {\n",
       "        vertical-align: top;\n",
       "    }\n",
       "\n",
       "    .dataframe thead th {\n",
       "        text-align: right;\n",
       "    }\n",
       "</style>\n",
       "<table border=\"1\" class=\"dataframe\">\n",
       "  <thead>\n",
       "    <tr style=\"text-align: right;\">\n",
       "      <th></th>\n",
       "      <th>sex</th>\n",
       "      <th>appearances</th>\n",
       "    </tr>\n",
       "  </thead>\n",
       "  <tbody>\n",
       "    <tr>\n",
       "      <th>5</th>\n",
       "      <td>Female Characters</td>\n",
       "      <td>1231.0</td>\n",
       "    </tr>\n",
       "    <tr>\n",
       "      <th>8</th>\n",
       "      <td>Female Characters</td>\n",
       "      <td>1075.0</td>\n",
       "    </tr>\n",
       "    <tr>\n",
       "      <th>10</th>\n",
       "      <td>Female Characters</td>\n",
       "      <td>1028.0</td>\n",
       "    </tr>\n",
       "    <tr>\n",
       "      <th>12</th>\n",
       "      <td>Female Characters</td>\n",
       "      <td>951.0</td>\n",
       "    </tr>\n",
       "    <tr>\n",
       "      <th>14</th>\n",
       "      <td>Female Characters</td>\n",
       "      <td>934.0</td>\n",
       "    </tr>\n",
       "    <tr>\n",
       "      <th>...</th>\n",
       "      <td>...</td>\n",
       "      <td>...</td>\n",
       "    </tr>\n",
       "    <tr>\n",
       "      <th>6680</th>\n",
       "      <td>NaN</td>\n",
       "      <td>NaN</td>\n",
       "    </tr>\n",
       "    <tr>\n",
       "      <th>6731</th>\n",
       "      <td>NaN</td>\n",
       "      <td>NaN</td>\n",
       "    </tr>\n",
       "    <tr>\n",
       "      <th>6736</th>\n",
       "      <td>NaN</td>\n",
       "      <td>NaN</td>\n",
       "    </tr>\n",
       "    <tr>\n",
       "      <th>6835</th>\n",
       "      <td>NaN</td>\n",
       "      <td>NaN</td>\n",
       "    </tr>\n",
       "    <tr>\n",
       "      <th>6854</th>\n",
       "      <td>NaN</td>\n",
       "      <td>NaN</td>\n",
       "    </tr>\n",
       "  </tbody>\n",
       "</table>\n",
       "<p>6896 rows × 2 columns</p>\n",
       "</div>"
      ],
      "text/plain": [
       "                    sex  appearances\n",
       "5     Female Characters       1231.0\n",
       "8     Female Characters       1075.0\n",
       "10    Female Characters       1028.0\n",
       "12    Female Characters        951.0\n",
       "14    Female Characters        934.0\n",
       "...                 ...          ...\n",
       "6680                NaN          NaN\n",
       "6731                NaN          NaN\n",
       "6736                NaN          NaN\n",
       "6835                NaN          NaN\n",
       "6854                NaN          NaN\n",
       "\n",
       "[6896 rows x 2 columns]"
      ]
     },
     "execution_count": 92,
     "metadata": {
      "tags": []
     },
     "output_type": "execute_result"
    }
   ],
   "source": [
    "# sort by two criteria (the first has the precedence)\n",
    "dc_simple.sort_values(by=['sex', 'appearances'], ascending=[True, False])[['sex', 'appearances']]\n"
   ]
  },
  {
   "cell_type": "markdown",
   "metadata": {
    "id": "unexpected-warrant"
   },
   "source": [
    "\n"
   ]
  },
  {
   "cell_type": "markdown",
   "metadata": {
    "id": "secret-caution"
   },
   "source": [
    "## Transform columns\n",
    "\n",
    "Here we need to use a function that returns a vector of the same length of the inputs:\n",
    "\n",
    "$$\n",
    "R^n \\to R^n\n",
    "$$"
   ]
  },
  {
   "cell_type": "markdown",
   "metadata": {
    "id": "speaking-assumption"
   },
   "source": [
    "### Create a new column"
   ]
  },
  {
   "cell_type": "code",
   "execution_count": null,
   "metadata": {
    "id": "surrounded-garden",
    "outputId": "18583fef-5e6f-45dd-f912-bf705924e613"
   },
   "outputs": [
    {
     "data": {
      "text/html": [
       "<div>\n",
       "<style scoped>\n",
       "    .dataframe tbody tr th:only-of-type {\n",
       "        vertical-align: middle;\n",
       "    }\n",
       "\n",
       "    .dataframe tbody tr th {\n",
       "        vertical-align: top;\n",
       "    }\n",
       "\n",
       "    .dataframe thead th {\n",
       "        text-align: right;\n",
       "    }\n",
       "</style>\n",
       "<table border=\"1\" class=\"dataframe\">\n",
       "  <thead>\n",
       "    <tr style=\"text-align: right;\">\n",
       "      <th></th>\n",
       "      <th>name</th>\n",
       "      <th>year</th>\n",
       "      <th>age</th>\n",
       "    </tr>\n",
       "  </thead>\n",
       "  <tbody>\n",
       "    <tr>\n",
       "      <th>0</th>\n",
       "      <td>Batman (Bruce Wayne)</td>\n",
       "      <td>1939.0</td>\n",
       "      <td>82.0</td>\n",
       "    </tr>\n",
       "    <tr>\n",
       "      <th>1</th>\n",
       "      <td>Superman (Clark Kent)</td>\n",
       "      <td>1986.0</td>\n",
       "      <td>35.0</td>\n",
       "    </tr>\n",
       "    <tr>\n",
       "      <th>2</th>\n",
       "      <td>Green Lantern (Hal Jordan)</td>\n",
       "      <td>1959.0</td>\n",
       "      <td>62.0</td>\n",
       "    </tr>\n",
       "    <tr>\n",
       "      <th>3</th>\n",
       "      <td>James Gordon (New Earth)</td>\n",
       "      <td>1987.0</td>\n",
       "      <td>34.0</td>\n",
       "    </tr>\n",
       "    <tr>\n",
       "      <th>4</th>\n",
       "      <td>Richard Grayson (New Earth)</td>\n",
       "      <td>1940.0</td>\n",
       "      <td>81.0</td>\n",
       "    </tr>\n",
       "    <tr>\n",
       "      <th>...</th>\n",
       "      <td>...</td>\n",
       "      <td>...</td>\n",
       "      <td>...</td>\n",
       "    </tr>\n",
       "    <tr>\n",
       "      <th>6891</th>\n",
       "      <td>Nadine West (New Earth)</td>\n",
       "      <td>NaN</td>\n",
       "      <td>NaN</td>\n",
       "    </tr>\n",
       "    <tr>\n",
       "      <th>6892</th>\n",
       "      <td>Warren Harding (New Earth)</td>\n",
       "      <td>NaN</td>\n",
       "      <td>NaN</td>\n",
       "    </tr>\n",
       "    <tr>\n",
       "      <th>6893</th>\n",
       "      <td>William Harrison (New Earth)</td>\n",
       "      <td>NaN</td>\n",
       "      <td>NaN</td>\n",
       "    </tr>\n",
       "    <tr>\n",
       "      <th>6894</th>\n",
       "      <td>William McKinley (New Earth)</td>\n",
       "      <td>NaN</td>\n",
       "      <td>NaN</td>\n",
       "    </tr>\n",
       "    <tr>\n",
       "      <th>6895</th>\n",
       "      <td>Mookie (New Earth)</td>\n",
       "      <td>NaN</td>\n",
       "      <td>NaN</td>\n",
       "    </tr>\n",
       "  </tbody>\n",
       "</table>\n",
       "<p>6896 rows × 3 columns</p>\n",
       "</div>"
      ],
      "text/plain": [
       "                              name    year   age\n",
       "0             Batman (Bruce Wayne)  1939.0  82.0\n",
       "1            Superman (Clark Kent)  1986.0  35.0\n",
       "2       Green Lantern (Hal Jordan)  1959.0  62.0\n",
       "3         James Gordon (New Earth)  1987.0  34.0\n",
       "4      Richard Grayson (New Earth)  1940.0  81.0\n",
       "...                            ...     ...   ...\n",
       "6891       Nadine West (New Earth)     NaN   NaN\n",
       "6892    Warren Harding (New Earth)     NaN   NaN\n",
       "6893  William Harrison (New Earth)     NaN   NaN\n",
       "6894  William McKinley (New Earth)     NaN   NaN\n",
       "6895            Mookie (New Earth)     NaN   NaN\n",
       "\n",
       "[6896 rows x 3 columns]"
      ]
     },
     "execution_count": 93,
     "metadata": {
      "tags": []
     },
     "output_type": "execute_result"
    }
   ],
   "source": [
    "dc.assign(age = 2021 - dc.year)[['name', 'year', 'age']]"
   ]
  },
  {
   "cell_type": "code",
   "execution_count": 42,
   "metadata": {
    "id": "noted-florida"
   },
   "outputs": [],
   "source": [
    "from nycflights13 import flights"
   ]
  },
  {
   "cell_type": "code",
   "execution_count": 43,
   "metadata": {
    "id": "social-population",
    "lines_to_next_cell": 2,
    "outputId": "3d031030-d39a-44e3-f1e5-35b3599ccf85"
   },
   "outputs": [
    {
     "output_type": "execute_result",
     "data": {
      "text/plain": [
       "        dep_delay  arr_delay  time_gain\n",
       "0             2.0       11.0       -9.0\n",
       "1             4.0       20.0      -16.0\n",
       "2             2.0       33.0      -31.0\n",
       "3            -1.0      -18.0       17.0\n",
       "4            -6.0      -25.0       19.0\n",
       "...           ...        ...        ...\n",
       "336771        NaN        NaN        NaN\n",
       "336772        NaN        NaN        NaN\n",
       "336773        NaN        NaN        NaN\n",
       "336774        NaN        NaN        NaN\n",
       "336775        NaN        NaN        NaN\n",
       "\n",
       "[336776 rows x 3 columns]"
      ],
      "text/html": "<div>\n<style scoped>\n    .dataframe tbody tr th:only-of-type {\n        vertical-align: middle;\n    }\n\n    .dataframe tbody tr th {\n        vertical-align: top;\n    }\n\n    .dataframe thead th {\n        text-align: right;\n    }\n</style>\n<table border=\"1\" class=\"dataframe\">\n  <thead>\n    <tr style=\"text-align: right;\">\n      <th></th>\n      <th>dep_delay</th>\n      <th>arr_delay</th>\n      <th>time_gain</th>\n    </tr>\n  </thead>\n  <tbody>\n    <tr>\n      <th>0</th>\n      <td>2.0</td>\n      <td>11.0</td>\n      <td>-9.0</td>\n    </tr>\n    <tr>\n      <th>1</th>\n      <td>4.0</td>\n      <td>20.0</td>\n      <td>-16.0</td>\n    </tr>\n    <tr>\n      <th>2</th>\n      <td>2.0</td>\n      <td>33.0</td>\n      <td>-31.0</td>\n    </tr>\n    <tr>\n      <th>3</th>\n      <td>-1.0</td>\n      <td>-18.0</td>\n      <td>17.0</td>\n    </tr>\n    <tr>\n      <th>4</th>\n      <td>-6.0</td>\n      <td>-25.0</td>\n      <td>19.0</td>\n    </tr>\n    <tr>\n      <th>...</th>\n      <td>...</td>\n      <td>...</td>\n      <td>...</td>\n    </tr>\n    <tr>\n      <th>336771</th>\n      <td>NaN</td>\n      <td>NaN</td>\n      <td>NaN</td>\n    </tr>\n    <tr>\n      <th>336772</th>\n      <td>NaN</td>\n      <td>NaN</td>\n      <td>NaN</td>\n    </tr>\n    <tr>\n      <th>336773</th>\n      <td>NaN</td>\n      <td>NaN</td>\n      <td>NaN</td>\n    </tr>\n    <tr>\n      <th>336774</th>\n      <td>NaN</td>\n      <td>NaN</td>\n      <td>NaN</td>\n    </tr>\n    <tr>\n      <th>336775</th>\n      <td>NaN</td>\n      <td>NaN</td>\n      <td>NaN</td>\n    </tr>\n  </tbody>\n</table>\n<p>336776 rows × 3 columns</p>\n</div>"
     },
     "metadata": {},
     "execution_count": 43
    }
   ],
   "source": [
    "flights[['dep_delay', 'arr_delay']]\\\n",
    "  .assign(time_gain = flights.dep_delay - flights.arr_delay)"
   ]
  },
  {
   "cell_type": "markdown",
   "metadata": {
    "id": "indoor-study"
   },
   "source": [
    "### Segment data values into bins\n",
    "\n",
    "In order to create a categorical variable from a continuous variable you need to segment and sort data values into bins.\n",
    "\n",
    "You can do that with the [pandas.cut](https://pandas.pydata.org/pandas-docs/stable/reference/api/pandas.cut.html) function:"
   ]
  },
  {
   "cell_type": "markdown",
   "metadata": {
    "id": "photographic-filter"
   },
   "source": [
    "#### Example 1: split a variable into equal intervals\n",
    "\n",
    "Here a `cut` example. `cut` splits a variable in classes, each of them correspond to an interval of values.\n",
    "\n",
    "You can automatically split the range of `year` in a number of classes:"
   ]
  },
  {
   "cell_type": "code",
   "execution_count": 40,
   "metadata": {
    "id": "realistic-special",
    "outputId": "2879c985-f604-4a65-b4d9-be9e9f8181cf"
   },
   "outputs": [
    {
     "output_type": "execute_result",
     "data": {
      "text/plain": [
       "        year          year_class\n",
       "0     1939.0  (1934.922, 1942.8]\n",
       "1     1986.0    (1981.8, 1989.6]\n",
       "2     1959.0    (1958.4, 1966.2]\n",
       "3     1987.0    (1981.8, 1989.6]\n",
       "4     1940.0  (1934.922, 1942.8]\n",
       "...      ...                 ...\n",
       "6891     NaN                 NaN\n",
       "6892     NaN                 NaN\n",
       "6893     NaN                 NaN\n",
       "6894     NaN                 NaN\n",
       "6895     NaN                 NaN\n",
       "\n",
       "[6896 rows x 2 columns]"
      ],
      "text/html": "<div>\n<style scoped>\n    .dataframe tbody tr th:only-of-type {\n        vertical-align: middle;\n    }\n\n    .dataframe tbody tr th {\n        vertical-align: top;\n    }\n\n    .dataframe thead th {\n        text-align: right;\n    }\n</style>\n<table border=\"1\" class=\"dataframe\">\n  <thead>\n    <tr style=\"text-align: right;\">\n      <th></th>\n      <th>year</th>\n      <th>year_class</th>\n    </tr>\n  </thead>\n  <tbody>\n    <tr>\n      <th>0</th>\n      <td>1939.0</td>\n      <td>(1934.922, 1942.8]</td>\n    </tr>\n    <tr>\n      <th>1</th>\n      <td>1986.0</td>\n      <td>(1981.8, 1989.6]</td>\n    </tr>\n    <tr>\n      <th>2</th>\n      <td>1959.0</td>\n      <td>(1958.4, 1966.2]</td>\n    </tr>\n    <tr>\n      <th>3</th>\n      <td>1987.0</td>\n      <td>(1981.8, 1989.6]</td>\n    </tr>\n    <tr>\n      <th>4</th>\n      <td>1940.0</td>\n      <td>(1934.922, 1942.8]</td>\n    </tr>\n    <tr>\n      <th>...</th>\n      <td>...</td>\n      <td>...</td>\n    </tr>\n    <tr>\n      <th>6891</th>\n      <td>NaN</td>\n      <td>NaN</td>\n    </tr>\n    <tr>\n      <th>6892</th>\n      <td>NaN</td>\n      <td>NaN</td>\n    </tr>\n    <tr>\n      <th>6893</th>\n      <td>NaN</td>\n      <td>NaN</td>\n    </tr>\n    <tr>\n      <th>6894</th>\n      <td>NaN</td>\n      <td>NaN</td>\n    </tr>\n    <tr>\n      <th>6895</th>\n      <td>NaN</td>\n      <td>NaN</td>\n    </tr>\n  </tbody>\n</table>\n<p>6896 rows × 2 columns</p>\n</div>"
     },
     "metadata": {},
     "execution_count": 40
    }
   ],
   "source": [
    "# You can automatically split the range of `year` in a number of classes:\n",
    "dc[['year']]\\\n",
    "  .assign(year_class = pd.cut(dc.year, bins = 10))"
   ]
  },
  {
   "cell_type": "markdown",
   "metadata": {
    "id": "approximate-alexandria"
   },
   "source": [
    "#### Example 2: split a variable into customized intervals"
   ]
  },
  {
   "cell_type": "code",
   "execution_count": null,
   "metadata": {
    "id": "portable-calibration",
    "lines_to_next_cell": 0,
    "outputId": "5655b146-88c3-47c0-b555-816f237f40f1"
   },
   "outputs": [
    {
     "data": {
      "text/html": [
       "<div>\n",
       "<style scoped>\n",
       "    .dataframe tbody tr th:only-of-type {\n",
       "        vertical-align: middle;\n",
       "    }\n",
       "\n",
       "    .dataframe tbody tr th {\n",
       "        vertical-align: top;\n",
       "    }\n",
       "\n",
       "    .dataframe thead th {\n",
       "        text-align: right;\n",
       "    }\n",
       "</style>\n",
       "<table border=\"1\" class=\"dataframe\">\n",
       "  <thead>\n",
       "    <tr style=\"text-align: right;\">\n",
       "      <th></th>\n",
       "      <th>arr_delay</th>\n",
       "      <th>delay_class</th>\n",
       "    </tr>\n",
       "  </thead>\n",
       "  <tbody>\n",
       "    <tr>\n",
       "      <th>0</th>\n",
       "      <td>11.0</td>\n",
       "      <td>small-delay</td>\n",
       "    </tr>\n",
       "    <tr>\n",
       "      <th>1</th>\n",
       "      <td>20.0</td>\n",
       "      <td>big-delay</td>\n",
       "    </tr>\n",
       "    <tr>\n",
       "      <th>2</th>\n",
       "      <td>33.0</td>\n",
       "      <td>big-delay</td>\n",
       "    </tr>\n",
       "    <tr>\n",
       "      <th>3</th>\n",
       "      <td>-18.0</td>\n",
       "      <td>no-delay</td>\n",
       "    </tr>\n",
       "    <tr>\n",
       "      <th>4</th>\n",
       "      <td>-25.0</td>\n",
       "      <td>no-delay</td>\n",
       "    </tr>\n",
       "    <tr>\n",
       "      <th>...</th>\n",
       "      <td>...</td>\n",
       "      <td>...</td>\n",
       "    </tr>\n",
       "    <tr>\n",
       "      <th>336771</th>\n",
       "      <td>NaN</td>\n",
       "      <td>NaN</td>\n",
       "    </tr>\n",
       "    <tr>\n",
       "      <th>336772</th>\n",
       "      <td>NaN</td>\n",
       "      <td>NaN</td>\n",
       "    </tr>\n",
       "    <tr>\n",
       "      <th>336773</th>\n",
       "      <td>NaN</td>\n",
       "      <td>NaN</td>\n",
       "    </tr>\n",
       "    <tr>\n",
       "      <th>336774</th>\n",
       "      <td>NaN</td>\n",
       "      <td>NaN</td>\n",
       "    </tr>\n",
       "    <tr>\n",
       "      <th>336775</th>\n",
       "      <td>NaN</td>\n",
       "      <td>NaN</td>\n",
       "    </tr>\n",
       "  </tbody>\n",
       "</table>\n",
       "<p>336776 rows × 2 columns</p>\n",
       "</div>"
      ],
      "text/plain": [
       "        arr_delay  delay_class\n",
       "0            11.0  small-delay\n",
       "1            20.0    big-delay\n",
       "2            33.0    big-delay\n",
       "3           -18.0     no-delay\n",
       "4           -25.0     no-delay\n",
       "...           ...          ...\n",
       "336771        NaN          NaN\n",
       "336772        NaN          NaN\n",
       "336773        NaN          NaN\n",
       "336774        NaN          NaN\n",
       "336775        NaN          NaN\n",
       "\n",
       "[336776 rows x 2 columns]"
      ]
     },
     "execution_count": 99,
     "metadata": {
      "tags": []
     },
     "output_type": "execute_result"
    }
   ],
   "source": [
    "flights[['arr_delay']].assign(\n",
    "    delay_class=pd.cut(\n",
    "        x=flights['arr_delay'],\n",
    "        bins=  [ -np.inf,         0,                15,             np.inf],\n",
    "        labels=[       'no-delay',    'small-delay',    'big-delay']\n",
    "    )\n",
    ")"
   ]
  },
  {
   "cell_type": "markdown",
   "metadata": {
    "id": "ecological-astrology"
   },
   "source": [
    "\n"
   ]
  },
  {
   "cell_type": "markdown",
   "metadata": {
    "id": "compact-folder"
   },
   "source": [
    "## Aggregate rows"
   ]
  },
  {
   "cell_type": "markdown",
   "metadata": {
    "id": "matched-morgan"
   },
   "source": [
    "### Scalar-returning aggregations\n",
    "\n",
    "Here we need to use a function that returns a scalar:\n",
    "\n",
    "$$\n",
    "R^n \\to R\n",
    "$$\n"
   ]
  },
  {
   "cell_type": "markdown",
   "metadata": {
    "id": "fatty-honolulu"
   },
   "source": [
    "For example, the `mean` function takes a vector and returns a single value:"
   ]
  },
  {
   "cell_type": "code",
   "execution_count": null,
   "metadata": {
    "id": "higher-marshall",
    "lines_to_next_cell": 0,
    "outputId": "71990dfb-62c2-485c-c0bb-118ecd25e277"
   },
   "outputs": [
    {
     "data": {
      "text/plain": [
       "6.89537675731489"
      ]
     },
     "execution_count": 100,
     "metadata": {
      "tags": []
     },
     "output_type": "execute_result"
    }
   ],
   "source": [
    "np.mean(flights.arr_delay)"
   ]
  },
  {
   "cell_type": "markdown",
   "metadata": {
    "id": "informed-pattern"
   },
   "source": [
    "Examples:\n",
    "\n",
    "- [numpy.mean](https://numpy.org/doc/stable/reference/generated/numpy.mean.html)\n",
    "\n",
    "- [numpy.std](https://numpy.org/doc/stable/reference/generated/numpy.std.html)\n",
    "- [numpy.quantile](https://numpy.org/doc/stable/reference/generated/numpy.quantile.html)\n",
    "\n",
    "- [pandas.Series.max](https://pandas.pydata.org/docs/reference/api/pandas.Series.max.html)\n",
    "- [pandas.Series.min](https://pandas.pydata.org/docs/reference/api/pandas.Series.min.html)\n"
   ]
  },
  {
   "cell_type": "markdown",
   "metadata": {
    "id": "color-premium"
   },
   "source": [
    "### Aggregate to a scalar\n",
    "\n",
    "Prepare the dataset:"
   ]
  },
  {
   "cell_type": "code",
   "execution_count": 46,
   "metadata": {
    "id": "boxed-gateway",
    "lines_to_next_cell": 2,
    "outputId": "6eb90161-d813-4505-8629-12de9dc25b1c"
   },
   "outputs": [
    {
     "output_type": "execute_result",
     "data": {
      "text/plain": [
       "   dep_delay  arr_delay carrier origin dest\n",
       "0        2.0       11.0      UA    EWR  IAH\n",
       "1        4.0       20.0      UA    LGA  IAH\n",
       "2        2.0       33.0      AA    JFK  MIA\n",
       "3       -1.0      -18.0      B6    JFK  BQN\n",
       "4       -6.0      -25.0      DL    LGA  ATL"
      ],
      "text/html": "<div>\n<style scoped>\n    .dataframe tbody tr th:only-of-type {\n        vertical-align: middle;\n    }\n\n    .dataframe tbody tr th {\n        vertical-align: top;\n    }\n\n    .dataframe thead th {\n        text-align: right;\n    }\n</style>\n<table border=\"1\" class=\"dataframe\">\n  <thead>\n    <tr style=\"text-align: right;\">\n      <th></th>\n      <th>dep_delay</th>\n      <th>arr_delay</th>\n      <th>carrier</th>\n      <th>origin</th>\n      <th>dest</th>\n    </tr>\n  </thead>\n  <tbody>\n    <tr>\n      <th>0</th>\n      <td>2.0</td>\n      <td>11.0</td>\n      <td>UA</td>\n      <td>EWR</td>\n      <td>IAH</td>\n    </tr>\n    <tr>\n      <th>1</th>\n      <td>4.0</td>\n      <td>20.0</td>\n      <td>UA</td>\n      <td>LGA</td>\n      <td>IAH</td>\n    </tr>\n    <tr>\n      <th>2</th>\n      <td>2.0</td>\n      <td>33.0</td>\n      <td>AA</td>\n      <td>JFK</td>\n      <td>MIA</td>\n    </tr>\n    <tr>\n      <th>3</th>\n      <td>-1.0</td>\n      <td>-18.0</td>\n      <td>B6</td>\n      <td>JFK</td>\n      <td>BQN</td>\n    </tr>\n    <tr>\n      <th>4</th>\n      <td>-6.0</td>\n      <td>-25.0</td>\n      <td>DL</td>\n      <td>LGA</td>\n      <td>ATL</td>\n    </tr>\n  </tbody>\n</table>\n</div>"
     },
     "metadata": {},
     "execution_count": 46
    }
   ],
   "source": [
    "flights_tiny = flights[[ 'dep_delay', 'arr_delay', 'carrier', 'origin', 'dest' ]]\n",
    "flights_tiny.head()"
   ]
  },
  {
   "cell_type": "markdown",
   "metadata": {
    "id": "sought-communications"
   },
   "source": [
    "Calculate a single aggregation:"
   ]
  },
  {
   "cell_type": "code",
   "execution_count": null,
   "metadata": {
    "id": "aerial-glenn",
    "lines_to_next_cell": 2,
    "outputId": "4eb6b755-09e0-4abb-a57a-0572f2ad62df"
   },
   "outputs": [
    {
     "data": {
      "text/plain": [
       "arr_delay    6.895377\n",
       "dtype: float64"
      ]
     },
     "execution_count": 102,
     "metadata": {
      "tags": []
     },
     "output_type": "execute_result"
    }
   ],
   "source": [
    "flights_tiny.agg({\n",
    "    'arr_delay': np.mean,\n",
    "  })"
   ]
  },
  {
   "cell_type": "markdown",
   "metadata": {
    "id": "becoming-tuner"
   },
   "source": [
    "Calculate multiple aggregations:"
   ]
  },
  {
   "cell_type": "code",
   "execution_count": null,
   "metadata": {
    "id": "herbal-begin",
    "lines_to_next_cell": 2,
    "outputId": "606a15dc-97e9-42c3-80f8-f039654a76cc"
   },
   "outputs": [
    {
     "data": {
      "text/html": [
       "<div>\n",
       "<style scoped>\n",
       "    .dataframe tbody tr th:only-of-type {\n",
       "        vertical-align: middle;\n",
       "    }\n",
       "\n",
       "    .dataframe tbody tr th {\n",
       "        vertical-align: top;\n",
       "    }\n",
       "\n",
       "    .dataframe thead th {\n",
       "        text-align: right;\n",
       "    }\n",
       "</style>\n",
       "<table border=\"1\" class=\"dataframe\">\n",
       "  <thead>\n",
       "    <tr style=\"text-align: right;\">\n",
       "      <th></th>\n",
       "      <th>dep_delay</th>\n",
       "      <th>arr_delay</th>\n",
       "    </tr>\n",
       "  </thead>\n",
       "  <tbody>\n",
       "    <tr>\n",
       "      <th>mean</th>\n",
       "      <td>12.639070</td>\n",
       "      <td>6.895377</td>\n",
       "    </tr>\n",
       "    <tr>\n",
       "      <th>std</th>\n",
       "      <td>40.210061</td>\n",
       "      <td>44.633292</td>\n",
       "    </tr>\n",
       "    <tr>\n",
       "      <th>median</th>\n",
       "      <td>-2.000000</td>\n",
       "      <td>-5.000000</td>\n",
       "    </tr>\n",
       "  </tbody>\n",
       "</table>\n",
       "</div>"
      ],
      "text/plain": [
       "        dep_delay  arr_delay\n",
       "mean    12.639070   6.895377\n",
       "std     40.210061  44.633292\n",
       "median  -2.000000  -5.000000"
      ]
     },
     "execution_count": 103,
     "metadata": {
      "tags": []
     },
     "output_type": "execute_result"
    }
   ],
   "source": [
    "flights_tiny.aggregate({\n",
    "  'dep_delay': [np.mean, np.std, np.median],\n",
    "  'arr_delay': [np.mean, np.std, np.median],\n",
    "})"
   ]
  },
  {
   "source": [
    "Create your own aggregation function:\n"
   ],
   "cell_type": "markdown",
   "metadata": {}
  },
  {
   "cell_type": "code",
   "execution_count": 50,
   "metadata": {},
   "outputs": [
    {
     "output_type": "execute_result",
     "data": {
      "text/plain": [
       "           arr_delay\n",
       "median          -5.0\n",
       "my_median       -5.0"
      ],
      "text/html": "<div>\n<style scoped>\n    .dataframe tbody tr th:only-of-type {\n        vertical-align: middle;\n    }\n\n    .dataframe tbody tr th {\n        vertical-align: top;\n    }\n\n    .dataframe thead th {\n        text-align: right;\n    }\n</style>\n<table border=\"1\" class=\"dataframe\">\n  <thead>\n    <tr style=\"text-align: right;\">\n      <th></th>\n      <th>arr_delay</th>\n    </tr>\n  </thead>\n  <tbody>\n    <tr>\n      <th>median</th>\n      <td>-5.0</td>\n    </tr>\n    <tr>\n      <th>my_median</th>\n      <td>-5.0</td>\n    </tr>\n  </tbody>\n</table>\n</div>"
     },
     "metadata": {},
     "execution_count": 50
    }
   ],
   "source": [
    "def my_median(x):\n",
    "    return np.nanquantile(list(x), q=0.5)\n",
    "\n",
    "flights_tiny.agg({\n",
    "    'arr_delay': [np.median, my_median]\n",
    "  })"
   ]
  },
  {
   "cell_type": "markdown",
   "metadata": {
    "id": "alike-trader"
   },
   "source": [
    "## Compute per groups"
   ]
  },
  {
   "cell_type": "markdown",
   "metadata": {},
   "source": [
    "### Aggregation per groups"
   ]
  },
  {
   "cell_type": "code",
   "execution_count": null,
   "metadata": {
    "id": "explicit-boards",
    "lines_to_next_cell": 0
   },
   "outputs": [],
   "source": [
    "flights_tiny\\\n",
    "  .groupby('carrier')\\\n",
    "  .aggregate({\n",
    "    'dep_delay': [np.mean, np.std, np.median],\n",
    "    'arr_delay': [np.mean, np.std, np.median],\n",
    "  })"
   ]
  },
  {
   "cell_type": "markdown",
   "metadata": {
    "id": "velvet-handle"
   },
   "source": []
  },
  {
   "cell_type": "markdown",
   "metadata": {
    "id": "accomplished-developer"
   },
   "source": [
    "## Joins\n",
    "\n",
    "![Join e Merge](https://www.practicaldatascience.org/html/_images/join-or-merge-in-python-pandas.png)\n",
    "\n",
    "Let us a couple of example tables. Let us define a [foreign-key](https://en.wikipedia.org/wiki/Foreign_key) a column whose values have a correspondence in another table. This creates a relationship among two tables."
   ]
  },
  {
   "cell_type": "code",
   "execution_count": 51,
   "metadata": {},
   "outputs": [
    {
     "output_type": "execute_result",
     "data": {
      "text/plain": [
       "array(['a', 'b', 'c', 'd', 'e', 'f', 'g', 'h', 'i', 'j', 'k', 'l', 'm',\n",
       "       'n', 'o', 'p', 'q', 'r', 's', 't', 'u', 'v', 'w', 'x', 'y', 'z'],\n",
       "      dtype='<U1')"
      ]
     },
     "metadata": {},
     "execution_count": 51
    }
   ],
   "source": [
    "import numpy as np\n",
    "\n",
    "letters = np.array(list(\"abcdefghijklmnopqrstuvwxyz\"))\n",
    "letters"
   ]
  },
  {
   "cell_type": "code",
   "execution_count": 54,
   "metadata": {
    "id": "restricted-collection",
    "lines_to_next_cell": 2
   },
   "outputs": [
    {
     "output_type": "execute_result",
     "data": {
      "text/plain": [
       "array(['A', 'B', 'C', 'D', 'E', 'F', 'G', 'H', 'I', 'J', 'K', 'L', 'M',\n",
       "       'N', 'O', 'P', 'Q', 'R', 'S', 'T', 'U', 'V', 'W', 'X', 'Y', 'Z'],\n",
       "      dtype='<U1')"
      ]
     },
     "metadata": {},
     "execution_count": 54
    }
   ],
   "source": [
    "upper_letters = np.vectorize(lambda x: x.upper())(letters)\n",
    "upper_letters\n"
   ]
  },
  {
   "cell_type": "markdown",
   "metadata": {
    "id": "compatible-receipt"
   },
   "source": [
    "`DataFrame` joins are performed with the function  [merge](https://pandas.pydata.org/docs/reference/api/pandas.DataFrame.merge.html)."
   ]
  },
  {
   "cell_type": "code",
   "execution_count": 56,
   "metadata": {
    "id": "premium-second",
    "lines_to_next_cell": 2
   },
   "outputs": [
    {
     "output_type": "execute_result",
     "data": {
      "text/plain": [
       "   id         lower\n",
       "0   0             a\n",
       "1   1             b\n",
       "2   2  a-non-letter\n",
       "3   3             d\n",
       "4   4             e"
      ],
      "text/html": "<div>\n<style scoped>\n    .dataframe tbody tr th:only-of-type {\n        vertical-align: middle;\n    }\n\n    .dataframe tbody tr th {\n        vertical-align: top;\n    }\n\n    .dataframe thead th {\n        text-align: right;\n    }\n</style>\n<table border=\"1\" class=\"dataframe\">\n  <thead>\n    <tr style=\"text-align: right;\">\n      <th></th>\n      <th>id</th>\n      <th>lower</th>\n    </tr>\n  </thead>\n  <tbody>\n    <tr>\n      <th>0</th>\n      <td>0</td>\n      <td>a</td>\n    </tr>\n    <tr>\n      <th>1</th>\n      <td>1</td>\n      <td>b</td>\n    </tr>\n    <tr>\n      <th>2</th>\n      <td>2</td>\n      <td>a-non-letter</td>\n    </tr>\n    <tr>\n      <th>3</th>\n      <td>3</td>\n      <td>d</td>\n    </tr>\n    <tr>\n      <th>4</th>\n      <td>4</td>\n      <td>e</td>\n    </tr>\n  </tbody>\n</table>\n</div>"
     },
     "metadata": {},
     "execution_count": 56
    }
   ],
   "source": [
    "# Main table, where\n",
    "# 'id' id number\n",
    "# 'lower' a foreign key\n",
    "main_tbl = pd.DataFrame({\n",
    "  'id': np.arange(5),\n",
    "  'lower': np.concatenate((letters[0:2], np.array(['a-non-letter']), letters[3:5]))\n",
    "})\n",
    "main_tbl"
   ]
  },
  {
   "cell_type": "markdown",
   "metadata": {
    "id": "large-plane"
   },
   "source": [
    "And another that contains (usually all) the occurrences of the foreign-key:"
   ]
  },
  {
   "cell_type": "code",
   "execution_count": 57,
   "metadata": {
    "id": "piano-harbor",
    "lines_to_next_cell": 2
   },
   "outputs": [
    {
     "output_type": "execute_result",
     "data": {
      "text/plain": [
       "   lower upper\n",
       "0      a     A\n",
       "1      b     B\n",
       "2      c     C\n",
       "3      d     D\n",
       "4      e     E\n",
       "5      f     F\n",
       "6      g     G\n",
       "7      h     H\n",
       "8      i     I\n",
       "9      j     J\n",
       "10     k     K\n",
       "11     l     L\n",
       "12     m     M\n",
       "13     n     N\n",
       "14     o     O\n",
       "15     p     P\n",
       "16     q     Q\n",
       "17     r     R\n",
       "18     s     S\n",
       "19     t     T\n",
       "20     u     U\n",
       "21     v     V\n",
       "22     w     W\n",
       "23     x     X\n",
       "24     y     Y\n",
       "25     z     Z"
      ],
      "text/html": "<div>\n<style scoped>\n    .dataframe tbody tr th:only-of-type {\n        vertical-align: middle;\n    }\n\n    .dataframe tbody tr th {\n        vertical-align: top;\n    }\n\n    .dataframe thead th {\n        text-align: right;\n    }\n</style>\n<table border=\"1\" class=\"dataframe\">\n  <thead>\n    <tr style=\"text-align: right;\">\n      <th></th>\n      <th>lower</th>\n      <th>upper</th>\n    </tr>\n  </thead>\n  <tbody>\n    <tr>\n      <th>0</th>\n      <td>a</td>\n      <td>A</td>\n    </tr>\n    <tr>\n      <th>1</th>\n      <td>b</td>\n      <td>B</td>\n    </tr>\n    <tr>\n      <th>2</th>\n      <td>c</td>\n      <td>C</td>\n    </tr>\n    <tr>\n      <th>3</th>\n      <td>d</td>\n      <td>D</td>\n    </tr>\n    <tr>\n      <th>4</th>\n      <td>e</td>\n      <td>E</td>\n    </tr>\n    <tr>\n      <th>5</th>\n      <td>f</td>\n      <td>F</td>\n    </tr>\n    <tr>\n      <th>6</th>\n      <td>g</td>\n      <td>G</td>\n    </tr>\n    <tr>\n      <th>7</th>\n      <td>h</td>\n      <td>H</td>\n    </tr>\n    <tr>\n      <th>8</th>\n      <td>i</td>\n      <td>I</td>\n    </tr>\n    <tr>\n      <th>9</th>\n      <td>j</td>\n      <td>J</td>\n    </tr>\n    <tr>\n      <th>10</th>\n      <td>k</td>\n      <td>K</td>\n    </tr>\n    <tr>\n      <th>11</th>\n      <td>l</td>\n      <td>L</td>\n    </tr>\n    <tr>\n      <th>12</th>\n      <td>m</td>\n      <td>M</td>\n    </tr>\n    <tr>\n      <th>13</th>\n      <td>n</td>\n      <td>N</td>\n    </tr>\n    <tr>\n      <th>14</th>\n      <td>o</td>\n      <td>O</td>\n    </tr>\n    <tr>\n      <th>15</th>\n      <td>p</td>\n      <td>P</td>\n    </tr>\n    <tr>\n      <th>16</th>\n      <td>q</td>\n      <td>Q</td>\n    </tr>\n    <tr>\n      <th>17</th>\n      <td>r</td>\n      <td>R</td>\n    </tr>\n    <tr>\n      <th>18</th>\n      <td>s</td>\n      <td>S</td>\n    </tr>\n    <tr>\n      <th>19</th>\n      <td>t</td>\n      <td>T</td>\n    </tr>\n    <tr>\n      <th>20</th>\n      <td>u</td>\n      <td>U</td>\n    </tr>\n    <tr>\n      <th>21</th>\n      <td>v</td>\n      <td>V</td>\n    </tr>\n    <tr>\n      <th>22</th>\n      <td>w</td>\n      <td>W</td>\n    </tr>\n    <tr>\n      <th>23</th>\n      <td>x</td>\n      <td>X</td>\n    </tr>\n    <tr>\n      <th>24</th>\n      <td>y</td>\n      <td>Y</td>\n    </tr>\n    <tr>\n      <th>25</th>\n      <td>z</td>\n      <td>Z</td>\n    </tr>\n  </tbody>\n</table>\n</div>"
     },
     "metadata": {},
     "execution_count": 57
    }
   ],
   "source": [
    "# The table of letters \n",
    "# 'lower' list all the lower case letters\n",
    "# 'upper' an attribute to the letters, for the example case a upper case copy of the letter\n",
    "letter_tbl = pd.DataFrame({\n",
    "  'lower': letters,\n",
    "  'upper': upper_letters\n",
    "})\n",
    "letter_tbl"
   ]
  },
  {
   "cell_type": "code",
   "execution_count": 58,
   "metadata": {
    "id": "covered-commander",
    "lines_to_next_cell": 2
   },
   "outputs": [
    {
     "output_type": "execute_result",
     "data": {
      "text/plain": [
       "     id         lower upper\n",
       "0   0.0             a     A\n",
       "1   1.0             b     B\n",
       "2   2.0  a-non-letter   NaN\n",
       "3   3.0             d     D\n",
       "4   4.0             e     E\n",
       "5   NaN             c     C\n",
       "6   NaN             f     F\n",
       "7   NaN             g     G\n",
       "8   NaN             h     H\n",
       "9   NaN             i     I\n",
       "10  NaN             j     J\n",
       "11  NaN             k     K\n",
       "12  NaN             l     L\n",
       "13  NaN             m     M\n",
       "14  NaN             n     N\n",
       "15  NaN             o     O\n",
       "16  NaN             p     P\n",
       "17  NaN             q     Q\n",
       "18  NaN             r     R\n",
       "19  NaN             s     S\n",
       "20  NaN             t     T\n",
       "21  NaN             u     U\n",
       "22  NaN             v     V\n",
       "23  NaN             w     W\n",
       "24  NaN             x     X\n",
       "25  NaN             y     Y\n",
       "26  NaN             z     Z"
      ],
      "text/html": "<div>\n<style scoped>\n    .dataframe tbody tr th:only-of-type {\n        vertical-align: middle;\n    }\n\n    .dataframe tbody tr th {\n        vertical-align: top;\n    }\n\n    .dataframe thead th {\n        text-align: right;\n    }\n</style>\n<table border=\"1\" class=\"dataframe\">\n  <thead>\n    <tr style=\"text-align: right;\">\n      <th></th>\n      <th>id</th>\n      <th>lower</th>\n      <th>upper</th>\n    </tr>\n  </thead>\n  <tbody>\n    <tr>\n      <th>0</th>\n      <td>0.0</td>\n      <td>a</td>\n      <td>A</td>\n    </tr>\n    <tr>\n      <th>1</th>\n      <td>1.0</td>\n      <td>b</td>\n      <td>B</td>\n    </tr>\n    <tr>\n      <th>2</th>\n      <td>2.0</td>\n      <td>a-non-letter</td>\n      <td>NaN</td>\n    </tr>\n    <tr>\n      <th>3</th>\n      <td>3.0</td>\n      <td>d</td>\n      <td>D</td>\n    </tr>\n    <tr>\n      <th>4</th>\n      <td>4.0</td>\n      <td>e</td>\n      <td>E</td>\n    </tr>\n    <tr>\n      <th>5</th>\n      <td>NaN</td>\n      <td>c</td>\n      <td>C</td>\n    </tr>\n    <tr>\n      <th>6</th>\n      <td>NaN</td>\n      <td>f</td>\n      <td>F</td>\n    </tr>\n    <tr>\n      <th>7</th>\n      <td>NaN</td>\n      <td>g</td>\n      <td>G</td>\n    </tr>\n    <tr>\n      <th>8</th>\n      <td>NaN</td>\n      <td>h</td>\n      <td>H</td>\n    </tr>\n    <tr>\n      <th>9</th>\n      <td>NaN</td>\n      <td>i</td>\n      <td>I</td>\n    </tr>\n    <tr>\n      <th>10</th>\n      <td>NaN</td>\n      <td>j</td>\n      <td>J</td>\n    </tr>\n    <tr>\n      <th>11</th>\n      <td>NaN</td>\n      <td>k</td>\n      <td>K</td>\n    </tr>\n    <tr>\n      <th>12</th>\n      <td>NaN</td>\n      <td>l</td>\n      <td>L</td>\n    </tr>\n    <tr>\n      <th>13</th>\n      <td>NaN</td>\n      <td>m</td>\n      <td>M</td>\n    </tr>\n    <tr>\n      <th>14</th>\n      <td>NaN</td>\n      <td>n</td>\n      <td>N</td>\n    </tr>\n    <tr>\n      <th>15</th>\n      <td>NaN</td>\n      <td>o</td>\n      <td>O</td>\n    </tr>\n    <tr>\n      <th>16</th>\n      <td>NaN</td>\n      <td>p</td>\n      <td>P</td>\n    </tr>\n    <tr>\n      <th>17</th>\n      <td>NaN</td>\n      <td>q</td>\n      <td>Q</td>\n    </tr>\n    <tr>\n      <th>18</th>\n      <td>NaN</td>\n      <td>r</td>\n      <td>R</td>\n    </tr>\n    <tr>\n      <th>19</th>\n      <td>NaN</td>\n      <td>s</td>\n      <td>S</td>\n    </tr>\n    <tr>\n      <th>20</th>\n      <td>NaN</td>\n      <td>t</td>\n      <td>T</td>\n    </tr>\n    <tr>\n      <th>21</th>\n      <td>NaN</td>\n      <td>u</td>\n      <td>U</td>\n    </tr>\n    <tr>\n      <th>22</th>\n      <td>NaN</td>\n      <td>v</td>\n      <td>V</td>\n    </tr>\n    <tr>\n      <th>23</th>\n      <td>NaN</td>\n      <td>w</td>\n      <td>W</td>\n    </tr>\n    <tr>\n      <th>24</th>\n      <td>NaN</td>\n      <td>x</td>\n      <td>X</td>\n    </tr>\n    <tr>\n      <th>25</th>\n      <td>NaN</td>\n      <td>y</td>\n      <td>Y</td>\n    </tr>\n    <tr>\n      <th>26</th>\n      <td>NaN</td>\n      <td>z</td>\n      <td>Z</td>\n    </tr>\n  </tbody>\n</table>\n</div>"
     },
     "metadata": {},
     "execution_count": 58
    }
   ],
   "source": [
    "# full-join\n",
    "main_tbl.merge(letter_tbl, how='outer')"
   ]
  },
  {
   "cell_type": "code",
   "execution_count": 62,
   "metadata": {
    "id": "functional-tattoo",
    "lines_to_next_cell": 2
   },
   "outputs": [
    {
     "output_type": "execute_result",
     "data": {
      "text/plain": [
       "   id lower upper\n",
       "0   0     a     A\n",
       "1   1     b     B\n",
       "2   3     d     D\n",
       "3   4     e     E"
      ],
      "text/html": "<div>\n<style scoped>\n    .dataframe tbody tr th:only-of-type {\n        vertical-align: middle;\n    }\n\n    .dataframe tbody tr th {\n        vertical-align: top;\n    }\n\n    .dataframe thead th {\n        text-align: right;\n    }\n</style>\n<table border=\"1\" class=\"dataframe\">\n  <thead>\n    <tr style=\"text-align: right;\">\n      <th></th>\n      <th>id</th>\n      <th>lower</th>\n      <th>upper</th>\n    </tr>\n  </thead>\n  <tbody>\n    <tr>\n      <th>0</th>\n      <td>0</td>\n      <td>a</td>\n      <td>A</td>\n    </tr>\n    <tr>\n      <th>1</th>\n      <td>1</td>\n      <td>b</td>\n      <td>B</td>\n    </tr>\n    <tr>\n      <th>2</th>\n      <td>3</td>\n      <td>d</td>\n      <td>D</td>\n    </tr>\n    <tr>\n      <th>3</th>\n      <td>4</td>\n      <td>e</td>\n      <td>E</td>\n    </tr>\n  </tbody>\n</table>\n</div>"
     },
     "metadata": {},
     "execution_count": 62
    }
   ],
   "source": [
    "# inner-join\n",
    "main_tbl.merge(letter_tbl, how='inner')"
   ]
  },
  {
   "cell_type": "code",
   "execution_count": null,
   "metadata": {
    "id": "surprised-starter",
    "lines_to_next_cell": 2
   },
   "outputs": [],
   "source": [
    "# left-join\n",
    "main_tbl.merge(letter_tbl, how='left')"
   ]
  },
  {
   "cell_type": "code",
   "execution_count": null,
   "metadata": {},
   "outputs": [],
   "source": [
    "# right-join\n",
    "main_tbl.merge(letter_tbl, how='right')"
   ]
  },
  {
   "cell_type": "code",
   "execution_count": null,
   "metadata": {
    "id": "future-skirt",
    "lines_to_next_cell": 2
   },
   "outputs": [],
   "source": [
    "# inverting the order a 'right_join' return the same as a 'left_join'\n",
    "letter_tbl.merge(main_tbl, how='left')"
   ]
  },
  {
   "cell_type": "code",
   "execution_count": 79,
   "metadata": {},
   "outputs": [],
   "source": [
    "#It's possible to have a much more specific syntax\n",
    "#Using also different keys\n",
    "df_merged = pd.merge(main_tbl, letter_tbl, how=\"inner\", left_on=[\"lower\"], right_on=[\"lower\"])"
   ]
  },
  {
   "cell_type": "markdown",
   "metadata": {
    "id": "attractive-shade"
   },
   "source": [
    "### Unite data frames\n",
    "\n",
    "#### Concatenate rows\n",
    "\n",
    "Example from the [guide](https://pandas.pydata.org/docs/user_guide/merging.html):"
   ]
  },
  {
   "cell_type": "code",
   "execution_count": 63,
   "metadata": {
    "id": "sunset-pleasure",
    "lines_to_next_cell": 2
   },
   "outputs": [],
   "source": [
    "df1 = pd.DataFrame(\n",
    "    {\n",
    "        \"A\": [\"A0\", \"A1\", \"A2\", \"A3\"],\n",
    "        \"B\": [\"B0\", \"B1\", \"B2\", \"B3\"],\n",
    "        \"C\": [\"C0\", \"C1\", \"C2\", \"C3\"],\n",
    "        \"D\": [\"D0\", \"D1\", \"D2\", \"D3\"],\n",
    "    },\n",
    "    index=[0, 1, 2, 3],\n",
    ")\n",
    "\n",
    "df2 = pd.DataFrame(\n",
    "    {\n",
    "        \"A\": [\"A4\", \"A5\", \"A6\", \"A7\"],\n",
    "        \"B\": [\"B4\", \"B5\", \"B6\", \"B7\"],\n",
    "        \"C\": [\"C4\", \"C5\", \"C6\", \"C7\"],\n",
    "        \"D\": [\"D4\", \"D5\", \"D6\", \"D7\"],\n",
    "    },\n",
    "    index=[0, 1, 2, 3],\n",
    ")\n",
    "\n",
    "df3 = pd.DataFrame(\n",
    "    {\n",
    "        \"A\": [\"A8\", \"A9\", \"A10\", \"A11\"],\n",
    "        \"B\": [\"B8\", \"B9\", \"B10\", \"B11\"],\n",
    "        \"C\": [\"C8\", \"C9\", \"C10\", \"C11\"],\n",
    "        \"D\": [\"D8\", \"D9\", \"D10\", \"D11\"],\n",
    "    },\n",
    "    index=[0, 1, 2, 3],\n",
    ")"
   ]
  },
  {
   "cell_type": "code",
   "execution_count": 64,
   "metadata": {
    "id": "damaged-desert",
    "lines_to_next_cell": 2
   },
   "outputs": [
    {
     "output_type": "execute_result",
     "data": {
      "text/plain": [
       "     A    B    C    D\n",
       "0   A0   B0   C0   D0\n",
       "1   A1   B1   C1   D1\n",
       "2   A2   B2   C2   D2\n",
       "3   A3   B3   C3   D3\n",
       "0   A4   B4   C4   D4\n",
       "1   A5   B5   C5   D5\n",
       "2   A6   B6   C6   D6\n",
       "3   A7   B7   C7   D7\n",
       "0   A8   B8   C8   D8\n",
       "1   A9   B9   C9   D9\n",
       "2  A10  B10  C10  D10\n",
       "3  A11  B11  C11  D11"
      ],
      "text/html": "<div>\n<style scoped>\n    .dataframe tbody tr th:only-of-type {\n        vertical-align: middle;\n    }\n\n    .dataframe tbody tr th {\n        vertical-align: top;\n    }\n\n    .dataframe thead th {\n        text-align: right;\n    }\n</style>\n<table border=\"1\" class=\"dataframe\">\n  <thead>\n    <tr style=\"text-align: right;\">\n      <th></th>\n      <th>A</th>\n      <th>B</th>\n      <th>C</th>\n      <th>D</th>\n    </tr>\n  </thead>\n  <tbody>\n    <tr>\n      <th>0</th>\n      <td>A0</td>\n      <td>B0</td>\n      <td>C0</td>\n      <td>D0</td>\n    </tr>\n    <tr>\n      <th>1</th>\n      <td>A1</td>\n      <td>B1</td>\n      <td>C1</td>\n      <td>D1</td>\n    </tr>\n    <tr>\n      <th>2</th>\n      <td>A2</td>\n      <td>B2</td>\n      <td>C2</td>\n      <td>D2</td>\n    </tr>\n    <tr>\n      <th>3</th>\n      <td>A3</td>\n      <td>B3</td>\n      <td>C3</td>\n      <td>D3</td>\n    </tr>\n    <tr>\n      <th>0</th>\n      <td>A4</td>\n      <td>B4</td>\n      <td>C4</td>\n      <td>D4</td>\n    </tr>\n    <tr>\n      <th>1</th>\n      <td>A5</td>\n      <td>B5</td>\n      <td>C5</td>\n      <td>D5</td>\n    </tr>\n    <tr>\n      <th>2</th>\n      <td>A6</td>\n      <td>B6</td>\n      <td>C6</td>\n      <td>D6</td>\n    </tr>\n    <tr>\n      <th>3</th>\n      <td>A7</td>\n      <td>B7</td>\n      <td>C7</td>\n      <td>D7</td>\n    </tr>\n    <tr>\n      <th>0</th>\n      <td>A8</td>\n      <td>B8</td>\n      <td>C8</td>\n      <td>D8</td>\n    </tr>\n    <tr>\n      <th>1</th>\n      <td>A9</td>\n      <td>B9</td>\n      <td>C9</td>\n      <td>D9</td>\n    </tr>\n    <tr>\n      <th>2</th>\n      <td>A10</td>\n      <td>B10</td>\n      <td>C10</td>\n      <td>D10</td>\n    </tr>\n    <tr>\n      <th>3</th>\n      <td>A11</td>\n      <td>B11</td>\n      <td>C11</td>\n      <td>D11</td>\n    </tr>\n  </tbody>\n</table>\n</div>"
     },
     "metadata": {},
     "execution_count": 64
    }
   ],
   "source": [
    "# concat rows\n",
    "pd.concat([df1, df2, df3])"
   ]
  },
  {
   "cell_type": "code",
   "execution_count": 65,
   "metadata": {
    "id": "bottom-marathon"
   },
   "outputs": [
    {
     "output_type": "execute_result",
     "data": {
      "text/plain": [
       "    A   B   C   D   A   B   C   D    A    B    C    D\n",
       "0  A0  B0  C0  D0  A4  B4  C4  D4   A8   B8   C8   D8\n",
       "1  A1  B1  C1  D1  A5  B5  C5  D5   A9   B9   C9   D9\n",
       "2  A2  B2  C2  D2  A6  B6  C6  D6  A10  B10  C10  D10\n",
       "3  A3  B3  C3  D3  A7  B7  C7  D7  A11  B11  C11  D11"
      ],
      "text/html": "<div>\n<style scoped>\n    .dataframe tbody tr th:only-of-type {\n        vertical-align: middle;\n    }\n\n    .dataframe tbody tr th {\n        vertical-align: top;\n    }\n\n    .dataframe thead th {\n        text-align: right;\n    }\n</style>\n<table border=\"1\" class=\"dataframe\">\n  <thead>\n    <tr style=\"text-align: right;\">\n      <th></th>\n      <th>A</th>\n      <th>B</th>\n      <th>C</th>\n      <th>D</th>\n      <th>A</th>\n      <th>B</th>\n      <th>C</th>\n      <th>D</th>\n      <th>A</th>\n      <th>B</th>\n      <th>C</th>\n      <th>D</th>\n    </tr>\n  </thead>\n  <tbody>\n    <tr>\n      <th>0</th>\n      <td>A0</td>\n      <td>B0</td>\n      <td>C0</td>\n      <td>D0</td>\n      <td>A4</td>\n      <td>B4</td>\n      <td>C4</td>\n      <td>D4</td>\n      <td>A8</td>\n      <td>B8</td>\n      <td>C8</td>\n      <td>D8</td>\n    </tr>\n    <tr>\n      <th>1</th>\n      <td>A1</td>\n      <td>B1</td>\n      <td>C1</td>\n      <td>D1</td>\n      <td>A5</td>\n      <td>B5</td>\n      <td>C5</td>\n      <td>D5</td>\n      <td>A9</td>\n      <td>B9</td>\n      <td>C9</td>\n      <td>D9</td>\n    </tr>\n    <tr>\n      <th>2</th>\n      <td>A2</td>\n      <td>B2</td>\n      <td>C2</td>\n      <td>D2</td>\n      <td>A6</td>\n      <td>B6</td>\n      <td>C6</td>\n      <td>D6</td>\n      <td>A10</td>\n      <td>B10</td>\n      <td>C10</td>\n      <td>D10</td>\n    </tr>\n    <tr>\n      <th>3</th>\n      <td>A3</td>\n      <td>B3</td>\n      <td>C3</td>\n      <td>D3</td>\n      <td>A7</td>\n      <td>B7</td>\n      <td>C7</td>\n      <td>D7</td>\n      <td>A11</td>\n      <td>B11</td>\n      <td>C11</td>\n      <td>D11</td>\n    </tr>\n  </tbody>\n</table>\n</div>"
     },
     "metadata": {},
     "execution_count": 65
    }
   ],
   "source": [
    "# bind columns by their index\n",
    "pd.concat([df1, df2, df3], axis=1)\n"
   ]
  },
  {
   "cell_type": "markdown",
   "metadata": {},
   "source": [
    "# Bonus Topics"
   ]
  },
  {
   "cell_type": "markdown",
   "metadata": {},
   "source": [
    "## Configure Pandas Settings\n",
    "\n",
    "Pandas have a lot of settings that it's possible to configure"
   ]
  },
  {
   "cell_type": "code",
   "execution_count": null,
   "metadata": {},
   "outputs": [],
   "source": [
    "# Use 3 decimal places in output display\n",
    "pd.set_option(\"display.precision\", 3)\n",
    "\n",
    "# Don't wrap repr(DataFrame) across additional lines\n",
    "pd.set_option(\"display.expand_frame_repr\", False)\n",
    "\n",
    "# Set max rows displayed in output to 25\n",
    "pd.set_option(\"display.max_rows\", 25)"
   ]
  },
  {
   "cell_type": "markdown",
   "metadata": {},
   "source": [
    "## Apply custom functions \n",
    "\n",
    "With Pandas it's possible to build custom functions and apply them to a dataframe\n",
    "\n",
    "Pandas provides a very useful and powerful function called: `apply`.\n",
    "This function allows you to apply a function you define or any transformation to a dataframe.\n",
    "\n",
    "In the example we will also use `lambda expressions`, a particular Python construct."
   ]
  },
  {
   "cell_type": "code",
   "execution_count": 66,
   "metadata": {},
   "outputs": [],
   "source": [
    "#Build a custom function to lowering all strings in a dataframe\n",
    "def put_string_lower(dataset):\n",
    "    \"\"\"Function to generate lower strings based on particular condition\n",
    "\n",
    "    Args:\n",
    "        dataset ([dataframe]): Pandas dataframe\n",
    "    \"\"\"\n",
    "    print(type(dataset))    \n",
    "    if ((dataset['value'] > 200) & (dataset['check'] is True)):\n",
    "        \n",
    "        applied = True\n",
    "    else:\n",
    "        \n",
    "        applied = False\n",
    "    \n",
    "    print(f\"\\nFunction applied: {applied} for:\\n {dataset}\")\n",
    "    return(dataset.str.lower())"
   ]
  },
  {
   "cell_type": "code",
   "execution_count": 67,
   "metadata": {},
   "outputs": [],
   "source": [
    "#Build a custom function to add a single record\n",
    "def anomaly_record(dataset):\n",
    "    print(type(dataset))\n",
    "    if dataset['check'] is False:\n",
    "        applied = True\n",
    "    else:\n",
    "        applied = False\n",
    "    return(applied)"
   ]
  },
  {
   "cell_type": "code",
   "execution_count": 68,
   "metadata": {},
   "outputs": [
    {
     "output_type": "execute_result",
     "data": {
      "text/plain": [
       "   check  value        string\n",
       "0   True    200   FIRSTSTRING\n",
       "1   True    500  SecondString\n",
       "2  False    600      ThirdOne\n",
       "3  False      1      allunder\n",
       "4   True   2000         SUPER\n",
       "5    NaN     20          why?"
      ],
      "text/html": "<div>\n<style scoped>\n    .dataframe tbody tr th:only-of-type {\n        vertical-align: middle;\n    }\n\n    .dataframe tbody tr th {\n        vertical-align: top;\n    }\n\n    .dataframe thead th {\n        text-align: right;\n    }\n</style>\n<table border=\"1\" class=\"dataframe\">\n  <thead>\n    <tr style=\"text-align: right;\">\n      <th></th>\n      <th>check</th>\n      <th>value</th>\n      <th>string</th>\n    </tr>\n  </thead>\n  <tbody>\n    <tr>\n      <th>0</th>\n      <td>True</td>\n      <td>200</td>\n      <td>FIRSTSTRING</td>\n    </tr>\n    <tr>\n      <th>1</th>\n      <td>True</td>\n      <td>500</td>\n      <td>SecondString</td>\n    </tr>\n    <tr>\n      <th>2</th>\n      <td>False</td>\n      <td>600</td>\n      <td>ThirdOne</td>\n    </tr>\n    <tr>\n      <th>3</th>\n      <td>False</td>\n      <td>1</td>\n      <td>allunder</td>\n    </tr>\n    <tr>\n      <th>4</th>\n      <td>True</td>\n      <td>2000</td>\n      <td>SUPER</td>\n    </tr>\n    <tr>\n      <th>5</th>\n      <td>NaN</td>\n      <td>20</td>\n      <td>why?</td>\n    </tr>\n  </tbody>\n</table>\n</div>"
     },
     "metadata": {},
     "execution_count": 68
    }
   ],
   "source": [
    "import pandas as pd\n",
    "\n",
    "#Define a dataframe with custom fields and none variables\n",
    "df_check = pd.Series([True, True, False, False, True])\n",
    "df_value = pd.Series([200, 500, 600, 1, 2000, 20])\n",
    "df_string = pd.Series([\"FIRSTSTRING\",\"SecondString\",\"ThirdOne\",\"allunder\",\"SUPER\",\"why?\"])\n",
    "\n",
    "df = pd.DataFrame({'check':df_check,'value':df_value,'string':df_string})\n",
    "df"
   ]
  },
  {
   "cell_type": "code",
   "execution_count": 69,
   "metadata": {},
   "outputs": [
    {
     "output_type": "stream",
     "name": "stdout",
     "text": [
      "<class 'pandas.core.series.Series'>\n<class 'pandas.core.series.Series'>\n<class 'pandas.core.series.Series'>\n<class 'pandas.core.series.Series'>\n<class 'pandas.core.series.Series'>\n<class 'pandas.core.series.Series'>\nCPU times: user 1.74 ms, sys: 4.47 ms, total: 6.21 ms\nWall time: 17.8 ms\n"
     ]
    },
    {
     "output_type": "execute_result",
     "data": {
      "text/plain": [
       "   check  value        string  anomaly\n",
       "0   True    200   FIRSTSTRING    False\n",
       "1   True    500  SecondString    False\n",
       "2  False    600      ThirdOne     True\n",
       "3  False      1      allunder     True\n",
       "4   True   2000         SUPER    False\n",
       "5    NaN     20          why?    False"
      ],
      "text/html": "<div>\n<style scoped>\n    .dataframe tbody tr th:only-of-type {\n        vertical-align: middle;\n    }\n\n    .dataframe tbody tr th {\n        vertical-align: top;\n    }\n\n    .dataframe thead th {\n        text-align: right;\n    }\n</style>\n<table border=\"1\" class=\"dataframe\">\n  <thead>\n    <tr style=\"text-align: right;\">\n      <th></th>\n      <th>check</th>\n      <th>value</th>\n      <th>string</th>\n      <th>anomaly</th>\n    </tr>\n  </thead>\n  <tbody>\n    <tr>\n      <th>0</th>\n      <td>True</td>\n      <td>200</td>\n      <td>FIRSTSTRING</td>\n      <td>False</td>\n    </tr>\n    <tr>\n      <th>1</th>\n      <td>True</td>\n      <td>500</td>\n      <td>SecondString</td>\n      <td>False</td>\n    </tr>\n    <tr>\n      <th>2</th>\n      <td>False</td>\n      <td>600</td>\n      <td>ThirdOne</td>\n      <td>True</td>\n    </tr>\n    <tr>\n      <th>3</th>\n      <td>False</td>\n      <td>1</td>\n      <td>allunder</td>\n      <td>True</td>\n    </tr>\n    <tr>\n      <th>4</th>\n      <td>True</td>\n      <td>2000</td>\n      <td>SUPER</td>\n      <td>False</td>\n    </tr>\n    <tr>\n      <th>5</th>\n      <td>NaN</td>\n      <td>20</td>\n      <td>why?</td>\n      <td>False</td>\n    </tr>\n  </tbody>\n</table>\n</div>"
     },
     "metadata": {},
     "execution_count": 69
    }
   ],
   "source": [
    "%%time\n",
    "df['anomaly'] = df.apply(anomaly_record, axis=1)\n",
    "df"
   ]
  },
  {
   "cell_type": "code",
   "execution_count": 71,
   "metadata": {},
   "outputs": [
    {
     "output_type": "stream",
     "name": "stdout",
     "text": [
      "<class 'pandas.core.series.Series'>\n\nFunction applied: False for:\n check             True\nvalue              200\nstring     FIRSTSTRING\nanomaly          False\nlower      firststring\nName: 0, dtype: object\n<class 'pandas.core.series.Series'>\n\nFunction applied: True for:\n check              True\nvalue               500\nstring     SecondString\nanomaly           False\nlower      secondstring\nName: 1, dtype: object\n<class 'pandas.core.series.Series'>\n\nFunction applied: False for:\n check         False\nvalue           600\nstring     ThirdOne\nanomaly        True\nlower      thirdone\nName: 2, dtype: object\n<class 'pandas.core.series.Series'>\n\nFunction applied: False for:\n check         False\nvalue             1\nstring     allunder\nanomaly        True\nlower      allunder\nName: 3, dtype: object\n<class 'pandas.core.series.Series'>\n\nFunction applied: True for:\n check       True\nvalue       2000\nstring     SUPER\nanomaly    False\nlower      super\nName: 4, dtype: object\n<class 'pandas.core.series.Series'>\n\nFunction applied: False for:\n check        NaN\nvalue         20\nstring      why?\nanomaly    False\nlower       why?\nName: 5, dtype: object\nCPU times: user 17.1 ms, sys: 9.95 ms, total: 27.1 ms\nWall time: 25.7 ms\n"
     ]
    },
    {
     "output_type": "execute_result",
     "data": {
      "text/plain": [
       "   check  value        string  anomaly         lower\n",
       "0   True    200   FIRSTSTRING    False   firststring\n",
       "1   True    500  SecondString    False  secondstring\n",
       "2  False    600      ThirdOne     True      thirdone\n",
       "3  False      1      allunder     True      allunder\n",
       "4   True   2000         SUPER    False         super\n",
       "5    NaN     20          why?    False          why?"
      ],
      "text/html": "<div>\n<style scoped>\n    .dataframe tbody tr th:only-of-type {\n        vertical-align: middle;\n    }\n\n    .dataframe tbody tr th {\n        vertical-align: top;\n    }\n\n    .dataframe thead th {\n        text-align: right;\n    }\n</style>\n<table border=\"1\" class=\"dataframe\">\n  <thead>\n    <tr style=\"text-align: right;\">\n      <th></th>\n      <th>check</th>\n      <th>value</th>\n      <th>string</th>\n      <th>anomaly</th>\n      <th>lower</th>\n    </tr>\n  </thead>\n  <tbody>\n    <tr>\n      <th>0</th>\n      <td>True</td>\n      <td>200</td>\n      <td>FIRSTSTRING</td>\n      <td>False</td>\n      <td>firststring</td>\n    </tr>\n    <tr>\n      <th>1</th>\n      <td>True</td>\n      <td>500</td>\n      <td>SecondString</td>\n      <td>False</td>\n      <td>secondstring</td>\n    </tr>\n    <tr>\n      <th>2</th>\n      <td>False</td>\n      <td>600</td>\n      <td>ThirdOne</td>\n      <td>True</td>\n      <td>thirdone</td>\n    </tr>\n    <tr>\n      <th>3</th>\n      <td>False</td>\n      <td>1</td>\n      <td>allunder</td>\n      <td>True</td>\n      <td>allunder</td>\n    </tr>\n    <tr>\n      <th>4</th>\n      <td>True</td>\n      <td>2000</td>\n      <td>SUPER</td>\n      <td>False</td>\n      <td>super</td>\n    </tr>\n    <tr>\n      <th>5</th>\n      <td>NaN</td>\n      <td>20</td>\n      <td>why?</td>\n      <td>False</td>\n      <td>why?</td>\n    </tr>\n  </tbody>\n</table>\n</div>"
     },
     "metadata": {},
     "execution_count": 71
    }
   ],
   "source": [
    "%%time\n",
    "#Apply a function\n",
    "result = df.apply(put_string_lower, axis=1)\n",
    "df['lower'] = result['string']\n",
    "df"
   ]
  },
  {
   "cell_type": "code",
   "execution_count": 73,
   "metadata": {},
   "outputs": [
    {
     "name": "stdout",
     "output_type": "stream",
     "text": [
      "<class 'pandas.core.series.Series'>\n",
      "<class 'pandas.core.series.Series'>\n",
      "<class 'pandas.core.series.Series'>\n",
      "<class 'pandas.core.series.Series'>\n",
      "<class 'pandas.core.series.Series'>\n",
      "<class 'pandas.core.series.Series'>\n"
     ]
    },
    {
     "data": {
      "text/html": "<div>\n<style scoped>\n    .dataframe tbody tr th:only-of-type {\n        vertical-align: middle;\n    }\n\n    .dataframe tbody tr th {\n        vertical-align: top;\n    }\n\n    .dataframe thead th {\n        text-align: right;\n    }\n</style>\n<table border=\"1\" class=\"dataframe\">\n  <thead>\n    <tr style=\"text-align: right;\">\n      <th></th>\n      <th>check</th>\n      <th>value</th>\n      <th>string</th>\n      <th>lower</th>\n      <th>anomaly</th>\n    </tr>\n  </thead>\n  <tbody>\n    <tr>\n      <th>0</th>\n      <td>True</td>\n      <td>200</td>\n      <td>FIRSTSTRING</td>\n      <td>firststring</td>\n      <td>True</td>\n    </tr>\n    <tr>\n      <th>1</th>\n      <td>True</td>\n      <td>500</td>\n      <td>SecondString</td>\n      <td>secondstring</td>\n      <td>True</td>\n    </tr>\n    <tr>\n      <th>2</th>\n      <td>False</td>\n      <td>600</td>\n      <td>ThirdOne</td>\n      <td>thirdone</td>\n      <td>False</td>\n    </tr>\n    <tr>\n      <th>3</th>\n      <td>False</td>\n      <td>1</td>\n      <td>allunder</td>\n      <td>allunder</td>\n      <td>False</td>\n    </tr>\n    <tr>\n      <th>4</th>\n      <td>True</td>\n      <td>2000</td>\n      <td>SUPER</td>\n      <td>super</td>\n      <td>True</td>\n    </tr>\n    <tr>\n      <th>5</th>\n      <td>NaN</td>\n      <td>20</td>\n      <td>why?</td>\n      <td>why?</td>\n      <td>True</td>\n    </tr>\n  </tbody>\n</table>\n</div>",
      "text/plain": "   check  value        string         lower  anomaly\n0   True    200   FIRSTSTRING   firststring     True\n1   True    500  SecondString  secondstring     True\n2  False    600      ThirdOne      thirdone    False\n3  False      1      allunder      allunder    False\n4   True   2000         SUPER         super     True\n5    NaN     20          why?          why?     True"
     },
     "execution_count": 73,
     "metadata": {},
     "output_type": "execute_result"
    }
   ],
   "source": [
    "#Apply a function using lambda\n",
    "df['anomaly'] = df.apply(lambda x: anomaly_record(x), axis=1)\n",
    "df"
   ]
  },
  {
   "cell_type": "markdown",
   "metadata": {},
   "source": [
    "## Working with Dates\n",
    "\n",
    "In Python it's quite easy to work with dates, but it can often be misleading because of the type with which dates and time are represented.\n",
    "\n",
    "Sometimes the time or dates can be in string format or in Datetime format.\n",
    "\n",
    "Let's take a quick look at how to deal and work with dates using the basic Python language libraries."
   ]
  },
  {
   "cell_type": "markdown",
   "metadata": {},
   "source": [
    "Working with Dates"
   ]
  },
  {
   "cell_type": "code",
   "execution_count": 82,
   "metadata": {},
   "outputs": [
    {
     "output_type": "stream",
     "name": "stdout",
     "text": [
      "2021-02-09\n<class 'datetime.date'>\n"
     ]
    }
   ],
   "source": [
    "#Working with dates\n",
    "from datetime import date\n",
    "\n",
    "d1 = date(2021,2,9)\n",
    "\n",
    "print(d1)\n",
    "\n",
    "print(type(d1))"
   ]
  },
  {
   "cell_type": "code",
   "execution_count": 3,
   "metadata": {},
   "outputs": [
    {
     "name": "stdout",
     "output_type": "stream",
     "text": [
      "2021-04-10\n",
      "Day : 10\n",
      "Month : 4\n",
      "Year : 2021\n"
     ]
    }
   ],
   "source": [
    "# There are a lot of useful functions inside the library\n",
    "# For example the possibility to retrieve the current day and divide into parts\n",
    "\n",
    "# present day date\n",
    "d1 = date.today()\n",
    "print(d1)\n",
    "# day\n",
    "print('Day :',d1.day)\n",
    "# month\n",
    "print('Month :',d1.month)\n",
    "# year\n",
    "print('Year :',d1.year)"
   ]
  },
  {
   "cell_type": "markdown",
   "metadata": {},
   "source": [
    "If we want to work with time"
   ]
  },
  {
   "cell_type": "code",
   "execution_count": 72,
   "metadata": {},
   "outputs": [
    {
     "output_type": "stream",
     "name": "stdout",
     "text": [
      "13:20:13.000040\n<class 'datetime.time'>\nHour : 13\nMinute : 20\nSecond : 13\nMicrosecond : 40\n"
     ]
    }
   ],
   "source": [
    "#Lavoriamo con il tempo\n",
    "from datetime import time\n",
    "\n",
    "t1 = time(13,20,13,40)\n",
    "\n",
    "print(t1)\n",
    "\n",
    "print(type(t1))\n",
    "\n",
    "# hour\n",
    "print('Hour :',t1.hour)\n",
    "# minute\n",
    "print('Minute :',t1.minute)\n",
    "# second\n",
    "print('Second :',t1.second)\n",
    "# microsecond\n",
    "print('Microsecond :',t1.microsecond)"
   ]
  },
  {
   "cell_type": "markdown",
   "metadata": {},
   "source": [
    "Working with dates + time = `Datetime`\n",
    "\n",
    "It's also possible to work with date and time on the same type of data"
   ]
  },
  {
   "cell_type": "code",
   "execution_count": 73,
   "metadata": {},
   "outputs": [
    {
     "output_type": "stream",
     "name": "stdout",
     "text": [
      "2021-02-09 11:20:30.000040\n<class 'datetime.datetime'>\n2021-04-11 16:05:16.689877\n<class 'datetime.datetime'>\n"
     ]
    }
   ],
   "source": [
    "from datetime import datetime\n",
    "d1 = datetime(2021,2,9,11,20,30,40)\n",
    "print(d1)\n",
    "print(type(d1))\n",
    "\n",
    "#Visualizing current datetime\n",
    "d1 = datetime.now()\n",
    "print(d1)\n",
    "print(type(d1))"
   ]
  },
  {
   "cell_type": "markdown",
   "metadata": {},
   "source": [
    "Datetime object are very useful because you can execute very fast operations on the data"
   ]
  },
  {
   "cell_type": "code",
   "execution_count": 74,
   "metadata": {},
   "outputs": [
    {
     "output_type": "stream",
     "name": "stdout",
     "text": [
      "Datetime : 2021-04-11 16:05:16.689877\nDate : 2021-04-11\nTime : 16:05:16.689877\nNew datetime : 2021-04-24 14:05:16.689877\n"
     ]
    }
   ],
   "source": [
    "print('Datetime :',d1)\n",
    "# date\n",
    "print('Date :',d1.date())\n",
    "# time\n",
    "print('Time :',d1.time())\n",
    "\n",
    "# change the data (day = 24 and hour = 14)\n",
    "print('New datetime :',d1.replace(day=24, hour=14))"
   ]
  },
  {
   "cell_type": "markdown",
   "metadata": {},
   "source": [
    "There are a lot of useful functions, for example the possibility to use the calendar"
   ]
  },
  {
   "cell_type": "code",
   "execution_count": 75,
   "metadata": {},
   "outputs": [
    {
     "output_type": "stream",
     "name": "stdout",
     "text": [
      "6\n7\n(2021, 14, 7)\nYear : 2021\nWeek : 14\nWeekday : 7\n"
     ]
    }
   ],
   "source": [
    "d1 = datetime.now()\n",
    "\n",
    "# The week starts from 0\n",
    "print(d1.weekday())\n",
    "# The week starts from 1\n",
    "print(d1.isoweekday())\n",
    "\n",
    "# Week of the year\n",
    "# retuns year, week, month\n",
    "print(d1.isocalendar())\n",
    "print('Year :',d1.isocalendar()[0])\n",
    "print('Week :',d1.isocalendar()[1])\n",
    "print('Weekday :',d1.isocalendar()[2])"
   ]
  },
  {
   "cell_type": "code",
   "execution_count": 76,
   "metadata": {},
   "outputs": [
    {
     "output_type": "stream",
     "name": "stdout",
     "text": [
      "   February 2021\nMo Tu We Th Fr Sa Su\n 1  2  3  4  5  6  7\n 8  9 10 11 12 13 14\n15 16 17 18 19 20 21\n22 23 24 25 26 27 28\n\n                                  2021\n\n      January                   February                   March\nMo Tu We Th Fr Sa Su      Mo Tu We Th Fr Sa Su      Mo Tu We Th Fr Sa Su\n             1  2  3       1  2  3  4  5  6  7       1  2  3  4  5  6  7\n 4  5  6  7  8  9 10       8  9 10 11 12 13 14       8  9 10 11 12 13 14\n11 12 13 14 15 16 17      15 16 17 18 19 20 21      15 16 17 18 19 20 21\n18 19 20 21 22 23 24      22 23 24 25 26 27 28      22 23 24 25 26 27 28\n25 26 27 28 29 30 31                                29 30 31\n\n       April                      May                       June\nMo Tu We Th Fr Sa Su      Mo Tu We Th Fr Sa Su      Mo Tu We Th Fr Sa Su\n          1  2  3  4                      1  2          1  2  3  4  5  6\n 5  6  7  8  9 10 11       3  4  5  6  7  8  9       7  8  9 10 11 12 13\n12 13 14 15 16 17 18      10 11 12 13 14 15 16      14 15 16 17 18 19 20\n19 20 21 22 23 24 25      17 18 19 20 21 22 23      21 22 23 24 25 26 27\n26 27 28 29 30            24 25 26 27 28 29 30      28 29 30\n                          31\n\n        July                     August                  September\nMo Tu We Th Fr Sa Su      Mo Tu We Th Fr Sa Su      Mo Tu We Th Fr Sa Su\n          1  2  3  4                         1             1  2  3  4  5\n 5  6  7  8  9 10 11       2  3  4  5  6  7  8       6  7  8  9 10 11 12\n12 13 14 15 16 17 18       9 10 11 12 13 14 15      13 14 15 16 17 18 19\n19 20 21 22 23 24 25      16 17 18 19 20 21 22      20 21 22 23 24 25 26\n26 27 28 29 30 31         23 24 25 26 27 28 29      27 28 29 30\n                          30 31\n\n      October                   November                  December\nMo Tu We Th Fr Sa Su      Mo Tu We Th Fr Sa Su      Mo Tu We Th Fr Sa Su\n             1  2  3       1  2  3  4  5  6  7             1  2  3  4  5\n 4  5  6  7  8  9 10       8  9 10 11 12 13 14       6  7  8  9 10 11 12\n11 12 13 14 15 16 17      15 16 17 18 19 20 21      13 14 15 16 17 18 19\n18 19 20 21 22 23 24      22 23 24 25 26 27 28      20 21 22 23 24 25 26\n25 26 27 28 29 30 31      29 30                     27 28 29 30 31\n\n"
     ]
    }
   ],
   "source": [
    "# Visualize directly the calendar :) \n",
    "\n",
    "#Using the library calendar\n",
    "import calendar\n",
    "\n",
    "# Its was April when I wrote this\n",
    "print(calendar.month(2021, 2))\n",
    "\n",
    "print(calendar.calendar(2021))"
   ]
  },
  {
   "cell_type": "markdown",
   "metadata": {},
   "source": [
    "So we have seen how the default Python libraries work and they are very powerful.\n",
    "\n",
    "To work on the DateTime object and therefore on dates there are two very important and very useful functions:\n",
    "- **strptime** = Allows you to create a DateTime object from a string, representing the time and date. You can also pass a particular format to the string to transform it\n",
    "- **strftime** = To convert a DateTime object into a string (the opposite of strptime)\n",
    "\n",
    "So let's see how you can use"
   ]
  },
  {
   "cell_type": "code",
   "execution_count": 77,
   "metadata": {},
   "outputs": [],
   "source": [
    "#Be careful for the library import\n",
    "from datetime import datetime"
   ]
  },
  {
   "cell_type": "code",
   "execution_count": 79,
   "metadata": {},
   "outputs": [
    {
     "output_type": "stream",
     "name": "stdout",
     "text": [
      "2020-04-22 13:20:13\n<class 'datetime.datetime'>\n"
     ]
    }
   ],
   "source": [
    "# strptime\n",
    "date = '22 April, 2020 13:20:13' #It's always in english!!!\n",
    "d1 = datetime.strptime(date,'%d %B, %Y %H:%M:%S')\n",
    "print(d1)\n",
    "print(type(d1))"
   ]
  },
  {
   "cell_type": "code",
   "execution_count": 80,
   "metadata": {},
   "outputs": [
    {
     "output_type": "stream",
     "name": "stdout",
     "text": [
      "Datetime object : 2021-04-11 16:08:36.292555\nFormatted date : 11/04/2021 16:08\n<class 'str'>\n"
     ]
    }
   ],
   "source": [
    "# strftime\n",
    "d1 = datetime.now()\n",
    "print('Datetime object :',d1)\n",
    "new_date = d1.strftime('%d/%m/%Y %H:%M')\n",
    "print('Formatted date :',new_date)\n",
    "print(type(new_date))"
   ]
  },
  {
   "cell_type": "markdown",
   "metadata": {},
   "source": [
    "These time operators: `('%d %B, %Y %H:%M:%S')` allow you to represent time (they are keywords).\n",
    "\n",
    "To see the list of possible keywords you can check the documentation: https://docs.python.org/3/library/datetime.html#strftime-and-strptime-format-codes"
   ]
  },
  {
   "cell_type": "code",
   "execution_count": 7,
   "metadata": {},
   "outputs": [
    {
     "name": "stdout",
     "output_type": "stream",
     "text": [
      "Weekday : Saturday\n",
      "Month : April\n",
      "Week number : 14\n",
      "Locale's date and time representation : Sat Apr 10 19:25:42 2021\n"
     ]
    }
   ],
   "source": [
    "#With the temporal operators (called: format codes) it's possible to gather interesting information\n",
    "d1 = datetime.now()\n",
    "print('Weekday :',d1.strftime('%A'))\n",
    "print('Month :',d1.strftime('%B'))\n",
    "print('Week number :',d1.strftime('%W'))\n",
    "print(\"Locale's date and time representation :\",d1.strftime('%c'))"
   ]
  },
  {
   "cell_type": "markdown",
   "metadata": {},
   "source": [
    "To perform operations on dates you have to be a bit careful, because performing simple operations on dates will result in a new object called: **timedelta**.\n",
    "\n",
    "Timedelta is useful because it allows you to have interesting new methods."
   ]
  },
  {
   "cell_type": "code",
   "execution_count": 84,
   "metadata": {},
   "outputs": [
    {
     "output_type": "stream",
     "name": "stdout",
     "text": [
      "<class 'datetime.timedelta'>\n"
     ]
    },
    {
     "output_type": "execute_result",
     "data": {
      "text/plain": [
       "datetime.timedelta(days=262, seconds=3600)"
      ]
     },
     "metadata": {},
     "execution_count": 84
    }
   ],
   "source": [
    "# timedelta : duration between dates\n",
    "d1 = datetime(2020,4,23,11,13,10)\n",
    "d2 = datetime(2021,1,10,12,13,10)\n",
    "duration = d2 - d1\n",
    "print(type(duration))\n",
    "duration"
   ]
  },
  {
   "cell_type": "code",
   "execution_count": null,
   "metadata": {},
   "outputs": [],
   "source": [
    "print(duration.days) # 365\n",
    "print(duration.seconds) # 3600"
   ]
  },
  {
   "cell_type": "markdown",
   "metadata": {},
   "source": [
    "Time delta is important because it allows you to perform operations directly on dates in a much simpler way (and also being able to deal with strings)"
   ]
  },
  {
   "cell_type": "code",
   "execution_count": 85,
   "metadata": {},
   "outputs": [
    {
     "output_type": "stream",
     "name": "stdout",
     "text": [
      "Duration in hours : 6289.0\nDuration in minutes : 377340.0\nDuration in seconds : 22640400.0\n"
     ]
    }
   ],
   "source": [
    "from datetime import timedelta\n",
    "# duration in hours\n",
    "print('Duration in hours :', duration / timedelta(hours=1))\n",
    "# duration in minutes\n",
    "print('Duration in minutes :', duration / timedelta(minutes=1))\n",
    "# duration in seconds\n",
    "print('Duration in seconds :', duration / timedelta(seconds=1))"
   ]
  },
  {
   "cell_type": "code",
   "execution_count": 93,
   "metadata": {},
   "outputs": [
    {
     "output_type": "error",
     "ename": "TypeError",
     "evalue": "unsupported operand type(s) for +: 'datetime.datetime' and 'int'",
     "traceback": [
      "\u001b[0;31m---------------------------------------------------------------------------\u001b[0m",
      "\u001b[0;31mTypeError\u001b[0m                                 Traceback (most recent call last)",
      "\u001b[0;32m<ipython-input-93-f1ffc6f6fc75>\u001b[0m in \u001b[0;36m<module>\u001b[0;34m\u001b[0m\n\u001b[1;32m      2\u001b[0m \u001b[0;32mimport\u001b[0m \u001b[0mtimedelta\u001b[0m\u001b[0;34m\u001b[0m\u001b[0;34m\u001b[0m\u001b[0m\n\u001b[1;32m      3\u001b[0m \u001b[0md1\u001b[0m \u001b[0;34m=\u001b[0m \u001b[0mdatetime\u001b[0m\u001b[0;34m.\u001b[0m\u001b[0mnow\u001b[0m\u001b[0;34m(\u001b[0m\u001b[0;34m)\u001b[0m\u001b[0;34m\u001b[0m\u001b[0;34m\u001b[0m\u001b[0m\n\u001b[0;32m----> 4\u001b[0;31m \u001b[0md1\u001b[0m \u001b[0;34m+\u001b[0m \u001b[0;36m5\u001b[0m\u001b[0;34m\u001b[0m\u001b[0;34m\u001b[0m\u001b[0m\n\u001b[0m\u001b[1;32m      5\u001b[0m \u001b[0;34m\u001b[0m\u001b[0m\n\u001b[1;32m      6\u001b[0m \u001b[0;31m#Because we are trying to sum an int to a datetime data type\u001b[0m\u001b[0;34m\u001b[0m\u001b[0;34m\u001b[0m\u001b[0;34m\u001b[0m\u001b[0m\n",
      "\u001b[0;31mTypeError\u001b[0m: unsupported operand type(s) for +: 'datetime.datetime' and 'int'"
     ]
    }
   ],
   "source": [
    "#Don't work!! Required Timedelta!!\n",
    "d1 = datetime.now()\n",
    "# d1 + 5\n",
    "\n",
    "#Because we are trying to sum an int to a datetime data type"
   ]
  },
  {
   "cell_type": "code",
   "execution_count": 88,
   "metadata": {},
   "outputs": [
    {
     "output_type": "stream",
     "name": "stdout",
     "text": [
      "Today's date : 2021-04-11 16:17:05.104910\nDate 2 days from today : 2021-04-13 16:17:05.104910\nDate 2 weeks from today : 2021-04-25 16:17:05.104910\n"
     ]
    }
   ],
   "source": [
    "d1 = datetime.now()\n",
    "print(\"Today's date :\", d1)\n",
    "\n",
    "d2 = d1+timedelta(days=2)\n",
    "print(\"Date 2 days from today :\", d2)\n",
    "\n",
    "d3 = d1+timedelta(weeks=2)\n",
    "print(\"Date 2 weeks from today :\", d3)"
   ]
  },
  {
   "cell_type": "markdown",
   "metadata": {},
   "source": [
    "Given the basic operation of the library we can see how it behaves with Pandas and Numpy.\n",
    "\n",
    "The operation is similar, but optimized and simplified to work on dataframes.\n",
    "\n",
    "In addition, both Pandas and Numpy have functions that extend the default functions of the library and that simplify our life working on dataframes."
   ]
  },
  {
   "cell_type": "code",
   "execution_count": 94,
   "metadata": {},
   "outputs": [
    {
     "output_type": "stream",
     "name": "stdout",
     "text": [
      "2020-04-24 00:00:00\n<class 'pandas._libs.tslibs.timestamps.Timestamp'>\n"
     ]
    }
   ],
   "source": [
    "# convert a column in: to_datetime\n",
    "date = pd.to_datetime('24th of April, 2020')\n",
    "print(date)\n",
    "print(type(date))"
   ]
  },
  {
   "cell_type": "code",
   "execution_count": 99,
   "metadata": {},
   "outputs": [
    {
     "output_type": "stream",
     "name": "stdout",
     "text": [
      "2021-04-11 16:20:37.680910\n2021-04-12 16:20:37.680910\n"
     ]
    }
   ],
   "source": [
    "# timedelta\n",
    "import numpy as np\n",
    "date = datetime.now()\n",
    "# present date\n",
    "print(date)\n",
    "# date after 1 day\n",
    "print(date + pd.to_timedelta(1, unit='D'))\n",
    "# date after 1 month\n",
    "# print(date + pd.to_timedelta(1, unit='M'))"
   ]
  },
  {
   "cell_type": "markdown",
   "metadata": {},
   "source": [
    "## From SQL to Pandas example\n",
    "\n",
    "Pandas is very useful to manipulate data, some of you will be more used to using sql or excel.  \n",
    "So let's see a parallelism between SQL syntax that you might write in your queries versus how you might write it with python"
   ]
  },
  {
   "cell_type": "code",
   "execution_count": null,
   "metadata": {},
   "outputs": [],
   "source": [
    "!pip install nycflights13"
   ]
  },
  {
   "cell_type": "code",
   "execution_count": 93,
   "metadata": {},
   "outputs": [
    {
     "name": "stdout",
     "output_type": "stream",
     "text": [
      "['year', 'month', 'day', 'dep_time', 'sched_dep_time', 'dep_delay', 'arr_time', 'sched_arr_time', 'arr_delay', 'carrier', 'flight', 'tailnum', 'origin', 'dest', 'air_time', 'distance', 'hour', 'minute', 'time_hour']\n"
     ]
    },
    {
     "data": {
      "text/html": "<div>\n<style scoped>\n    .dataframe tbody tr th:only-of-type {\n        vertical-align: middle;\n    }\n\n    .dataframe tbody tr th {\n        vertical-align: top;\n    }\n\n    .dataframe thead th {\n        text-align: right;\n    }\n</style>\n<table border=\"1\" class=\"dataframe\">\n  <thead>\n    <tr style=\"text-align: right;\">\n      <th></th>\n      <th>year</th>\n      <th>month</th>\n      <th>day</th>\n      <th>dep_time</th>\n      <th>sched_dep_time</th>\n      <th>dep_delay</th>\n      <th>arr_time</th>\n      <th>sched_arr_time</th>\n      <th>arr_delay</th>\n      <th>carrier</th>\n      <th>flight</th>\n      <th>tailnum</th>\n      <th>origin</th>\n      <th>dest</th>\n      <th>air_time</th>\n      <th>distance</th>\n      <th>hour</th>\n      <th>minute</th>\n      <th>time_hour</th>\n    </tr>\n  </thead>\n  <tbody>\n    <tr>\n      <th>0</th>\n      <td>2013</td>\n      <td>1</td>\n      <td>1</td>\n      <td>517.0</td>\n      <td>515</td>\n      <td>2.0</td>\n      <td>830.0</td>\n      <td>819</td>\n      <td>11.0</td>\n      <td>UA</td>\n      <td>1545</td>\n      <td>N14228</td>\n      <td>EWR</td>\n      <td>IAH</td>\n      <td>227.0</td>\n      <td>1400</td>\n      <td>5</td>\n      <td>15</td>\n      <td>2013-01-01T10:00:00Z</td>\n    </tr>\n    <tr>\n      <th>1</th>\n      <td>2013</td>\n      <td>1</td>\n      <td>1</td>\n      <td>533.0</td>\n      <td>529</td>\n      <td>4.0</td>\n      <td>850.0</td>\n      <td>830</td>\n      <td>20.0</td>\n      <td>UA</td>\n      <td>1714</td>\n      <td>N24211</td>\n      <td>LGA</td>\n      <td>IAH</td>\n      <td>227.0</td>\n      <td>1416</td>\n      <td>5</td>\n      <td>29</td>\n      <td>2013-01-01T10:00:00Z</td>\n    </tr>\n    <tr>\n      <th>2</th>\n      <td>2013</td>\n      <td>1</td>\n      <td>1</td>\n      <td>542.0</td>\n      <td>540</td>\n      <td>2.0</td>\n      <td>923.0</td>\n      <td>850</td>\n      <td>33.0</td>\n      <td>AA</td>\n      <td>1141</td>\n      <td>N619AA</td>\n      <td>JFK</td>\n      <td>MIA</td>\n      <td>160.0</td>\n      <td>1089</td>\n      <td>5</td>\n      <td>40</td>\n      <td>2013-01-01T10:00:00Z</td>\n    </tr>\n    <tr>\n      <th>3</th>\n      <td>2013</td>\n      <td>1</td>\n      <td>1</td>\n      <td>544.0</td>\n      <td>545</td>\n      <td>-1.0</td>\n      <td>1004.0</td>\n      <td>1022</td>\n      <td>-18.0</td>\n      <td>B6</td>\n      <td>725</td>\n      <td>N804JB</td>\n      <td>JFK</td>\n      <td>BQN</td>\n      <td>183.0</td>\n      <td>1576</td>\n      <td>5</td>\n      <td>45</td>\n      <td>2013-01-01T10:00:00Z</td>\n    </tr>\n    <tr>\n      <th>4</th>\n      <td>2013</td>\n      <td>1</td>\n      <td>1</td>\n      <td>554.0</td>\n      <td>600</td>\n      <td>-6.0</td>\n      <td>812.0</td>\n      <td>837</td>\n      <td>-25.0</td>\n      <td>DL</td>\n      <td>461</td>\n      <td>N668DN</td>\n      <td>LGA</td>\n      <td>ATL</td>\n      <td>116.0</td>\n      <td>762</td>\n      <td>6</td>\n      <td>0</td>\n      <td>2013-01-01T11:00:00Z</td>\n    </tr>\n    <tr>\n      <th>5</th>\n      <td>2013</td>\n      <td>1</td>\n      <td>1</td>\n      <td>554.0</td>\n      <td>558</td>\n      <td>-4.0</td>\n      <td>740.0</td>\n      <td>728</td>\n      <td>12.0</td>\n      <td>UA</td>\n      <td>1696</td>\n      <td>N39463</td>\n      <td>EWR</td>\n      <td>ORD</td>\n      <td>150.0</td>\n      <td>719</td>\n      <td>5</td>\n      <td>58</td>\n      <td>2013-01-01T10:00:00Z</td>\n    </tr>\n    <tr>\n      <th>6</th>\n      <td>2013</td>\n      <td>1</td>\n      <td>1</td>\n      <td>555.0</td>\n      <td>600</td>\n      <td>-5.0</td>\n      <td>913.0</td>\n      <td>854</td>\n      <td>19.0</td>\n      <td>B6</td>\n      <td>507</td>\n      <td>N516JB</td>\n      <td>EWR</td>\n      <td>FLL</td>\n      <td>158.0</td>\n      <td>1065</td>\n      <td>6</td>\n      <td>0</td>\n      <td>2013-01-01T11:00:00Z</td>\n    </tr>\n    <tr>\n      <th>7</th>\n      <td>2013</td>\n      <td>1</td>\n      <td>1</td>\n      <td>557.0</td>\n      <td>600</td>\n      <td>-3.0</td>\n      <td>709.0</td>\n      <td>723</td>\n      <td>-14.0</td>\n      <td>EV</td>\n      <td>5708</td>\n      <td>N829AS</td>\n      <td>LGA</td>\n      <td>IAD</td>\n      <td>53.0</td>\n      <td>229</td>\n      <td>6</td>\n      <td>0</td>\n      <td>2013-01-01T11:00:00Z</td>\n    </tr>\n    <tr>\n      <th>8</th>\n      <td>2013</td>\n      <td>1</td>\n      <td>1</td>\n      <td>557.0</td>\n      <td>600</td>\n      <td>-3.0</td>\n      <td>838.0</td>\n      <td>846</td>\n      <td>-8.0</td>\n      <td>B6</td>\n      <td>79</td>\n      <td>N593JB</td>\n      <td>JFK</td>\n      <td>MCO</td>\n      <td>140.0</td>\n      <td>944</td>\n      <td>6</td>\n      <td>0</td>\n      <td>2013-01-01T11:00:00Z</td>\n    </tr>\n    <tr>\n      <th>9</th>\n      <td>2013</td>\n      <td>1</td>\n      <td>1</td>\n      <td>558.0</td>\n      <td>600</td>\n      <td>-2.0</td>\n      <td>753.0</td>\n      <td>745</td>\n      <td>8.0</td>\n      <td>AA</td>\n      <td>301</td>\n      <td>N3ALAA</td>\n      <td>LGA</td>\n      <td>ORD</td>\n      <td>138.0</td>\n      <td>733</td>\n      <td>6</td>\n      <td>0</td>\n      <td>2013-01-01T11:00:00Z</td>\n    </tr>\n  </tbody>\n</table>\n</div>",
      "text/plain": "   year  month  day  dep_time  sched_dep_time  dep_delay  arr_time  \\\n0  2013      1    1     517.0             515        2.0     830.0   \n1  2013      1    1     533.0             529        4.0     850.0   \n2  2013      1    1     542.0             540        2.0     923.0   \n3  2013      1    1     544.0             545       -1.0    1004.0   \n4  2013      1    1     554.0             600       -6.0     812.0   \n5  2013      1    1     554.0             558       -4.0     740.0   \n6  2013      1    1     555.0             600       -5.0     913.0   \n7  2013      1    1     557.0             600       -3.0     709.0   \n8  2013      1    1     557.0             600       -3.0     838.0   \n9  2013      1    1     558.0             600       -2.0     753.0   \n\n   sched_arr_time  arr_delay carrier  flight tailnum origin dest  air_time  \\\n0             819       11.0      UA    1545  N14228    EWR  IAH     227.0   \n1             830       20.0      UA    1714  N24211    LGA  IAH     227.0   \n2             850       33.0      AA    1141  N619AA    JFK  MIA     160.0   \n3            1022      -18.0      B6     725  N804JB    JFK  BQN     183.0   \n4             837      -25.0      DL     461  N668DN    LGA  ATL     116.0   \n5             728       12.0      UA    1696  N39463    EWR  ORD     150.0   \n6             854       19.0      B6     507  N516JB    EWR  FLL     158.0   \n7             723      -14.0      EV    5708  N829AS    LGA  IAD      53.0   \n8             846       -8.0      B6      79  N593JB    JFK  MCO     140.0   \n9             745        8.0      AA     301  N3ALAA    LGA  ORD     138.0   \n\n   distance  hour  minute             time_hour  \n0      1400     5      15  2013-01-01T10:00:00Z  \n1      1416     5      29  2013-01-01T10:00:00Z  \n2      1089     5      40  2013-01-01T10:00:00Z  \n3      1576     5      45  2013-01-01T10:00:00Z  \n4       762     6       0  2013-01-01T11:00:00Z  \n5       719     5      58  2013-01-01T10:00:00Z  \n6      1065     6       0  2013-01-01T11:00:00Z  \n7       229     6       0  2013-01-01T11:00:00Z  \n8       944     6       0  2013-01-01T11:00:00Z  \n9       733     6       0  2013-01-01T11:00:00Z  "
     },
     "execution_count": 93,
     "metadata": {},
     "output_type": "execute_result"
    }
   ],
   "source": [
    "from nycflights13 import flights\n",
    "\n",
    "print(list(flights.columns))\n",
    "\n",
    "flights.head(10)"
   ]
  },
  {
   "cell_type": "code",
   "execution_count": 86,
   "metadata": {},
   "outputs": [
    {
     "ename": "TypeError",
     "evalue": "'DataFrame' object is not callable",
     "output_type": "error",
     "traceback": [
      "\u001b[0;31m---------------------------------------------------------------------------\u001b[0m",
      "\u001b[0;31mTypeError\u001b[0m                                 Traceback (most recent call last)",
      "\u001b[0;32m<ipython-input-86-c9e280e1a139>\u001b[0m in \u001b[0;36m<module>\u001b[0;34m\u001b[0m\n\u001b[1;32m      6\u001b[0m \u001b[0;34m\u001b[0m\u001b[0m\n\u001b[1;32m      7\u001b[0m \u001b[0;31m#select Year, month, Delay, Origin, Destination from dataframe where Delay > 0 and Distance < 1000\u001b[0m\u001b[0;34m\u001b[0m\u001b[0;34m\u001b[0m\u001b[0;34m\u001b[0m\u001b[0m\n\u001b[0;32m----> 8\u001b[0;31m \u001b[0mflights\u001b[0m\u001b[0;34m[\u001b[0m\u001b[0;34m(\u001b[0m\u001b[0mflights\u001b[0m\u001b[0;34m(\u001b[0m\u001b[0;34m'dealy'\u001b[0m\u001b[0;34m)\u001b[0m \u001b[0;34m>\u001b[0m \u001b[0;36m0\u001b[0m\u001b[0;34m)\u001b[0m \u001b[0;34m&\u001b[0m \u001b[0;34m(\u001b[0m\u001b[0mflights\u001b[0m\u001b[0;34m.\u001b[0m\u001b[0mdistance\u001b[0m \u001b[0;34m<\u001b[0m \u001b[0;36m1000\u001b[0m\u001b[0;34m)\u001b[0m\u001b[0;34m]\u001b[0m\u001b[0;34m[\u001b[0m\u001b[0;34m[\u001b[0m\u001b[0;34m'year'\u001b[0m\u001b[0;34m,\u001b[0m\u001b[0;34m'month'\u001b[0m\u001b[0;34m,\u001b[0m\u001b[0;34m'delay'\u001b[0m\u001b[0;34m,\u001b[0m\u001b[0;34m'origin'\u001b[0m\u001b[0;34m]\u001b[0m\u001b[0;34m]\u001b[0m\u001b[0;34m\u001b[0m\u001b[0;34m\u001b[0m\u001b[0m\n\u001b[0m\u001b[1;32m      9\u001b[0m \u001b[0;34m\u001b[0m\u001b[0m\n\u001b[1;32m     10\u001b[0m \u001b[0;31m# select * from dataframe where Capo Area = 'Area T1' order by Codice desc\u001b[0m\u001b[0;34m\u001b[0m\u001b[0;34m\u001b[0m\u001b[0;34m\u001b[0m\u001b[0m\n",
      "\u001b[0;31mTypeError\u001b[0m: 'DataFrame' object is not callable"
     ]
    }
   ],
   "source": [
    "# select origin from flights where no departue delay \n",
    "flights[flights['dep_delay'] > 0]['origin']\n",
    "\n",
    "# select distinct destinations from dataframe\n",
    "flights['dest'].unique()\n",
    "\n",
    "#select Year, month, Delay, Origin, Destination from dataframe where Delay > 0 and Distance < 1000\n",
    "#and reset the index keeping the previous one (the original index)\n",
    "flights[(flights['dep_delay'] > 0) & (flights.distance < 1000)][['year','month','dep_delay','origin']].reset_index()\n",
    "\n",
    "# select * from dataframe where Delay > 0 order by Distance desc\n",
    "flights[flights['dep_delay'] > 0].sort_values('distance',ascending = False)\n",
    "\n",
    "# select count(*) from dataframe group by year and month\n",
    "# as_index = False is required to emulate the SQL function\n",
    "# otherwise Pandas the grouped-on columns are pushed into the MultiIndex of the resulting Series by default\n",
    "flights.groupby(['year','month'])[['year','month','origin','dest']].count()\n",
    "flights.groupby(['year','month'],as_index=False)[['year','month','origin','dest']].count()\n",
    "\n",
    "# select count(year) as ANNO, count(month) as MESE from dataframe group by year and month\n",
    "# To emulate the SQL group by it's required only to use sort = False\n",
    "# because Pandas use the sort function by default\n",
    "flights.groupby(['year','month'],as_index=False, sort=False)['year','month'].count()\n",
    "\n",
    "# select Origin, Destination count(*) from dataframe group by Year and Month\n",
    "# Using .count() excludes NaN values, while .size() includes everything, NaN or not.\n",
    "flights.groupby(['year','month'],as_index=False)['origin','destination'].size()\n",
    "\n",
    "\n",
    "### AGGREGATE FUNCTIONS: MIN, MAX, MEAN ###\n",
    "# select max(Arrival Time), min(Arrival Time), avg(Arrival Time), median(Arrival Time) from dataframe\n",
    "flights.agg({'arr_time': ['min', 'max', 'mean', 'median']})\n",
    "\n",
    "### JOIN ###\n",
    "# select Capo Area, Premi Anno Prec, df_anagrafica.'Specialista Di Territorio' from df_test join df_anagrafica on df_test.CapoArea = df_anagrafica.CapoArea where df_anagafica.CapoArea = 'Area T1'\n",
    "# df_test.merge(df_anagrafica[df_anagrafica['Capo Area'] == 'Area T1'][['Specialista Di Territorio','Capo Area']], \n",
    "#               left_on=['Capo Area'], \n",
    "#               right_on=['Capo Area'], \n",
    "#               how='inner')[['Capo Area', 'Premi Anno Prec', 'Specialista Di Territorio']]"
   ]
  },
  {
   "cell_type": "markdown",
   "metadata": {},
   "source": [
    "## Verify time of execution\n",
    "\n",
    "There are two main ways to verify the execution time of a function:\n",
    "1. Using `Jupyter Magics Commands` if you are using Jupyter Notebooks\n",
    "2. Using the library time of python standard library\n",
    "\n",
    "Interesting article on how to benchmark functions in Python  \n",
    "https://towardsdatascience.com/how-to-benchmark-functions-in-python-ed10522053a2"
   ]
  },
  {
   "cell_type": "markdown",
   "metadata": {},
   "source": [
    "### With Jupyter Magics\n",
    "Jupyter Notebook provides some very useful commands called: `Magics`.\n",
    "\n",
    "One of these commands is `%%time` which allows you to check the execution time of a cell.\n",
    "\n",
    "It is very useful because you can see how long a code inside a cell takes to be executed.\n",
    "\n",
    "It's also possible to visualize the execution time of a single function by writing `%%timeit <function>`  \n",
    "Timeit it's much more complete the time because time only print the time of execution of a single cell"
   ]
  },
  {
   "cell_type": "code",
   "execution_count": 1,
   "metadata": {},
   "outputs": [
    {
     "output_type": "stream",
     "name": "stdout",
     "text": [
      "100000\nCPU times: user 5.44 ms, sys: 3.55 ms, total: 8.99 ms\nWall time: 9.4 ms\n"
     ]
    }
   ],
   "source": [
    "%%time\n",
    "lst = [i for i in range(100000)]\n",
    "\n",
    "print(len(lst))"
   ]
  },
  {
   "cell_type": "code",
   "execution_count": 101,
   "metadata": {},
   "outputs": [
    {
     "output_type": "stream",
     "name": "stdout",
     "text": [
      "6.34 ms ± 1.05 ms per loop (mean ± std. dev. of 7 runs, 100 loops each)\n"
     ]
    }
   ],
   "source": [
    "%timeit lst = [i for i in range(100000)]"
   ]
  },
  {
   "cell_type": "code",
   "execution_count": 102,
   "metadata": {},
   "outputs": [
    {
     "output_type": "stream",
     "name": "stdout",
     "text": [
      "100000\n--- 0.01683354377746582 seconds ---\n"
     ]
    }
   ],
   "source": [
    "#Using the python standard library timer\n",
    "import time\n",
    "#Launch the timer\n",
    "start_time = time.time()\n",
    "\n",
    "lst = [i for i in range(100000)]\n",
    "\n",
    "print(len(lst))\n",
    "\n",
    "#guardiamo il risultato\n",
    "finish_time = time.time()\n",
    "print(\"--- %s seconds ---\" % (finish_time - start_time))"
   ]
  },
  {
   "cell_type": "code",
   "execution_count": null,
   "metadata": {},
   "outputs": [],
   "source": []
  }
 ],
 "metadata": {
  "colab": {
   "name": "Copy of lab1-pandas-intro.ipynb",
   "provenance": []
  },
  "jupytext": {
   "cell_metadata_filter": "incorrectly_encoded_metadata,eval,title,tags,name,purl,-all",
   "main_language": "python",
   "notebook_metadata_filter": "-all"
  },
  "kernelspec": {
   "name": "python3",
   "display_name": "Python 3.8.5 64-bit ('venv': venv)",
   "metadata": {
    "interpreter": {
     "hash": "9b2e9e2abef6298b8ccadd32fc3e060f0b962ea7b1737121f43b38c331ab0700"
    }
   }
  },
  "language_info": {
   "codemirror_mode": {
    "name": "ipython",
    "version": 3
   },
   "file_extension": ".py",
   "mimetype": "text/x-python",
   "name": "python",
   "nbconvert_exporter": "python",
   "pygments_lexer": "ipython3",
   "version": "3.8.5"
  },
  "toc": {
   "base_numbering": 1,
   "nav_menu": {},
   "number_sections": true,
   "sideBar": true,
   "skip_h1_title": false,
   "title_cell": "Table of Contents",
   "title_sidebar": "Contents",
   "toc_cell": false,
   "toc_position": {},
   "toc_section_display": true,
   "toc_window_display": true
  }
 },
 "nbformat": 4,
 "nbformat_minor": 5
}