{
 "cells": [
  {
   "cell_type": "markdown",
   "metadata": {},
   "source": [
    "# Papermill Report Generator"
   ]
  },
  {
   "cell_type": "code",
   "execution_count": 1,
   "metadata": {
    "tags": []
   },
   "outputs": [
    {
     "name": "stderr",
     "output_type": "stream",
     "text": [
      "/Users/jeydi/Dropbox/Progetti/PERSONALI/docker-starter-kit/python/streamlit-example/.venv/lib/python3.8/site-packages/pandas/compat/__init__.py:97: UserWarning: Could not import the lzma module. Your installed Python is incomplete. Attempting to use lzma compression will result in a RuntimeError.\n",
      "  warnings.warn(msg)\n"
     ]
    }
   ],
   "source": [
    "import os\n",
    "import pandas as pd\n",
    "import numpy as np\n",
    "import plotnine as pn\n",
    "import seaborn as sns\n",
    "import datetime as dt\n",
    "import matplotlib.pyplot as plt\n",
    "import pdfkit"
   ]
  },
  {
   "cell_type": "code",
   "execution_count": 2,
   "metadata": {},
   "outputs": [],
   "source": [
    "#Check Dataframe Utility function\n",
    "def check_df(dataframe, sample=False):\n",
    "    \n",
    "    print(f\"Dataframe Shape: {dataframe.shape} with rows: {dataframe.shape[0]} and columns: {dataframe.shape[1]}\")\n",
    "    print(f\"\\nDF Columns: \\n{list(dataframe.columns)}\")\n",
    "    if sample == True:\n",
    "        print(f\"\\nData:\\n{dataframe.head(5)}\")\n",
    "    \n",
    "    return None"
   ]
  },
  {
   "cell_type": "code",
   "execution_count": 3,
   "metadata": {
    "tags": [
     "parameters"
    ]
   },
   "outputs": [],
   "source": [
    "#Define the default parameters\n",
    "analysis = \"listings\""
   ]
  },
  {
   "cell_type": "code",
   "execution_count": 4,
   "metadata": {},
   "outputs": [],
   "source": [
    "#Import the data\n",
    "def import_data(analysis, folder_path=None):\n",
    "    \n",
    "    if not folder_path:\n",
    "        folder_path = os.path.abspath(\".\")\n",
    "        data_dir = 'data'\n",
    "        folder_path = os.path.join(folder_path, data_dir)\n",
    "        \n",
    "    if analysis == 'listings':\n",
    "        filename = 'listings.csv'\n",
    "    elif analysis == 'reviews':\n",
    "        filename = 'reviews.csv'\n",
    "    elif analysis == 'calendar':\n",
    "        filename = 'calendar.csv'\n",
    "    \n",
    "    filepath = os.path.join(folder_path, filename)\n",
    "    df = pd.read_csv(filepath)\n",
    "    check_df(df)\n",
    "    \n",
    "    return df"
   ]
  },
  {
   "cell_type": "code",
   "execution_count": 5,
   "metadata": {},
   "outputs": [
    {
     "name": "stdout",
     "output_type": "stream",
     "text": [
      "Dataframe Shape: (27647, 74) with rows: 27647 and columns: 74\n",
      "\n",
      "DF Columns: \n",
      "['id', 'listing_url', 'scrape_id', 'last_scraped', 'name', 'description', 'neighborhood_overview', 'picture_url', 'host_id', 'host_url', 'host_name', 'host_since', 'host_location', 'host_about', 'host_response_time', 'host_response_rate', 'host_acceptance_rate', 'host_is_superhost', 'host_thumbnail_url', 'host_picture_url', 'host_neighbourhood', 'host_listings_count', 'host_total_listings_count', 'host_verifications', 'host_has_profile_pic', 'host_identity_verified', 'neighbourhood', 'neighbourhood_cleansed', 'neighbourhood_group_cleansed', 'latitude', 'longitude', 'property_type', 'room_type', 'accommodates', 'bathrooms', 'bathrooms_text', 'bedrooms', 'beds', 'amenities', 'price', 'minimum_nights', 'maximum_nights', 'minimum_minimum_nights', 'maximum_minimum_nights', 'minimum_maximum_nights', 'maximum_maximum_nights', 'minimum_nights_avg_ntm', 'maximum_nights_avg_ntm', 'calendar_updated', 'has_availability', 'availability_30', 'availability_60', 'availability_90', 'availability_365', 'calendar_last_scraped', 'number_of_reviews', 'number_of_reviews_ltm', 'number_of_reviews_l30d', 'first_review', 'last_review', 'review_scores_rating', 'review_scores_accuracy', 'review_scores_cleanliness', 'review_scores_checkin', 'review_scores_communication', 'review_scores_location', 'review_scores_value', 'license', 'instant_bookable', 'calculated_host_listings_count', 'calculated_host_listings_count_entire_homes', 'calculated_host_listings_count_private_rooms', 'calculated_host_listings_count_shared_rooms', 'reviews_per_month']\n",
      "Listings dataset readed and parsed\n"
     ]
    }
   ],
   "source": [
    "## Data cleaning Listings\n",
    "\n",
    "@np.vectorize\n",
    "def remove_dollar(label: str):\n",
    "    return float(label.replace('$','').replace(',',''))\n",
    "\n",
    "if analysis == 'listings':\n",
    "    \n",
    "    #Import dei dati\n",
    "    df = import_data(analysis)\n",
    "    \n",
    "    # Selezioniamo solo alcune delle colonne\n",
    "    listings = df[[\n",
    "        'id','name','longitude','latitude',\n",
    "        'listing_url',\n",
    "        'instant_bookable',\n",
    "        'host_response_time',\n",
    "        'review_scores_rating',\n",
    "        'property_type',\n",
    "        'room_type','accommodates',\n",
    "        'bathrooms','bedrooms','beds','reviews_per_month','amenities',\n",
    "        'number_of_reviews',\n",
    "        'price'\n",
    "    ]]\n",
    "    #listings['price'] = remove_dollar(listings['price'])\n",
    "    listings = listings.assign(price = remove_dollar(listings.price))\n",
    "    listings[['price']]\n",
    "    print(\"Listings dataset readed and parsed\")\n",
    "    df_clean = listings.copy()"
   ]
  },
  {
   "cell_type": "code",
   "execution_count": 6,
   "metadata": {},
   "outputs": [],
   "source": [
    "## Data cleaning Reviews\n",
    "\n",
    "if analysis == 'reviews':\n",
    "    \n",
    "    #Import dei dati\n",
    "    df = import_data(analysis)\n",
    "    \n",
    "    #Date to datetime\n",
    "    reviews = df.assign(date = pd.to_datetime(df['date']))\n",
    "    reviews['year'] = reviews['date'].dt.year\n",
    "    reviews['month'] = reviews['date'].dt.month\n",
    "    reviews = reviews.sort_values(['year', 'month'], ascending=False)\n",
    "    print(\"Reviews dataset readed and parsed\")\n",
    "    df_clean = reviews.copy()\n",
    "    \n",
    "    "
   ]
  },
  {
   "cell_type": "code",
   "execution_count": 7,
   "metadata": {},
   "outputs": [],
   "source": [
    "## Data cleaning Calendar\n",
    "\n",
    "if analysis == 'calendar':\n",
    "    \n",
    "    # Import dei dati\n",
    "    df = import_data(analysis)\n",
    "    \n",
    "    calendar = df.assign(date = pd.to_datetime(df['date']))\n",
    "    calendar = calendar.assign(\n",
    "        price          = pd.to_numeric(calendar.price.str.replace('$','').str.replace(',','')),\n",
    "        # adjusted_price = pd.to_numeric(calendar.adjusted_price.str.replace('$','').str.replace(',','')),\n",
    "    )\n",
    "    calendar['year'] = pd.DatetimeIndex(calendar['date']).year\n",
    "    calendar['month'] = pd.DatetimeIndex(calendar['date']).month\n",
    "    calendar = calendar.sort_values(['year', 'month'], ascending=False)\n",
    "    calendar['available'] = calendar.available.map({\n",
    "        't': True,\n",
    "        'f': False\n",
    "    })\n",
    "    print(\"Calendar dataset readed and parsed\")\n",
    "    df_clean = calendar.copy()"
   ]
  },
  {
   "cell_type": "markdown",
   "metadata": {},
   "source": [
    "# 2. Generate analysis and plots"
   ]
  },
  {
   "cell_type": "code",
   "execution_count": 8,
   "metadata": {},
   "outputs": [],
   "source": [
    "# Simple Analysis Generation\n",
    "if analysis == 'listings':\n",
    "    room_type_count = (\n",
    "                df_clean.groupby(\"room_type\", dropna=False)\n",
    "                .id.count()\n",
    "                .reset_index()\n",
    "                .rename(columns={\"id\": \"listing_count\"})\n",
    "            )\n",
    "    night_price = df_clean.agg({\"price\": [np.mean]})\n",
    "    night_price_room = df_clean.groupby(\"room_type\").agg(\n",
    "                {\"price\": [np.mean]}\n",
    "            )\n",
    "elif analysis == 'reviews':\n",
    "    pass\n",
    "elif analysis == 'calendar':\n",
    "    pass"
   ]
  },
  {
   "cell_type": "code",
   "execution_count": 9,
   "metadata": {},
   "outputs": [
    {
     "name": "stderr",
     "output_type": "stream",
     "text": [
      "/Users/jeydi/Dropbox/Progetti/PERSONALI/docker-starter-kit/python/streamlit-example/.venv/lib/python3.8/site-packages/plotnine/ggplot.py:719: PlotnineWarning: Saving 6.4 x 4.8 in image.\n",
      "/Users/jeydi/Dropbox/Progetti/PERSONALI/docker-starter-kit/python/streamlit-example/.venv/lib/python3.8/site-packages/plotnine/ggplot.py:722: PlotnineWarning: Filename: /Users/jeydi/Dropbox/Progetti/PERSONALI/docker-starter-kit/python/streamlit-example/notebooks/plot1.png\n",
      "/Users/jeydi/Dropbox/Progetti/PERSONALI/docker-starter-kit/python/streamlit-example/.venv/lib/python3.8/site-packages/plotnine/ggplot.py:719: PlotnineWarning: Saving 6.4 x 4.8 in image.\n",
      "/Users/jeydi/Dropbox/Progetti/PERSONALI/docker-starter-kit/python/streamlit-example/.venv/lib/python3.8/site-packages/plotnine/ggplot.py:722: PlotnineWarning: Filename: /Users/jeydi/Dropbox/Progetti/PERSONALI/docker-starter-kit/python/streamlit-example/notebooks/plot2.png\n",
      "/Users/jeydi/Dropbox/Progetti/PERSONALI/docker-starter-kit/python/streamlit-example/.venv/lib/python3.8/site-packages/plotnine/layer.py:324: PlotnineWarning: stat_bin : Removed 1722 rows containing non-finite values.\n",
      "/Users/jeydi/Dropbox/Progetti/PERSONALI/docker-starter-kit/python/streamlit-example/.venv/lib/python3.8/site-packages/plotnine/layer.py:401: PlotnineWarning: geom_histogram : Removed 2 rows containing missing values.\n"
     ]
    }
   ],
   "source": [
    "# Simply Plot Generation\n",
    "if analysis == 'listings':\n",
    "    fig1 = (\n",
    "            pn.ggplot(df_clean)\n",
    "            + pn.aes(x='room_type', fill='room_type')\n",
    "            + pn.geom_bar()\n",
    "            + pn.theme(axis_text_x=pn.element_text(angle=45, hjust=1))\n",
    "        )\n",
    "    fig1_path = os.path.join(os.path.abspath('.'),'plot1.png')\n",
    "    fig1.save(filename=fig1_path)\n",
    "    \n",
    "    fig2 = (\n",
    "            pn.ggplot(df_clean)\n",
    "            + pn.aes(x=\"price\")\n",
    "            + pn.geom_histogram(fill=\"blue\", colour=\"black\", bins=30)\n",
    "            + pn.xlim(0, 200)\n",
    "        )\n",
    "    fig2_path = os.path.join(os.path.abspath('.'),'plot2.png')\n",
    "    fig2.save(filename=fig2_path)\n",
    "    \n",
    "elif analysis == 'reviews':\n",
    "    pass\n",
    "elif analysis == 'calendar':\n",
    "    pass"
   ]
  },
  {
   "cell_type": "markdown",
   "metadata": {},
   "source": [
    "# 3. Creating the final PDF Report"
   ]
  },
  {
   "cell_type": "code",
   "execution_count": 10,
   "metadata": {},
   "outputs": [],
   "source": [
    "# Defining start and send date for the analysis\n",
    "today = str(dt.date.today()).replace('-', '/')\n"
   ]
  },
  {
   "cell_type": "code",
   "execution_count": 11,
   "metadata": {},
   "outputs": [],
   "source": [
    "# HTML template to add our data and plots\n",
    "report_template = f'''\n",
    "<!DOCTYPE html>\n",
    "    <html>\n",
    "      <head>\n",
    "        <meta charset='utf-8'>\n",
    "        <title>PythonBiellaGroup Report Example</title>\n",
    "        <link rel='stylesheet' href='report.css'>\n",
    "          <style>\n",
    "          h1 {{\n",
    "          font-family: Arial;\n",
    "          font-size: 300%;\n",
    "          }}\n",
    "          h2 {{\n",
    "          font-family: Arial;\n",
    "          font-size: 200%;\n",
    "          }}\n",
    "          @page {{\n",
    "          size: 7in 9.25in;\n",
    "          margin: 27mm 16mm 27mm 16mm;\n",
    "          }}\n",
    "          </style>                       \n",
    "      </head>\n",
    "      <h1 align=\"center\">Analysis for: {analysis}</h1>\n",
    "      <h2 align=\"center\">Report date: {today}</h2>      \n",
    "        \n",
    "      <figure>\n",
    "        <img src=\"{fig1_path}\" width=\"1200\" height=\"600\">\n",
    "      </figure>\n",
    "      <figure>\n",
    "        <img src=\"{fig2_path}\" width=\"1200\" height=\"600\">\n",
    "      </figure>      \n",
    "    </html>\n",
    "'''"
   ]
  },
  {
   "cell_type": "code",
   "execution_count": 12,
   "metadata": {},
   "outputs": [],
   "source": [
    "# Save HTML string to file\n",
    "html_report = os.path.join(os.path.abspath(\".\"),f\"{analysis.split(',')[0].replace(' ','_')}_report.html\")\n",
    "with open(html_report, \"w\") as r:\n",
    "    r.write(report_template)"
   ]
  },
  {
   "cell_type": "markdown",
   "metadata": {},
   "source": [
    "Be carefull! To use pdfkit with html report export to pdf you need to install on your machine: `wkhtmltopdf`\n",
    "- https://stackoverflow.com/questions/27673870/cant-create-pdf-using-python-pdfkit-error-no-wkhtmltopdf-executable-found"
   ]
  },
  {
   "cell_type": "code",
   "execution_count": 13,
   "metadata": {},
   "outputs": [
    {
     "ename": "OSError",
     "evalue": "wkhtmltopdf reported an error:\nLoading pages (1/6)\n[>                                                           ] 0%\r[======>                                                     ] 10%\rWarning: Blocked access to file                                   \nWarning: Blocked access to file /Users/jeydi/Dropbox/Progetti/PERSONALI/docker-starter-kit/python/streamlit-example/notebooks/plot1.png\nWarning: Blocked access to file /Users/jeydi/Dropbox/Progetti/PERSONALI/docker-starter-kit/python/streamlit-example/notebooks/plot2.png\n[======>                                                     ] 11%\rError: Failed to load about:blank, with network status code 301 and http status code 0 - Protocol \"about\" is unknown\nError: Failed to load about:blank, with network status code 301 and http status code 0 - Protocol \"about\" is unknown\nError: Failed to load about:blank, with network status code 301 and http status code 0 - Protocol \"about\" is unknown\n[============================================================] 100%\rCounting pages (2/6)                                               \n[============================================================] Object 1 of 1\rResolving links (4/6)                                                       \n[============================================================] Object 1 of 1\rLoading headers and footers (5/6)                                           \nPrinting pages (6/6)\n[>                                                           ] Preparing\r[============================================================] Page 1 of 1\rDone                                                                      \nExit with code 1 due to network error: ProtocolUnknownError\n",
     "output_type": "error",
     "traceback": [
      "\u001b[0;31m---------------------------------------------------------------------------\u001b[0m",
      "\u001b[0;31mOSError\u001b[0m                                   Traceback (most recent call last)",
      "\u001b[0;32m<ipython-input-13-9bca872c7814>\u001b[0m in \u001b[0;36m<module>\u001b[0;34m\u001b[0m\n\u001b[1;32m      1\u001b[0m \u001b[0;31m# Use pdfkit to create the pdf report from the\u001b[0m\u001b[0;34m\u001b[0m\u001b[0;34m\u001b[0m\u001b[0;34m\u001b[0m\u001b[0m\n\u001b[0;32m----> 2\u001b[0;31m \u001b[0mpdfkit\u001b[0m\u001b[0;34m.\u001b[0m\u001b[0mfrom_file\u001b[0m\u001b[0;34m(\u001b[0m\u001b[0mhtml_report\u001b[0m\u001b[0;34m,\u001b[0m \u001b[0mos\u001b[0m\u001b[0;34m.\u001b[0m\u001b[0mpath\u001b[0m\u001b[0;34m.\u001b[0m\u001b[0mjoin\u001b[0m\u001b[0;34m(\u001b[0m\u001b[0mos\u001b[0m\u001b[0;34m.\u001b[0m\u001b[0mpath\u001b[0m\u001b[0;34m.\u001b[0m\u001b[0mabspath\u001b[0m\u001b[0;34m(\u001b[0m\u001b[0;34m\".\"\u001b[0m\u001b[0;34m)\u001b[0m\u001b[0;34m,\u001b[0m\u001b[0;34mf\"{analysis.split(',')[0].replace(' ', '_')}_report.pdf\"\u001b[0m\u001b[0;34m)\u001b[0m\u001b[0;34m)\u001b[0m\u001b[0;34m\u001b[0m\u001b[0;34m\u001b[0m\u001b[0m\n\u001b[0m",
      "\u001b[0;32m~/Dropbox/Progetti/PERSONALI/docker-starter-kit/python/streamlit-example/.venv/lib/python3.8/site-packages/pdfkit/api.py\u001b[0m in \u001b[0;36mfrom_file\u001b[0;34m(input, output_path, options, toc, cover, css, configuration, cover_first)\u001b[0m\n\u001b[1;32m     47\u001b[0m                configuration=configuration, cover_first=cover_first)\n\u001b[1;32m     48\u001b[0m \u001b[0;34m\u001b[0m\u001b[0m\n\u001b[0;32m---> 49\u001b[0;31m     \u001b[0;32mreturn\u001b[0m \u001b[0mr\u001b[0m\u001b[0;34m.\u001b[0m\u001b[0mto_pdf\u001b[0m\u001b[0;34m(\u001b[0m\u001b[0moutput_path\u001b[0m\u001b[0;34m)\u001b[0m\u001b[0;34m\u001b[0m\u001b[0;34m\u001b[0m\u001b[0m\n\u001b[0m\u001b[1;32m     50\u001b[0m \u001b[0;34m\u001b[0m\u001b[0m\n\u001b[1;32m     51\u001b[0m \u001b[0;34m\u001b[0m\u001b[0m\n",
      "\u001b[0;32m~/Dropbox/Progetti/PERSONALI/docker-starter-kit/python/streamlit-example/.venv/lib/python3.8/site-packages/pdfkit/pdfkit.py\u001b[0m in \u001b[0;36mto_pdf\u001b[0;34m(self, path)\u001b[0m\n\u001b[1;32m    154\u001b[0m \u001b[0;34m\u001b[0m\u001b[0m\n\u001b[1;32m    155\u001b[0m         \u001b[0;32mif\u001b[0m \u001b[0;34m'Error'\u001b[0m \u001b[0;32min\u001b[0m \u001b[0mstderr\u001b[0m\u001b[0;34m:\u001b[0m\u001b[0;34m\u001b[0m\u001b[0;34m\u001b[0m\u001b[0m\n\u001b[0;32m--> 156\u001b[0;31m             \u001b[0;32mraise\u001b[0m \u001b[0mIOError\u001b[0m\u001b[0;34m(\u001b[0m\u001b[0;34m'wkhtmltopdf reported an error:\\n'\u001b[0m \u001b[0;34m+\u001b[0m \u001b[0mstderr\u001b[0m\u001b[0;34m)\u001b[0m\u001b[0;34m\u001b[0m\u001b[0;34m\u001b[0m\u001b[0m\n\u001b[0m\u001b[1;32m    157\u001b[0m \u001b[0;34m\u001b[0m\u001b[0m\n\u001b[1;32m    158\u001b[0m         \u001b[0;32mif\u001b[0m \u001b[0mexit_code\u001b[0m \u001b[0;34m!=\u001b[0m \u001b[0;36m0\u001b[0m\u001b[0;34m:\u001b[0m\u001b[0;34m\u001b[0m\u001b[0;34m\u001b[0m\u001b[0m\n",
      "\u001b[0;31mOSError\u001b[0m: wkhtmltopdf reported an error:\nLoading pages (1/6)\n[>                                                           ] 0%\r[======>                                                     ] 10%\rWarning: Blocked access to file                                   \nWarning: Blocked access to file /Users/jeydi/Dropbox/Progetti/PERSONALI/docker-starter-kit/python/streamlit-example/notebooks/plot1.png\nWarning: Blocked access to file /Users/jeydi/Dropbox/Progetti/PERSONALI/docker-starter-kit/python/streamlit-example/notebooks/plot2.png\n[======>                                                     ] 11%\rError: Failed to load about:blank, with network status code 301 and http status code 0 - Protocol \"about\" is unknown\nError: Failed to load about:blank, with network status code 301 and http status code 0 - Protocol \"about\" is unknown\nError: Failed to load about:blank, with network status code 301 and http status code 0 - Protocol \"about\" is unknown\n[============================================================] 100%\rCounting pages (2/6)                                               \n[============================================================] Object 1 of 1\rResolving links (4/6)                                                       \n[============================================================] Object 1 of 1\rLoading headers and footers (5/6)                                           \nPrinting pages (6/6)\n[>                                                           ] Preparing\r[============================================================] Page 1 of 1\rDone                                                                      \nExit with code 1 due to network error: ProtocolUnknownError\n"
     ]
    }
   ],
   "source": [
    "# Use pdfkit to create the pdf report from the \n",
    "pdfkit.from_file(html_report, os.path.join(os.path.abspath(\".\"),f\"{analysis.split(',')[0].replace(' ', '_')}_report.pdf\"))"
   ]
  }
 ],
 "metadata": {
  "kernelspec": {
   "display_name": "Python 3",
   "language": "python",
   "name": "python3"
  },
  "language_info": {
   "codemirror_mode": {
    "name": "ipython",
    "version": 3
   },
   "file_extension": ".py",
   "mimetype": "text/x-python",
   "name": "python",
   "nbconvert_exporter": "python",
   "pygments_lexer": "ipython3",
   "version": "3.8.7"
  }
 },
 "nbformat": 4,
 "nbformat_minor": 4
}
